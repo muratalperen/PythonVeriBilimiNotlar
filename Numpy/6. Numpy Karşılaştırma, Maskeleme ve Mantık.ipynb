{
 "cells": [
  {
   "cell_type": "markdown",
   "metadata": {},
   "source": [
    "## Dizilerde Karşılaştırma\n",
    "\n",
    "Pythondaki karşılaştırma operatörlerini dizilerde de kullanabilirsiniz. Bu durumda karşılaştırma dizinin her elemanına yapılacak, True ve False'lardan oluşan bir dizi dönecektir."
   ]
  },
  {
   "cell_type": "code",
   "execution_count": 1,
   "metadata": {},
   "outputs": [],
   "source": [
    "import numpy as np"
   ]
  },
  {
   "cell_type": "code",
   "execution_count": 2,
   "metadata": {},
   "outputs": [
    {
     "data": {
      "text/plain": [
       "array([ True,  True, False, False, False])"
      ]
     },
     "execution_count": 2,
     "metadata": {},
     "output_type": "execute_result"
    }
   ],
   "source": [
    "dizi = np.array([1, 2, 3, 4, 5])\n",
    "dizi < 3"
   ]
  },
  {
   "cell_type": "markdown",
   "metadata": {},
   "source": [
    "Ayrıca diziler arasında karşılaştırma da yapabilirsiniz. [Broadcasting kuralları](#) aynen geçerlidir."
   ]
  },
  {
   "cell_type": "code",
   "execution_count": 3,
   "metadata": {},
   "outputs": [
    {
     "data": {
      "text/plain": [
       "array([False, False,  True,  True,  True])"
      ]
     },
     "execution_count": 3,
     "metadata": {},
     "output_type": "execute_result"
    }
   ],
   "source": [
    "(dizi % 3) != dizi # dizinin elemanları üçe bölününce kalanı kendisine eşit olmayanlar"
   ]
  },
  {
   "cell_type": "markdown",
   "metadata": {},
   "source": [
    "## Boolean Dizilerle Çalışma\n",
    "\n",
    "Gördüğümüz gibi `dizi < 6` gibi yazımlar bool dizi veriyordu. Şimdi bu bool dizilerle bazı işlemler yapacağız.\n",
    "\n",
    "Bir bool dizinin içindeki True sayısını `np.count_nonzero()` fonksiyonu ile bulabilirsiniz."
   ]
  },
  {
   "cell_type": "code",
   "execution_count": 4,
   "metadata": {},
   "outputs": [
    {
     "data": {
      "text/plain": [
       "2"
      ]
     },
     "execution_count": 4,
     "metadata": {},
     "output_type": "execute_result"
    }
   ],
   "source": [
    "np.count_nonzero(dizi < 3)"
   ]
  },
  {
   "cell_type": "markdown",
   "metadata": {},
   "source": [
    "`axis` parametresi belirterek istediğimiz eksen üzerinde çalışabiliyoruz:"
   ]
  },
  {
   "cell_type": "code",
   "execution_count": 5,
   "metadata": {},
   "outputs": [
    {
     "name": "stdout",
     "output_type": "stream",
     "text": [
      "Dizi: [[  1  10 100]\n",
      " [  2  20 200]]\n",
      "Satırdaki 15'den küçük eleman sayısı: [2 1]\n"
     ]
    }
   ],
   "source": [
    "dizi2d = np.array([[1, 10, 100], [2, 20, 200]])\n",
    "print(\"Dizi:\", dizi2d)\n",
    "print(\"Satırdaki 15'den küçük eleman sayısı:\", np.count_nonzero(dizi2d < 15, axis=1))"
   ]
  },
  {
   "cell_type": "markdown",
   "metadata": {},
   "source": [
    "Tüm değerlerin True veya False olup olmadığını kontrol etmek için [Aggregation bölümünde](#) gördüğümüz `np.any` ve `np.all` fonksiyonlarını kullanabilirsiniz. Elbette `axis` parametresi bunda da geçerli."
   ]
  },
  {
   "cell_type": "code",
   "execution_count": 6,
   "metadata": {},
   "outputs": [
    {
     "name": "stdout",
     "output_type": "stream",
     "text": [
      "Dizide 4'ten küçük sayı var mı: True\n",
      "Dizideki tüm değerler 4'ten küçük mü: False\n"
     ]
    }
   ],
   "source": [
    "print(\"Dizide 4'ten küçük sayı var mı:\", np.any(dizi < 4))\n",
    "print(\"Dizideki tüm değerler 4'ten küçük mü:\", np.all(dizi < 4))"
   ]
  },
  {
   "cell_type": "markdown",
   "metadata": {},
   "source": [
    "Python'dan bildiğimiz &, | gibi mantıksal operatörleri kullanmak da mümkün.\n",
    "\n",
    "Performans açısından bir farkı yok ama bu mantık operatörlerinin hepsinin bir Numpy fonksiyonu da var. Kodun okunabilirliği açısından kullanılabilir.\n",
    "\n",
    "| Operatör | Fonksiyon        |\n",
    "|----------|------------------|\n",
    "| =        | np.equal         |\n",
    "| !=       | np.not_equal     |\n",
    "| <        | np.less          |\n",
    "| <=       | np.less_equal    |\n",
    "| >        | np.greater       |\n",
    "| >=       | np.greater_equal |\n",
    "| &        | np.bitwise_and   |\n",
    "| \\|       | np.bitwise_or    |\n",
    "| ^        | np.bitwise_xor   |\n",
    "| ~        | np.bitwise_not   |\n",
    "\n",
    "## Bool Dizilerini Maskeleme İşlemi İçin Kullanma\n",
    "\n",
    "Bool dizileri, veri içinden seçim yapmak için kullanılabilir:"
   ]
  },
  {
   "cell_type": "code",
   "execution_count": 7,
   "metadata": {},
   "outputs": [
    {
     "name": "stdout",
     "output_type": "stream",
     "text": [
      "Dizi: [[  1  10 100]\n",
      " [  2  20 200]]\n",
      "\n",
      "\n",
      "Maske: [[ True  True False]\n",
      " [ True False False]]\n",
      "\n",
      "\n",
      "Maskelenmiş: [ 1 10  2]\n"
     ]
    }
   ],
   "source": [
    "print(\"Dizi:\", dizi2d)\n",
    "print(\"\\n\")\n",
    "print(\"Maske:\", dizi2d < 15)\n",
    "print(\"\\n\")\n",
    "print(\"Maskelenmiş:\", dizi2d[dizi2d < 15])"
   ]
  },
  {
   "cell_type": "markdown",
   "metadata": {},
   "source": [
    "Gördüğünüz gibi bool işlemi sonucu True olan elemanlar bir dizi olarak verildi."
   ]
  }
 ],
 "metadata": {
  "kernelspec": {
   "display_name": "Python 3",
   "language": "python",
   "name": "python3"
  },
  "language_info": {
   "codemirror_mode": {
    "name": "ipython",
    "version": 3
   },
   "file_extension": ".py",
   "mimetype": "text/x-python",
   "name": "python",
   "nbconvert_exporter": "python",
   "pygments_lexer": "ipython3",
   "version": "3.8.8"
  }
 },
 "nbformat": 4,
 "nbformat_minor": 4
}

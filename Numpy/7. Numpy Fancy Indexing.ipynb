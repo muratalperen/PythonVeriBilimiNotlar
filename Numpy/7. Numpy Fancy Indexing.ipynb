{
 "cells": [
  {
   "cell_type": "markdown",
   "metadata": {},
   "source": [
    "Önceki bölümlerde basit göstergeleri kullanarak (`dizi[3]`), bölerek (`dizi[5:]`) ve bool maskeleme (`dizi[dizi < 10]`) ile dizi elemanlarına ulaşmayı öğrendik. Şimdi ise diğer bir eleman seçme yöntemi olan fancy indexleme'ye (fancy indexing) bakacağız.\n",
    "\n",
    "## Fancy Indexing Giriş\n",
    "\n",
    "Fancy indexing'in mantığı şudur: Dizinin elemanlarına erişmek için elemanlarının indisleri, dizi olarak verilir. Tüm olay bu!\n",
    "\n",
    "Bir dizinin üç elemanına erişmek isteseydik aşağıdaki gibi yazardık:"
   ]
  },
  {
   "cell_type": "code",
   "execution_count": 1,
   "metadata": {},
   "outputs": [],
   "source": [
    "import numpy as np"
   ]
  },
  {
   "cell_type": "code",
   "execution_count": 2,
   "metadata": {},
   "outputs": [
    {
     "name": "stdout",
     "output_type": "stream",
     "text": [
      "Dizi: [52 39  9 30 54 64  5 64 35 35]\n",
      "Elemanlar: [39, 64, 35]\n"
     ]
    }
   ],
   "source": [
    "dizi = np.random.randint(100, size=10)\n",
    "print(\"Dizi:\", dizi)\n",
    "print(\"Elemanlar:\", [dizi[1], dizi[5], dizi[8]])"
   ]
  },
  {
   "cell_type": "markdown",
   "metadata": {},
   "source": [
    "Diziye; liste, tuple veya dizi olarak indislerin listesini vermek de aynı sonucu sağlar ve Fancy Indexing diye adlandırılır."
   ]
  },
  {
   "cell_type": "code",
   "execution_count": 3,
   "metadata": {},
   "outputs": [
    {
     "data": {
      "text/plain": [
       "array([39, 64, 35])"
      ]
     },
     "execution_count": 3,
     "metadata": {},
     "output_type": "execute_result"
    }
   ],
   "source": [
    "indisler = [1, 5, 8]\n",
    "dizi[indisler]"
   ]
  },
  {
   "cell_type": "markdown",
   "metadata": {},
   "source": [
    "Dizi, dizinin indisine verdiğimiz dizinin biçiminde dizi oluşturur:"
   ]
  },
  {
   "cell_type": "code",
   "execution_count": 4,
   "metadata": {},
   "outputs": [
    {
     "name": "stdout",
     "output_type": "stream",
     "text": [
      "Dizi: [52 39  9 30 54 64  5 64 35 35] \n",
      "\n",
      "Index dizisi: [[0 1]\n",
      " [8 9]]\n",
      "Seçilmiş dizi: [[52 39]\n",
      " [35 35]]\n"
     ]
    }
   ],
   "source": [
    "secici = np.array([[0, 1], [8,9]])\n",
    "print(\"Dizi:\", dizi, \"\\n\")\n",
    "print(\"Index dizisi:\", secici)\n",
    "print(\"Seçilmiş dizi:\", dizi[secici])"
   ]
  },
  {
   "cell_type": "markdown",
   "metadata": {},
   "source": [
    "Çok boyutlu dizilerde de aynı mantıkla çalışabilirsiniz.\n",
    "\n",
    "## İndexleme İşlemlerini Birleştirme\n",
    "\n",
    "Fancy indexleme, gördüğümüz diğer indexleme türleriyle birleştirilebilir."
   ]
  },
  {
   "cell_type": "code",
   "execution_count": 5,
   "metadata": {},
   "outputs": [
    {
     "name": "stdout",
     "output_type": "stream",
     "text": [
      "Dizi: [[   1    2    3    4]\n",
      " [  10   20   30   40]\n",
      " [ 100  200  300  400]\n",
      " [1000 2000 3000 4000]]\n",
      "İkinci satırdan sonrasının 1. ve 2. elemanları: [[ 200  300]\n",
      " [2000 3000]]\n"
     ]
    }
   ],
   "source": [
    "bd = np.array([ [a * 10 ** i for a in range(1, 5)] for i in range(4)])\n",
    "print(\"Dizi:\", bd)\n",
    "print(\"İkinci satırdan sonrasının 1. ve 2. elemanları:\", bd[2:, [1,2]])"
   ]
  },
  {
   "cell_type": "markdown",
   "metadata": {},
   "source": [
    "## Fancy İndexleme ile Veri Değiştirme\n",
    "\n",
    "Fancy indexleme ile yaptığımız seçimlerde değişiklik de yapabiliriz:"
   ]
  },
  {
   "cell_type": "code",
   "execution_count": 6,
   "metadata": {},
   "outputs": [
    {
     "name": "stdout",
     "output_type": "stream",
     "text": [
      "Önce: [52 39  9 30 54 64  5 64 35 35]\n",
      "Sonra: [1000   39    9   30   54   64    5   64   35 1000]\n"
     ]
    }
   ],
   "source": [
    "print(\"Önce:\", dizi)\n",
    "dizi[[0, 9]] = 1000 # Dizinin 0 ve 9. elemanını 1000 yaptık\n",
    "print(\"Sonra:\", dizi)"
   ]
  },
  {
   "cell_type": "markdown",
   "metadata": {},
   "source": [
    "Dizinin aynı elemanı üzerinde değişiklik yapabilirsiniz:"
   ]
  },
  {
   "cell_type": "code",
   "execution_count": 7,
   "metadata": {},
   "outputs": [
    {
     "data": {
      "text/plain": [
       "20"
      ]
     },
     "execution_count": 7,
     "metadata": {},
     "output_type": "execute_result"
    }
   ],
   "source": [
    "dizi[[1,1]] = [10, 20]\n",
    "dizi[1]"
   ]
  },
  {
   "cell_type": "markdown",
   "metadata": {},
   "source": [
    "dizi'nin 1. elemanı ilk 10, sonra 20 oldu. Ancak tekrarlamalı işlem yaparken dikkatli olmakta fayda var:"
   ]
  },
  {
   "cell_type": "code",
   "execution_count": 8,
   "metadata": {},
   "outputs": [
    {
     "data": {
      "text/plain": [
       "array([0., 1., 0., 0., 0., 0., 0., 0., 0., 0.])"
      ]
     },
     "execution_count": 8,
     "metadata": {},
     "output_type": "execute_result"
    }
   ],
   "source": [
    "a = np.zeros(10)\n",
    "a[[1, 1, 1]] += 1\n",
    "a"
   ]
  },
  {
   "cell_type": "markdown",
   "metadata": {},
   "source": [
    "Sonuç olarak `a[1]`in 3 olmasını bekleyebilirsiniz ama `a[1] += 1`, `a[1] = a[1] + 1` demektir ki; yukarıdaki işlem, 1. elemana 3 kez ilk haline (sıfıra) 1 ekle anlamına gelir. Ve değeri 1 olur.\n",
    "\n",
    "Tekrarlamalı ekleme yapmak isterseniz [Universal Function](#) olan `at` methodunu kullanabilir veya benzer method olan `reduceat`ı da kullanabilirsiniz:"
   ]
  },
  {
   "cell_type": "code",
   "execution_count": 9,
   "metadata": {},
   "outputs": [
    {
     "data": {
      "text/plain": [
       "array([0., 1., 3., 0., 0., 0., 0., 0., 0., 0.])"
      ]
     },
     "execution_count": 9,
     "metadata": {},
     "output_type": "execute_result"
    }
   ],
   "source": [
    "np.add.at(a, [2,2,2], 1)\n",
    "a"
   ]
  }
 ],
 "metadata": {
  "kernelspec": {
   "display_name": "Python 3",
   "language": "python",
   "name": "python3"
  },
  "language_info": {
   "codemirror_mode": {
    "name": "ipython",
    "version": 3
   },
   "file_extension": ".py",
   "mimetype": "text/x-python",
   "name": "python",
   "nbconvert_exporter": "python",
   "pygments_lexer": "ipython3",
   "version": "3.8.8"
  }
 },
 "nbformat": 4,
 "nbformat_minor": 4
}

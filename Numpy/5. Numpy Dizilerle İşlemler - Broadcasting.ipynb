{
 "cells": [
  {
   "cell_type": "markdown",
   "metadata": {},
   "source": [
    "Bir dizi ile bir veriyi aritmetik bir işleme soktuğumuzda iki veri de aynı büyüklükte olmasa da işlem yapılabilir."
   ]
  },
  {
   "cell_type": "code",
   "execution_count": 1,
   "metadata": {},
   "outputs": [],
   "source": [
    "import numpy as np"
   ]
  },
  {
   "cell_type": "code",
   "execution_count": 2,
   "metadata": {},
   "outputs": [
    {
     "name": "stdout",
     "output_type": "stream",
     "text": [
      "[0 1 2 3]\n",
      "[5 6 7 8]\n"
     ]
    }
   ],
   "source": [
    "dizi = np.arange(4)\n",
    "print(dizi)\n",
    "print(dizi + 5)"
   ]
  },
  {
   "cell_type": "markdown",
   "metadata": {},
   "source": [
    "Örnekte toplananlardan biri tek boyutlu diziyken diğeri bir sayı. Ve toplama işlemi yapılırken sayı, dizi ile aynı uzunlukta o sayılardan oluşan diziymiş gibi davrandı. Bunu çok boyutlu dizilerde de yapabiliriz:"
   ]
  },
  {
   "cell_type": "code",
   "execution_count": 3,
   "metadata": {},
   "outputs": [
    {
     "name": "stdout",
     "output_type": "stream",
     "text": [
      "Dizi1: [1 2 3]\n",
      "Dizi2 [[1 2 3]\n",
      " [4 5 6]\n",
      " [7 8 9]]\n",
      "Toplam:\n",
      " [[ 2  4  6]\n",
      " [ 5  7  9]\n",
      " [ 8 10 12]]\n"
     ]
    }
   ],
   "source": [
    "dizi1 = np.array([1, 2, 3])\n",
    "dizi2 = np.arange(1,10).reshape(3, 3)\n",
    "\n",
    "print(\"Dizi1:\", dizi1)\n",
    "print(\"Dizi2\", dizi2)\n",
    "print(\"Toplam:\\n\", dizi1 + dizi2)"
   ]
  },
  {
   "cell_type": "markdown",
   "metadata": {},
   "source": [
    "Yukarıdaki örneği de incelerseniz; `dizi1`in sütun sayısı `dizi2` ile aynıydı ve satırını tekrar ederek `dizi2` ile aynı satır sayısına sahip gibi davrandı. İki boyutlu bir dizi gibi davrandı ve toplama işlemi yapıldı.\n",
    "\n",
    "Matematikteki ortak çarpan parantezine alma özelliğine de benzetebileceğimiz bu kurallara Broadcasting denir. Broadcasting kuralları şöyledir:\n",
    "\n",
    "1. Boyut sayıları farklı olan iki dizide; boyut sayısı az olan dizi, diğer dizi ile eşit uzunlukta olan ekseninden çoğaltılır.\n",
    "2. Eğer hiçbir boyutunun uzunluğu tutmuyorsa eksenlerinden biri 1 olan dizi diğerine uygun olacak şekilde çoğaltılır.\n",
    "3. Boyut uzunlukları ne birbirlerine ne de bire eşit olmayan dizilerle işlem yapılamaz, hata verir."
   ]
  },
  {
   "cell_type": "code",
   "execution_count": 4,
   "metadata": {},
   "outputs": [
    {
     "name": "stdout",
     "output_type": "stream",
     "text": [
      "a: [[[1. 1. 1. 1.]\n",
      "  [1. 1. 1. 1.]\n",
      "  [1. 1. 1. 1.]]\n",
      "\n",
      " [[1. 1. 1. 1.]\n",
      "  [1. 1. 1. 1.]\n",
      "  [1. 1. 1. 1.]]]\n",
      "b: [[7]\n",
      " [0]\n",
      " [5]]\n",
      "a + b: [[[8. 8. 8. 8.]\n",
      "  [1. 1. 1. 1.]\n",
      "  [6. 6. 6. 6.]]\n",
      "\n",
      " [[8. 8. 8. 8.]\n",
      "  [1. 1. 1. 1.]\n",
      "  [6. 6. 6. 6.]]]\n"
     ]
    }
   ],
   "source": [
    "a = np.ones((2,3,4))\n",
    "b = np.random.randint(10, size=(3,1))\n",
    "print(\"a:\", a)\n",
    "print(\"b:\", b)\n",
    "print(\"a + b:\", a + b)"
   ]
  },
  {
   "cell_type": "markdown",
   "metadata": {},
   "source": [
    "Yukarıdaki örnekte 3 uzunluğundaki eksenleri örtüştüğünden b dizisi, 3 uzunluğundaki ekseni temel alınarak çoğaltılıyor ve işlem gerçekleştiriliyor. Bu işlemi gerçekleştirirken b dizisini hangi biçime soktuğunu görmek için aşağıdaki kod güzel bir örnek:"
   ]
  },
  {
   "cell_type": "code",
   "execution_count": 5,
   "metadata": {},
   "outputs": [
    {
     "data": {
      "text/plain": [
       "array([[[7., 7., 7., 7.],\n",
       "        [0., 0., 0., 0.],\n",
       "        [5., 5., 5., 5.]],\n",
       "\n",
       "       [[7., 7., 7., 7.],\n",
       "        [0., 0., 0., 0.],\n",
       "        [5., 5., 5., 5.]]])"
      ]
     },
     "execution_count": 5,
     "metadata": {},
     "output_type": "execute_result"
    }
   ],
   "source": [
    "x = a + b\n",
    "x - a # böylece sadece boardcasting uygulanmış b dizimiz kaldı"
   ]
  }
 ],
 "metadata": {
  "kernelspec": {
   "display_name": "Python 3",
   "language": "python",
   "name": "python3"
  },
  "language_info": {
   "codemirror_mode": {
    "name": "ipython",
    "version": 3
   },
   "file_extension": ".py",
   "mimetype": "text/x-python",
   "name": "python",
   "nbconvert_exporter": "python",
   "pygments_lexer": "ipython3",
   "version": "3.8.8"
  }
 },
 "nbformat": 4,
 "nbformat_minor": 4
}

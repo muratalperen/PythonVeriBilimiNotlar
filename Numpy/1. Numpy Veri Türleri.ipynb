{
 "cells": [
  {
   "cell_type": "markdown",
   "metadata": {},
   "source": [
    "Bu yazıda Numpy'da diziler oluşturmayı ve dizinin veri türünü belirlemeyi göreceğiz."
   ]
  },
  {
   "cell_type": "code",
   "execution_count": 1,
   "metadata": {},
   "outputs": [],
   "source": [
    "import numpy as np"
   ]
  },
  {
   "cell_type": "markdown",
   "metadata": {},
   "source": [
    "## Numpy Dizisi Oluşturma\n",
    "\n",
    "Python'daki liste, dizi, tuple gibi iterable (tekrarlanabilir) veri türlerinden `np.array()` fonksiyonu ile Numpy dizisi oluşturabilirsiniz."
   ]
  },
  {
   "cell_type": "code",
   "execution_count": 2,
   "metadata": {},
   "outputs": [
    {
     "data": {
      "text/plain": [
       "array([1, 2, 3, 4, 5])"
      ]
     },
     "execution_count": 2,
     "metadata": {},
     "output_type": "execute_result"
    }
   ],
   "source": [
    "np.array([1 ,2 ,3 ,4 ,5])"
   ]
  },
  {
   "cell_type": "markdown",
   "metadata": {},
   "source": [
    "Dizinin tüm elemanları integer olduğundan dizinin türü integer oldu. Eğer farklı türde veri girerseniz, mümkünse Numpy tüm değerleri aynı veri tipine çevirerek kaydeder. Mesela integer'lerin bulunduğu bir dizide float da varsa tüm veriler float olarak kaydedilir."
   ]
  },
  {
   "cell_type": "code",
   "execution_count": 3,
   "metadata": {},
   "outputs": [
    {
     "data": {
      "text/plain": [
       "array([1. , 2. , 3. , 4. , 5. , 1.5])"
      ]
     },
     "execution_count": 3,
     "metadata": {},
     "output_type": "execute_result"
    }
   ],
   "source": [
    "np.array([1 ,2 ,3 ,4 ,5, 1.5])"
   ]
  },
  {
   "cell_type": "markdown",
   "metadata": {},
   "source": [
    "Oluşturacağınız dizinin veri tipini **dtype** parametresiyle belirleyebilirsiniz."
   ]
  },
  {
   "cell_type": "code",
   "execution_count": 4,
   "metadata": {},
   "outputs": [
    {
     "data": {
      "text/plain": [
       "array([1., 2., 3.])"
      ]
     },
     "execution_count": 4,
     "metadata": {},
     "output_type": "execute_result"
    }
   ],
   "source": [
    "np.array([1,2,3], dtype=float)"
   ]
  },
  {
   "cell_type": "markdown",
   "metadata": {},
   "source": [
    "Numpy dizilerinin Python listesinden bir diğer farkı da çok boyutlu dizi oluşturulabilmesidir. Liste içi listeler, iki boyutlu dizilerdeki satırlar olarak çevrilir."
   ]
  },
  {
   "cell_type": "code",
   "execution_count": 5,
   "metadata": {},
   "outputs": [
    {
     "data": {
      "text/plain": [
       "array([[1, 2, 3],\n",
       "       [4, 5, 6],\n",
       "       [7, 8, 9]])"
      ]
     },
     "execution_count": 5,
     "metadata": {},
     "output_type": "execute_result"
    }
   ],
   "source": [
    "np.array([[1, 2, 3], [4, 5, 6], [7, 8, 9]])"
   ]
  },
  {
   "cell_type": "markdown",
   "metadata": {},
   "source": [
    "### Sıfırdan Numpy Dizisi Oluşturma\n",
    "Numpy'da sıfırdan yeni diziler üretmek için çeşitli fonksiyonlar var. Bunlara parametre olarak uzunluk vererek fonksiyonun belirttiği diziyi oluşturabilirsiniz. `dtype` parametresiyle de oluşturulacak dizinin türü belirlenir."
   ]
  },
  {
   "cell_type": "code",
   "execution_count": 6,
   "metadata": {
    "scrolled": true
   },
   "outputs": [
    {
     "data": {
      "text/plain": [
       "array([0., 0., 0., 0., 0.])"
      ]
     },
     "execution_count": 6,
     "metadata": {},
     "output_type": "execute_result"
    }
   ],
   "source": [
    "np.zeros(5) # sıfırlardan oluşan dizi"
   ]
  },
  {
   "cell_type": "code",
   "execution_count": 7,
   "metadata": {},
   "outputs": [
    {
     "data": {
      "text/plain": [
       "array([1, 1, 1])"
      ]
     },
     "execution_count": 7,
     "metadata": {},
     "output_type": "execute_result"
    }
   ],
   "source": [
    "np.ones(3, dtype=int) # birlerden oluşan dizi"
   ]
  },
  {
   "cell_type": "code",
   "execution_count": 8,
   "metadata": {},
   "outputs": [
    {
     "data": {
      "text/plain": [
       "array([3.14, 3.14, 3.14, 3.14, 3.14])"
      ]
     },
     "execution_count": 8,
     "metadata": {},
     "output_type": "execute_result"
    }
   ],
   "source": [
    "np.full(5, 3.14) # elemanları 3,14 olan 5 elemanlı dizi"
   ]
  },
  {
   "cell_type": "code",
   "execution_count": 9,
   "metadata": {
    "scrolled": true
   },
   "outputs": [
    {
     "data": {
      "text/plain": [
       "array([0.        , 0.11111111, 0.22222222, 0.33333333, 0.44444444,\n",
       "       0.55555556, 0.66666667, 0.77777778, 0.88888889, 1.        ])"
      ]
     },
     "execution_count": 9,
     "metadata": {},
     "output_type": "execute_result"
    }
   ],
   "source": [
    "np.linspace(0, 1, 10) # 0 ile 1 aralığını 10'a bölüp parçaları dizi yapar"
   ]
  },
  {
   "cell_type": "markdown",
   "metadata": {},
   "source": [
    "**np.arange**, range fonksiyonu ile aynı şekilde kullanılır"
   ]
  },
  {
   "cell_type": "code",
   "execution_count": 10,
   "metadata": {},
   "outputs": [
    {
     "data": {
      "text/plain": [
       "array([ 0,  5, 10, 15, 20, 25, 30, 35, 40, 45, 50, 55, 60, 65, 70, 75, 80,\n",
       "       85, 90, 95])"
      ]
     },
     "execution_count": 10,
     "metadata": {},
     "output_type": "execute_result"
    }
   ],
   "source": [
    "np.arange(0, 100, 5) # 0'dan 100'e beşer beşer sayıların bulunduğu dizi"
   ]
  },
  {
   "cell_type": "code",
   "execution_count": 11,
   "metadata": {},
   "outputs": [
    {
     "data": {
      "text/plain": [
       "array([0.60268534, 0.57004332, 0.48193943, 0.63537436, 0.4282472 ])"
      ]
     },
     "execution_count": 11,
     "metadata": {},
     "output_type": "execute_result"
    }
   ],
   "source": [
    "np.random.random(5) # 5 uzunluğunda 0-1 aralığında rastgele sayı üretir"
   ]
  },
  {
   "cell_type": "code",
   "execution_count": 12,
   "metadata": {},
   "outputs": [
    {
     "data": {
      "text/plain": [
       "array([1, 2, 1, 7, 3, 5, 8, 9, 6, 4, 2, 4, 6, 2, 9])"
      ]
     },
     "execution_count": 12,
     "metadata": {},
     "output_type": "execute_result"
    }
   ],
   "source": [
    "np.random.randint(0, 10, 15) # 15 uzunluğunda 0 ile 10 arasında integer'larla dolu dizi"
   ]
  },
  {
   "cell_type": "markdown",
   "metadata": {},
   "source": [
    "**np.empty**, np.zeros gibi dizi üretir. Ama farklı olarak diziyi sıfırlarla doldurmaz. Yer kaplayacağı Ram'de ne veri varsa onunla doldurur. Bunun sonucu olarak da np.zeros ve türevlerinden çok daha hızlıdır."
   ]
  },
  {
   "cell_type": "code",
   "execution_count": 13,
   "metadata": {},
   "outputs": [
    {
     "data": {
      "text/plain": [
       "array([4.68194120e-310, 4.68194109e-310, 6.90120588e-310, 6.90122171e-310,\n",
       "       6.90122356e-310, 6.90122123e-310, 6.90122359e-310, 6.90122358e-310,\n",
       "       6.90122356e-310, 6.90122354e-310, 4.74303020e-322])"
      ]
     },
     "execution_count": 13,
     "metadata": {},
     "output_type": "execute_result"
    }
   ],
   "source": [
    "np.empty(11)"
   ]
  },
  {
   "cell_type": "markdown",
   "metadata": {},
   "source": [
    "Dizi uzunluğunu belirttiğiniz parametreye tuple, liste gibi elemanlar vererek çok boyutlu diziler oluşturabilirsiniz. İki boyutlu diziler için (satır sayısı, sütun sayısı) olarak belirtebilirsiniz."
   ]
  },
  {
   "cell_type": "code",
   "execution_count": 14,
   "metadata": {},
   "outputs": [
    {
     "data": {
      "text/plain": [
       "array([[0, 0, 0, 0],\n",
       "       [0, 0, 0, 0]])"
      ]
     },
     "execution_count": 14,
     "metadata": {},
     "output_type": "execute_result"
    }
   ],
   "source": [
    "np.zeros((2,4), dtype=int)"
   ]
  },
  {
   "cell_type": "markdown",
   "metadata": {},
   "source": [
    "## Numpy Standart Veri Türleri\n",
    "Numpy dizilerindeki tüm elemanların veri tipi aynıdır. Bu veri tipi dtype parametresi ile belirtilir. Veri tipi yazı (string) veya Numpy objesi olabilir."
   ]
  },
  {
   "cell_type": "code",
   "execution_count": 15,
   "metadata": {},
   "outputs": [
    {
     "data": {
      "text/plain": [
       "array([256, 257, 257, 257, 257], dtype=int16)"
      ]
     },
     "execution_count": 15,
     "metadata": {},
     "output_type": "execute_result"
    }
   ],
   "source": [
    "np.empty(5, dtype=\"int16\") # np.empty(5, dtype=np.int16) ile aynı"
   ]
  },
  {
   "cell_type": "markdown",
   "metadata": {},
   "source": [
    "Sık kullanılan veri türleri:\n",
    "- bool_\n",
    "- int_\n",
    "- int8\n",
    "- int16\n",
    "- uint64\n",
    "- float_\n",
    "- float32\n",
    "- complex_\n",
    "- complex64"
   ]
  },
  {
   "cell_type": "markdown",
   "metadata": {},
   "source": [
    "Daha fazlasını [Numpy dokümentasyonunda veri türleri](https://numpy.org/devdocs/user/basics.types.html) sayfasından bulabilirsiniz."
   ]
  }
 ],
 "metadata": {
  "kernelspec": {
   "display_name": "Python 3",
   "language": "python",
   "name": "python3"
  },
  "language_info": {
   "codemirror_mode": {
    "name": "ipython",
    "version": 3
   },
   "file_extension": ".py",
   "mimetype": "text/x-python",
   "name": "python",
   "nbconvert_exporter": "python",
   "pygments_lexer": "ipython3",
   "version": "3.8.8"
  }
 },
 "nbformat": 4,
 "nbformat_minor": 4
}

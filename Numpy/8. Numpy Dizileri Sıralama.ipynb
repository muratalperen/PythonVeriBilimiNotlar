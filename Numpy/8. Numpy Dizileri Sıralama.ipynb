{
 "cells": [
  {
   "cell_type": "markdown",
   "metadata": {},
   "source": [
    "## Numpy'da Hızlı Sıralama\n",
    "\n",
    "Python'da built-in sıralama fonksiyonları olsa da (`dizi.sort()` gibi), numpy'ın kendi sıralama algoritmaları daha etkili çalışacaktır. Numpy'da sıralama için `np.sort` fonksiyonu kullanılır.\n",
    "\n",
    "`np.sort(dizi)` şeklinde dizinin sıralanmış halini alabilir veya `dizi.sort()` şeklinde diziyi sıralanmış hale sokabilirsiniz (tabi bu seçenek için dizinin numpy dizisi olması gerekiyor)."
   ]
  },
  {
   "cell_type": "code",
   "execution_count": 1,
   "metadata": {},
   "outputs": [],
   "source": [
    "import numpy as np"
   ]
  },
  {
   "cell_type": "code",
   "execution_count": 2,
   "metadata": {},
   "outputs": [
    {
     "name": "stdout",
     "output_type": "stream",
     "text": [
      "Dizi:\t\t [6 7 8 2 9 3 5 1 4]\n",
      "Sıralanmış:\t [1 2 3 4 5 6 7 8 9]\n"
     ]
    }
   ],
   "source": [
    "dizi = np.arange(1,10)\n",
    "np.random.shuffle(dizi) # dizinin elemanlarını rastgele yer değiştirir\n",
    "print(\"Dizi:\\t\\t\", dizi)\n",
    "print(\"Sıralanmış:\\t\", np.sort(dizi))"
   ]
  },
  {
   "cell_type": "markdown",
   "metadata": {},
   "source": [
    "np.sort öntanımlı olarak hızlı sıralama (quicksort) algoritmasını kullanır. `kind` parametresiyle mergesort ve heapsort algoritmaları da kullanılabilir. (Ör. `kind=\"heapsort\"`)\n",
    "\n",
    "Benzer bir fonksiyon olan `np.argsort()` da, elemanların sıralanmış halinin indislerini verir. Yani en küçük değeri en başa atmak yerine, en küçük değerin indisini başa atar. Sonra [Fancy Indexing](#) bölümünde gördüğümüz gibi dizinin sıralanmış halini alabilirsiniz."
   ]
  },
  {
   "cell_type": "code",
   "execution_count": 3,
   "metadata": {},
   "outputs": [
    {
     "name": "stdout",
     "output_type": "stream",
     "text": [
      "Dizi:\t\t [6 7 8 2 9 3 5 1 4]\n",
      "İndis Sırası:\t [7 3 5 8 6 0 1 2 4]\n",
      "Sıralanmış Dizi: [1 2 3 4 5 6 7 8 9]\n"
     ]
    }
   ],
   "source": [
    "indisSirasi = np.argsort(dizi)\n",
    "print(\"Dizi:\\t\\t\", dizi)\n",
    "print(\"İndis Sırası:\\t\", indisSirasi)\n",
    "print(\"Sıralanmış Dizi:\", dizi[indisSirasi])"
   ]
  },
  {
   "cell_type": "markdown",
   "metadata": {},
   "source": [
    "### Çok Boyutlu Dizilerde Sıralama\n",
    "\n",
    "Çok boyutlu dizilerde sıralama yapmak için `axis` parametresini kullanabilirsiniz. 0 sütunları, 1 satırları sıralar."
   ]
  },
  {
   "cell_type": "code",
   "execution_count": 4,
   "metadata": {},
   "outputs": [
    {
     "name": "stdout",
     "output_type": "stream",
     "text": [
      "[[29 21 29 86 40  5]\n",
      " [28 43 71 48 52  0]\n",
      " [35 72 54  0 28 19]\n",
      " [36  9 66 59  2  1]]\n",
      "\n",
      "\n",
      "[[ 5 21 29 29 40 86]\n",
      " [ 0 28 43 48 52 71]\n",
      " [ 0 19 28 35 54 72]\n",
      " [ 1  2  9 36 59 66]]\n"
     ]
    }
   ],
   "source": [
    "dizi2d = np.random.randint(100, size=(4,6))\n",
    "print(dizi2d)\n",
    "print(\"\\n\")\n",
    "print(np.sort(dizi2d, axis=1)) # satırları sırala"
   ]
  },
  {
   "cell_type": "markdown",
   "metadata": {},
   "source": [
    "## Kısmi Sıralama: Partition\n",
    "\n",
    "`np.partition` fonksiyonu, birinci parametre olarak dizi, ikinci parametre olarak da sayı alır. Bu sayıya _K_ diyelim. Dizinin en küçük _K_. elemanından küçük olan sayıları _K_'nin soluna, büyük olan sayıları da sağına atar (saymaya sıfırdan başlamayı unutmayın)."
   ]
  },
  {
   "cell_type": "code",
   "execution_count": 5,
   "metadata": {},
   "outputs": [
    {
     "name": "stdout",
     "output_type": "stream",
     "text": [
      "Dizi:\t\t [9 8 7 6 5 4 3 2 1 0]\n",
      "Partition:\t [4 0 1 2 3 5 8 6 7 9]\n"
     ]
    }
   ],
   "source": [
    "tersDizi = np.arange(10)[::-1]\n",
    "print(\"Dizi:\\t\\t\", tersDizi)\n",
    "print(\"Partition:\\t\", np.partition(tersDizi, 5))"
   ]
  },
  {
   "cell_type": "markdown",
   "metadata": {},
   "source": [
    "Yukarıdaki örnekte 5. eleman olan 5 sayısının solunda 5'ten küçük sayıların, sağında da 5'ten büyük sayıların olduğunu görebilirsiniz.\n",
    "\n",
    "Son olarak `np.argsort()` fonksiyonunun mantığına benzer şekilde `np.argpartition` fonksiyonu da bulunmakta."
   ]
  }
 ],
 "metadata": {
  "kernelspec": {
   "display_name": "Python 3",
   "language": "python",
   "name": "python3"
  },
  "language_info": {
   "codemirror_mode": {
    "name": "ipython",
    "version": 3
   },
   "file_extension": ".py",
   "mimetype": "text/x-python",
   "name": "python",
   "nbconvert_exporter": "python",
   "pygments_lexer": "ipython3",
   "version": "3.8.8"
  }
 },
 "nbformat": 4,
 "nbformat_minor": 4
}

{
 "cells": [
  {
   "cell_type": "markdown",
   "metadata": {},
   "source": [
    "Büyük bir veri ile karşılaştığınızda ilk yapacağınız şey veri hakkında genel bir bilgi almaktır. Bu bölümde numpy dizileri hakkında genel bilgilere ulaşacağız.\n",
    "\n",
    "Bir Numpy dizisindeki sayısal ifadelerin toplamı `np.sum()` fonksiyonu ile bulunabilir."
   ]
  },
  {
   "cell_type": "code",
   "execution_count": 1,
   "metadata": {},
   "outputs": [],
   "source": [
    "import numpy as np"
   ]
  },
  {
   "cell_type": "code",
   "execution_count": 2,
   "metadata": {},
   "outputs": [
    {
     "data": {
      "text/plain": [
       "499212743"
      ]
     },
     "execution_count": 2,
     "metadata": {},
     "output_type": "execute_result"
    }
   ],
   "source": [
    "buyukVeri = np.random.randint(10000, size=100000)\n",
    "np.sum(buyukVeri)"
   ]
  },
  {
   "cell_type": "markdown",
   "metadata": {},
   "source": [
    "Dizinin en düşük ve en yüksek değerlerini bulmak için `np.min` ve `np.max` kullanabilirsiniz."
   ]
  },
  {
   "cell_type": "code",
   "execution_count": 3,
   "metadata": {},
   "outputs": [
    {
     "name": "stdout",
     "output_type": "stream",
     "text": [
      "Max: 9999 Min: 0\n"
     ]
    }
   ],
   "source": [
    "print(\"Max:\", np.max(buyukVeri), \"Min:\", np.min(buyukVeri))"
   ]
  },
  {
   "cell_type": "markdown",
   "metadata": {},
   "source": [
    "Ayrıca bu üç fonksiyonu `np.max(dizi)` yerine `dizi.max()` şeklinde de kullanabilirsiniz."
   ]
  },
  {
   "cell_type": "markdown",
   "metadata": {},
   "source": [
    "### Çok Boyutlu Dizilerde İşlemler \n",
    "\n",
    "Çok boyutlu dizilerde de bu fonksiyonlarla dizideki en büyük değer ve diğerlerini bulabilirsiniz. Bu işlemleri satır veya sütuna özel yapmak istiyorsanız `axis` parametresi ile belirtebilirsiniz."
   ]
  },
  {
   "cell_type": "code",
   "execution_count": 4,
   "metadata": {},
   "outputs": [
    {
     "name": "stdout",
     "output_type": "stream",
     "text": [
      "Dizi: [[2 0 2]\n",
      " [5 4 9]\n",
      " [4 1 1]]\n",
      "Satırların minimumları: [0 4 1]\n"
     ]
    }
   ],
   "source": [
    "dizi2d = np.random.randint(10, size=(3,3))\n",
    "print(\"Dizi:\", dizi2d)\n",
    "print(\"Satırların minimumları:\", dizi2d.min(axis=1)) # 0 sütun, 1 satır"
   ]
  },
  {
   "cell_type": "markdown",
   "metadata": {},
   "source": [
    "### Diğer Aggregation Fonksiyonları\n",
    "\n",
    "Gerçek dünyada verilerde bazı eksiklikler olabilir. İleride [Pandas Kayıp Veri İşleme](#) bölümünde göreceğimiz bu kayıp verilere NaN (Not a numeric) denir ve bazı aggregation fonksiyonları bunlarla karşılaşınca hata verir.\n",
    "\n",
    "Aşağıdaki tabloda aggregation fonksiyonlarının bazılarını ve NaN verileri dikkate almayan versiyonlarını görebilirsiniz.\n",
    "\n",
    "| Fonksiyon Adı  | NaN Verilerden Etkilenmeyen Versiyonu | Açıklama                                            |\n",
    "|----------------|---------------------------------------|-----------------------------------------------------|\n",
    "| np\\.sum        | np\\.nansum                            | Elemanların toplamı \\(summary\\)                     |\n",
    "| np\\.prod       | np\\.nanprod                           | Elemanların çarpımı \\(product\\)                     |\n",
    "| np\\.mean       | np\\.nanmean                           | Elemanların ortalaması \\(mean\\)                     |\n",
    "| np\\.std        | np\\.nanstd                            | Elemanların standart sapması \\(standard deviation\\) |\n",
    "| np\\.var        | np\\.nanvar                            | Elemanların varyansı \\(variance\\)                   |\n",
    "| np\\.min        | np\\.nanmin                            | Minimum değer                                       |\n",
    "| np\\.max        | np\\.nanmax                            | Maximum değer                                       |\n",
    "| np\\.argmin     | np\\.nanargmin                         | Minimum değerin indisi                              |\n",
    "| np\\.argmax     | np\\.nanargmax                         | Maximum değerin indisi                              |\n",
    "| np\\.median     | np\\.nanmedian                         | Elemanların medyanı \\(median\\)                      |\n",
    "| np\\.percentile | np\\.nanpercentile                     | Yüzde kaçıncı sıradaki eleman \\(percentile\\)        |\n",
    "| np\\.any        | \\-                                    | True olan elemanı var mı                            |\n",
    "| np\\.all        | \\-                                    | Tüm elemanları True mu                              |\n"
   ]
  }
 ],
 "metadata": {
  "kernelspec": {
   "display_name": "Python 3",
   "language": "python",
   "name": "python3"
  },
  "language_info": {
   "codemirror_mode": {
    "name": "ipython",
    "version": 3
   },
   "file_extension": ".py",
   "mimetype": "text/x-python",
   "name": "python",
   "nbconvert_exporter": "python",
   "pygments_lexer": "ipython3",
   "version": "3.8.8"
  }
 },
 "nbformat": 4,
 "nbformat_minor": 4
}

{
 "cells": [
  {
   "cell_type": "markdown",
   "metadata": {},
   "source": [
    "Numpy (Numerical Python kısaltması) dizilerini Python'daki liste (list) veri tipine benzetebiliriz. Farkı ise Numpy dizileri hafızayı daha iyi kullanır ve performans bakımından daha iyidir.\n",
    "\n",
    "Bir python listesi içinde her çeşitten veri bulundurabileceğinden, liste üzerinde işlem yapılacağında her veri için  tür kontrolü ve gerekirse tür değişimi yapılır. Bu da büyük listelerde sistemi oldukça yavaşlatır. Numpy dizilerinde ise dizinin veri türü seçilebilir. Bu binlerce uzunluğundaki veriler üzerinde daha kolay işlem yapmamızı sağlar.\n",
    "\n",
    "Ayrıca python derlenmeyen, yorumlanan (Interpreted programming language) bir dil olduğundan yeterli performansı veremeyebilirken Numpy kütüphanesinin büyük bir kısmı C ile yazılmıştır. Bu yüzden Numpy ile yazılan işlemler oldukça hızlıdır.\n",
    "\n",
    "### Öyleyse Başlayalım\n",
    "\n",
    "Numpy kütüphanesi kaynak kodundan derlenebilir veya pip ile kurulabilir.\n",
    "\n",
    "    pip3 install numpy\n",
    "   \n",
    "Numpy genellikle \"np\" kısaltması ile kullanılır:"
   ]
  },
  {
   "cell_type": "code",
   "execution_count": 1,
   "metadata": {},
   "outputs": [
    {
     "data": {
      "text/plain": [
       "'1.20.1'"
      ]
     },
     "execution_count": 1,
     "metadata": {},
     "output_type": "execute_result"
    }
   ],
   "source": [
    "import numpy as np\n",
    "np.__version__"
   ]
  }
 ],
 "metadata": {
  "kernelspec": {
   "display_name": "Python 3",
   "language": "python",
   "name": "python3"
  },
  "language_info": {
   "codemirror_mode": {
    "name": "ipython",
    "version": 3
   },
   "file_extension": ".py",
   "mimetype": "text/x-python",
   "name": "python",
   "nbconvert_exporter": "python",
   "pygments_lexer": "ipython3",
   "version": "3.8.8"
  }
 },
 "nbformat": 4,
 "nbformat_minor": 4
}

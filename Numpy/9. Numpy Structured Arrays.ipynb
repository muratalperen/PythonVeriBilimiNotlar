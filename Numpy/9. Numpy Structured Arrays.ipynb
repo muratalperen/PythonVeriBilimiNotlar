{
 "cells": [
  {
   "cell_type": "markdown",
   "metadata": {},
   "source": [
    "Numpy'da bir dizi tek çeşit veri alabilir. Şimdiye kadar bunu gördük. Bu bölümdeyse farklı tipten veri türlerini aynı dizi üzerine koyup efektif bir biçimde işlemeye yarayan yapısal dizileri (structured arrays) ve record arrays göreceğiz.\n",
    "\n",
    "## Yapısal Dizi Üretme\n",
    "\n",
    "Üç kişinin adını, yaşını ve boyunu (metre cinsinden) kaydedeceğimizi düşünelim."
   ]
  },
  {
   "cell_type": "code",
   "execution_count": 1,
   "metadata": {},
   "outputs": [],
   "source": [
    "import numpy as np"
   ]
  },
  {
   "cell_type": "code",
   "execution_count": 2,
   "metadata": {},
   "outputs": [],
   "source": [
    "ad = ['Mehmet', 'Hakan', 'Beyza', 'Selin', 'Vedat']\n",
    "yas = [25, 45, 37, 19, 53]\n",
    "boy = [1.83, 1.69, 1.63, 1.72, 1.75]"
   ]
  },
  {
   "cell_type": "markdown",
   "metadata": {},
   "source": [
    "Ama ortada dizilerin birbirleriyle bağlantılı olduğunu gösteren bir ifade yok. Bu verileri tablo gibi birlikte tutan bir yapı olsa daha güzel olurdu.\n",
    "\n",
    "Yapısal diziler, verilerin tablo şeklinde saklanmasına olanak sağlar. Oluşturmak için `dtype` parametresine `names` ile sütun adlarını, `formats` ile veri türlerini tanımlayabilirsiniz."
   ]
  },
  {
   "cell_type": "code",
   "execution_count": 3,
   "metadata": {},
   "outputs": [
    {
     "data": {
      "text/plain": [
       "array([('', 0, 0.), ('', 0, 0.), ('', 0, 0.), ('', 0, 0.), ('', 0, 0.)],\n",
       "      dtype=[('ad', '<U10'), ('yas', 'i1'), ('boy', '<f8')])"
      ]
     },
     "execution_count": 3,
     "metadata": {},
     "output_type": "execute_result"
    }
   ],
   "source": [
    "veri = np.zeros(5, dtype={\n",
    "                          'names'  :('ad', 'yas', 'boy'),\n",
    "                          'formats':('U10', np.int8 , float)})\n",
    "veri"
   ]
  },
  {
   "cell_type": "markdown",
   "metadata": {},
   "source": [
    "> U10 string'i ifade eder. Ne anlama geldiğine az sonra anlatıcam"
   ]
  },
  {
   "cell_type": "markdown",
   "metadata": {},
   "source": [
    "Şimdi elimizde boş bir yapı var. Artık içini doldurabiliriz."
   ]
  },
  {
   "cell_type": "code",
   "execution_count": 4,
   "metadata": {
    "scrolled": true
   },
   "outputs": [
    {
     "data": {
      "text/plain": [
       "array([('Mehmet', 25, 1.83), ('Hakan', 45, 1.69), ('Beyza', 37, 1.63),\n",
       "       ('Selin', 19, 1.72), ('Vedat', 53, 1.75)],\n",
       "      dtype=[('ad', '<U10'), ('yas', 'i1'), ('boy', '<f8')])"
      ]
     },
     "execution_count": 4,
     "metadata": {},
     "output_type": "execute_result"
    }
   ],
   "source": [
    "veri['ad'] = ad\n",
    "veri['yas'] = yas\n",
    "veri['boy'] = boy\n",
    "veri"
   ]
  },
  {
   "cell_type": "markdown",
   "metadata": {},
   "source": [
    "Baştaki amacımıza ulaştık, artık tek değişkende tüm verileri saklayabiliyoruz. Şimdi bildiğimiz yöntemlerle verilere ulaşabiliriz."
   ]
  },
  {
   "cell_type": "code",
   "execution_count": 5,
   "metadata": {},
   "outputs": [
    {
     "name": "stdout",
     "output_type": "stream",
     "text": [
      "Adlar: ['Mehmet' 'Hakan' 'Beyza' 'Selin' 'Vedat']\n",
      "Sonuncu kişinin adı: Vedat\n"
     ]
    }
   ],
   "source": [
    "print(\"Adlar:\", veri['ad'])\n",
    "print(\"Sonuncu kişinin adı:\", veri['ad'][-1])"
   ]
  },
  {
   "cell_type": "markdown",
   "metadata": {},
   "source": [
    "İleride Pandas derslerinde göreceğimiz üzere daha çeşitli veri seçme yöntemleri de kullanılabilir:"
   ]
  },
  {
   "cell_type": "code",
   "execution_count": 6,
   "metadata": {},
   "outputs": [
    {
     "data": {
      "text/plain": [
       "array(['Mehmet', 'Selin', 'Vedat'], dtype='<U10')"
      ]
     },
     "execution_count": 6,
     "metadata": {},
     "output_type": "execute_result"
    }
   ],
   "source": [
    "veri[1.7 < veri['boy']]['ad'] # boyu 1.7 metreden büyük olanların adı"
   ]
  },
  {
   "cell_type": "markdown",
   "metadata": {},
   "source": [
    "### Yapısal Dizi Tanımlama\n",
    "\n",
    "Yapısal dizi tanımlamak için yukarıda yaptığımız gibi `names`'e sütunların adları, `formats`'a sütunların veri tiplerini belirterek `dtype` parametresine verebilirsiniz.\n",
    "\n",
    "Yapısal dizi oluşturmanın bir diğer yolu, dtype parametresine `(sütun adı, veri türü)` olacak şekilde tuple'lardan oluşan dizi vermektir."
   ]
  },
  {
   "cell_type": "code",
   "execution_count": 7,
   "metadata": {},
   "outputs": [
    {
     "data": {
      "text/plain": [
       "dtype([('ad', '<U10'), ('yas', 'i1'), ('boy', '<f8')])"
      ]
     },
     "execution_count": 7,
     "metadata": {},
     "output_type": "execute_result"
    }
   ],
   "source": [
    "np.dtype([('ad', 'U10'), ('yas', np.int8), ('boy', float)])"
   ]
  },
  {
   "cell_type": "markdown",
   "metadata": {},
   "source": [
    "Eğer sütunların adları önemli değilse string içinde veri türlerinin kısaltılmış adlarını yazarak da oluşturabilirsiniz."
   ]
  },
  {
   "cell_type": "code",
   "execution_count": 8,
   "metadata": {},
   "outputs": [
    {
     "data": {
      "text/plain": [
       "dtype([('f0', 'S10'), ('f1', 'i1'), ('f2', '<f8')])"
      ]
     },
     "execution_count": 8,
     "metadata": {},
     "output_type": "execute_result"
    }
   ],
   "source": [
    "np.dtype('S10,i1,f8')"
   ]
  },
  {
   "cell_type": "markdown",
   "metadata": {},
   "source": [
    "İlk karakter \"&lt;\" ve \"&gt;\" isteğe bağlıdır ve verinin bilgisayar hafızasında soldan sağa mı sağdan sola mı kaydedileceğini ifade eder (bkz. little endian, big endian). Sonraki karakter int, byte, string vs gibi veri türünü belirtir. Son karakter de verinin byte cinsinden boyutunu."
   ]
  },
  {
   "cell_type": "markdown",
   "metadata": {},
   "source": [
    "| Karakter | Açıklama          | Örnek              | Örneğin Karşılığı    |\n",
    "|:--------:|-------------------|--------------------|----------------------|\n",
    "| 'b'      | Byte              | np\\.dtype\\('b'\\)   | np\\.int8             |\n",
    "| 'i'      | Signed Integer    | np\\.dtype\\('i4'\\)  | np\\.int32            |\n",
    "| 'u'      | Unsigned Integer  | np\\.dtype\\('u1'\\)  | np\\.uint8            |\n",
    "| 'f'      | Float             | np\\.dtype\\('f2'\\)  | np\\.float16          |\n",
    "| 'c'      | Complex Float     | np\\.dtype\\('c16'\\) | np\\.complex128       |\n",
    "| 'S', 'a' | String            | np\\.dtype\\('S5'\\)  | 5 karakterlik string |\n",
    "| 'U'      | Unicode String    | np\\.dtype\\('U'\\)   | np\\.str\\_            |\n",
    "| 'V'      | Raw Data \\(Void\\) | np\\.dtype\\('V'\\)   | np\\.void             |"
   ]
  },
  {
   "cell_type": "markdown",
   "metadata": {},
   "source": [
    "Örneğin karşılığını `np.dtype` fonksiyonu ile görebilirsiniz."
   ]
  },
  {
   "cell_type": "code",
   "execution_count": 9,
   "metadata": {},
   "outputs": [
    {
     "data": {
      "text/plain": [
       "dtype('float16')"
      ]
     },
     "execution_count": 9,
     "metadata": {},
     "output_type": "execute_result"
    }
   ],
   "source": [
    "np.dtype('f2')"
   ]
  },
  {
   "cell_type": "markdown",
   "metadata": {},
   "source": [
    "### Daha Gelişmiş Veri Yapıları\n",
    "\n",
    "Daha gelişmiş veri yapıları üretmek mümkün. Aşağıda sütun adları id ve mat olan, mat sütunundaki verilerin (3x3) olduğu bir dizi görüyoruz."
   ]
  },
  {
   "cell_type": "code",
   "execution_count": 10,
   "metadata": {},
   "outputs": [
    {
     "name": "stdout",
     "output_type": "stream",
     "text": [
      "İlk satır: (0, [[0., 0., 0.], [0., 0., 0.], [0., 0., 0.]])\n",
      "Mat sütununun ilk satırı: [[0. 0. 0.]\n",
      " [0. 0. 0.]\n",
      " [0. 0. 0.]]\n"
     ]
    }
   ],
   "source": [
    "strc = np.dtype([('id', 'i8'), ('mat', 'f8', (3, 3))]) # Veri türümüz\n",
    "X = np.zeros(1, dtype=strc) # Veri türümüzden bir satırlık veri üretiyoruz.\n",
    "print(\"İlk satır:\", X[0])\n",
    "print(\"Mat sütununun ilk satırı:\", X['mat'][0])"
   ]
  },
  {
   "cell_type": "markdown",
   "metadata": {},
   "source": [
    "Yapısal dizilerin bir artısı da, veriyi C türü veri yapısına çevirdiğinden C gibi bir dilden bu veriye ulaşılabilir.\n",
    "\n",
    "## RecordArrays\n",
    "\n",
    "RecordArrays, önce anlatılan yapısal dizilerle neredeyse aynıdır. Bir farklılıkla: sütun adları nitelik olarak yazılarak sütunlara ulaşılabilir. Numpy dizisini record array'e çevirmek için `dizi.view(np.recarray)` biçimi kullanılır."
   ]
  },
  {
   "cell_type": "code",
   "execution_count": 11,
   "metadata": {},
   "outputs": [
    {
     "name": "stdout",
     "output_type": "stream",
     "text": [
      "Sütuna Index ile ulaşma: [25 45 37 19 53]\n",
      "Sütuna nitelik ile ulaşma: [25 45 37 19 53]\n"
     ]
    }
   ],
   "source": [
    "print(\"Sütuna Index ile ulaşma:\", veri['yas'])\n",
    "veri_rec = veri.view(np.recarray) # veriyi recarray türüne çeviriyoruz\n",
    "print(\"Sütuna nitelik ile ulaşma:\", veri_rec.yas)"
   ]
  },
  {
   "cell_type": "markdown",
   "metadata": {},
   "source": [
    "Gelgelelim recordarrays bi tık daha yavaştır. Kullanışlılığın yavaşlığa değip değmeyeceğini projenize göre karar verirsiniz."
   ]
  }
 ],
 "metadata": {
  "kernelspec": {
   "display_name": "Python 3",
   "language": "python",
   "name": "python3"
  },
  "language_info": {
   "codemirror_mode": {
    "name": "ipython",
    "version": 3
   },
   "file_extension": ".py",
   "mimetype": "text/x-python",
   "name": "python",
   "nbconvert_exporter": "python",
   "pygments_lexer": "ipython3",
   "version": "3.8.8"
  }
 },
 "nbformat": 4,
 "nbformat_minor": 4
}

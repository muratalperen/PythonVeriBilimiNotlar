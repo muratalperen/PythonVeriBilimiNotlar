{
 "cells": [
  {
   "cell_type": "markdown",
   "metadata": {},
   "source": [
    "Şimdiki bölümde Numpy'ı veri biliminde bu kadar kullanılmasını sağlayan özelliklerden bir diğerine geçeceğiz: Veriler üzerinde işlemler yapma.\n",
    "\n",
    "Python, dinamik ve yorumlanabilir (interpreted) bir dil olmasından ötürü makine diline çevrilen C dili gibi diller kadar hızlı değildir. Python'un bu göreceli yavaşlığı, küçük işlemlerin tekrar edilmesi gerektiğinde kendini daha çok hissettirir.\n",
    "\n",
    "Aşağıdaki örnekteki fonksiyon, belirlediğimiz boyutlarda iki rastgele dizi oluşturup bunların her elemanını birbirine bölüyor:"
   ]
  },
  {
   "cell_type": "code",
   "execution_count": 1,
   "metadata": {},
   "outputs": [],
   "source": [
    "import numpy as np"
   ]
  },
  {
   "cell_type": "code",
   "execution_count": 2,
   "metadata": {},
   "outputs": [
    {
     "data": {
      "text/plain": [
       "[2.996640370952276,\n",
       " 0.8622768829359573,\n",
       " 1.111943536129708,\n",
       " 1.5488509547923404,\n",
       " 0.10191949346867588]"
      ]
     },
     "execution_count": 2,
     "metadata": {},
     "output_type": "execute_result"
    }
   ],
   "source": [
    "def bol(boyut):\n",
    "    a = np.random.rand(boyut)\n",
    "    b = np.random.rand(boyut)\n",
    "    return [a[i]/b[i] for i in range(boyut)]\n",
    "\n",
    "bol(5)"
   ]
  },
  {
   "cell_type": "markdown",
   "metadata": {},
   "source": [
    "Yavaşlamanın boyutunu görmek için IPython kodu olan `timeit` komutunu kullanacağız:"
   ]
  },
  {
   "cell_type": "code",
   "execution_count": 3,
   "metadata": {},
   "outputs": [
    {
     "name": "stdout",
     "output_type": "stream",
     "text": [
      "406 ms ± 7.74 ms per loop (mean ± std. dev. of 7 runs, 1 loop each)\n"
     ]
    }
   ],
   "source": [
    "%timeit bol(2000000)"
   ]
  },
  {
   "cell_type": "markdown",
   "metadata": {},
   "source": [
    "2 milyon işlem göze büyük gelebilse de bu çok daha hızlandırılabilir bir işlemdir."
   ]
  },
  {
   "cell_type": "markdown",
   "metadata": {},
   "source": [
    "## Universal Functions (Ufunc, Evrensel fonksiyonlar)\n",
    "\n",
    "Dizilerin elemanları arasında işlemler yaptırmak için aralarına istediğiniz operatörü koymanız yeterli."
   ]
  },
  {
   "cell_type": "code",
   "execution_count": 4,
   "metadata": {},
   "outputs": [],
   "source": [
    "def bolHizla(boyut):\n",
    "    a = np.random.rand(boyut)\n",
    "    b = np.random.rand(boyut)\n",
    "    return a / b"
   ]
  },
  {
   "cell_type": "code",
   "execution_count": 5,
   "metadata": {},
   "outputs": [
    {
     "name": "stdout",
     "output_type": "stream",
     "text": [
      "28.9 ms ± 760 µs per loop (mean ± std. dev. of 7 runs, 10 loops each)\n"
     ]
    }
   ],
   "source": [
    "%timeit bolHizla(2000000)"
   ]
  },
  {
   "cell_type": "markdown",
   "metadata": {},
   "source": [
    "Yaklaşık 20 kat hızlandığını görebilirsiniz.\n",
    "\n",
    "Bu işlem bir sayı ile bir dizi arasında da yapılabilir:"
   ]
  },
  {
   "cell_type": "code",
   "execution_count": 6,
   "metadata": {},
   "outputs": [
    {
     "data": {
      "text/plain": [
       "array([ 1,  2,  4,  8, 16])"
      ]
     },
     "execution_count": 6,
     "metadata": {},
     "output_type": "execute_result"
    }
   ],
   "source": [
    "2 ** np.arange(5)"
   ]
  },
  {
   "cell_type": "markdown",
   "metadata": {},
   "source": [
    "Bu işlemler Numpy fonksiyonları ile de yapılabilir. Örneğin toplama için `np.add(dizi1, dizi2)` kullanılır. Bu fonksiyonların bir kısmı aşağıda listelenmiştir.\n",
    "\n",
    "| Operatör | Fonksiyon    | Açıklama                |\n",
    "|:--------:|--------------|-------------------------|\n",
    "| +        | add          | Topla                   |\n",
    "| -        | subtract     | Çıkar                   |\n",
    "| *        | multiply     | Çarp                    |\n",
    "| /        | divide       | Böl                     |\n",
    "| //       | floor_divide | Bölümün tam kısmı       |\n",
    "| **       | power        | Üssü                    |\n",
    "| %        | mod          | Modülüs, bölümden kalan |\n",
    "\n",
    "Mutlak değer için `np.abs` veya `np.absolute` kullanabiliriz.\n",
    "\n",
    "Ayrıca daha bir sürü matematiksel fonksiyon bulunur:\n",
    "+ Trigonometrik: sin, cos, tan, arcsin, arctan\n",
    "+ Üssel ve Logaritmik: exp, exp2, log, log2, log10, expm1, log1p"
   ]
  },
  {
   "cell_type": "markdown",
   "metadata": {},
   "source": [
    "## Ufunc Özellikleri ve Parametreleri\n",
    "\n",
    "Ufunc fonksiyonlarında döndürülen değerin gideceği değişken out parametresi belirlenebilir. Tabiki out yapılacak değişken, uzunluğu uygun olan `np.array` türü değişken olmalıdır."
   ]
  },
  {
   "cell_type": "code",
   "execution_count": 7,
   "metadata": {},
   "outputs": [
    {
     "data": {
      "text/plain": [
       "array([ 0,  2,  4,  6,  8, 10, 12, 14, 16, 18])"
      ]
     },
     "execution_count": 7,
     "metadata": {},
     "output_type": "execute_result"
    }
   ],
   "source": [
    "sayilar = np.arange(10) # birden ona kadar sayılar\n",
    "ikiserSay = np.empty(10, dtype=int) # boş ama aynı uzunlukta dizi\n",
    "np.multiply(2, sayilar, out=ikiserSay)\n",
    "ikiserSay"
   ]
  },
  {
   "cell_type": "markdown",
   "metadata": {},
   "source": [
    "`reduce()` fonksiyonu bir ufunc sonuna eklenir ve o uFunc'un özelliğini dizinin tüm elemanlarına uygulayıp sonucu verir:"
   ]
  },
  {
   "cell_type": "code",
   "execution_count": 8,
   "metadata": {},
   "outputs": [
    {
     "name": "stdout",
     "output_type": "stream",
     "text": [
      "Dizi: [7 7 0]\n",
      "Reduce: 14\n"
     ]
    }
   ],
   "source": [
    "s = np.random.randint(10, size=3)\n",
    "print(\"Dizi:\", s)\n",
    "print(\"Reduce:\", np.add.reduce(s)) # dizinin tüm elemanlarının toplamını verir."
   ]
  },
  {
   "cell_type": "markdown",
   "metadata": {},
   "source": [
    "`accumulate()` fonksiyonu da eklendiği uFunc'ın işlevini yapıp diziye eleman olarak ekler."
   ]
  },
  {
   "cell_type": "code",
   "execution_count": 9,
   "metadata": {},
   "outputs": [
    {
     "name": "stdout",
     "output_type": "stream",
     "text": [
      "Dizi: [1 2 3 4]\n",
      "Accumulate: [ 1  2  6 24]\n"
     ]
    }
   ],
   "source": [
    "s = np.arange(1,5)\n",
    "print(\"Dizi:\", s)\n",
    "print(\"Accumulate:\", np.multiply.accumulate(s)) # her eleman, kendisine kadar olan elemanların çarpımı"
   ]
  },
  {
   "cell_type": "markdown",
   "metadata": {},
   "source": [
    "Bunlar gibi daha birçok fonksiyon bulunuyor. Bunların bir kısmını ileriki bölümlerde göreceğiz. Universal fonksiyonlarla ilgili daha fazla bilgi için [Ufunc Numpy Dokümentasyonundan](https://numpy.org/devdocs/reference/ufuncs.html) yararlanabilirsiniz."
   ]
  }
 ],
 "metadata": {
  "kernelspec": {
   "display_name": "Python 3",
   "language": "python",
   "name": "python3"
  },
  "language_info": {
   "codemirror_mode": {
    "name": "ipython",
    "version": 3
   },
   "file_extension": ".py",
   "mimetype": "text/x-python",
   "name": "python",
   "nbconvert_exporter": "python",
   "pygments_lexer": "ipython3",
   "version": "3.8.8"
  }
 },
 "nbformat": 4,
 "nbformat_minor": 4
}

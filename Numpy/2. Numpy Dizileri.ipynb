{
 "cells": [
  {
   "cell_type": "markdown",
   "metadata": {},
   "source": [
    "Veri biliminde verilerin temeli Numpy dizilerine dayanır. İleride göreceğimiz Pandas gibi diğer veri araçları da Numpy dizilerini kullanır. Bu bölümde Numpy dizileri ile ilgili işlemlere değineceğiz.\n",
    "\n",
    "## Dizi Özellikleri\n",
    "\n",
    "[Önceden](#) öğrendiğimiz gibi iki boyutlu diziyi aşağıdaki gibi tanımlayabiliriz:"
   ]
  },
  {
   "cell_type": "code",
   "execution_count": 1,
   "metadata": {},
   "outputs": [],
   "source": [
    "import numpy as np"
   ]
  },
  {
   "cell_type": "code",
   "execution_count": 2,
   "metadata": {},
   "outputs": [
    {
     "data": {
      "text/plain": [
       "array([[35, 13,  7,  0],\n",
       "       [31, 12, 30, 17],\n",
       "       [17, 43,  6, 40]])"
      ]
     },
     "execution_count": 2,
     "metadata": {},
     "output_type": "execute_result"
    }
   ],
   "source": [
    "dizi2d = np.random.randint(50, size=(3,4)) # 0-50 arası rakamlarla 3x4'lük rastgele dizi oluştur,\n",
    "dizi2d"
   ]
  },
  {
   "cell_type": "markdown",
   "metadata": {},
   "source": [
    "Dizilerin, kendileri hakkında bilgi sahibi olabileceğiniz bazı öznitelikleri (attributes) vardır:"
   ]
  },
  {
   "cell_type": "code",
   "execution_count": 3,
   "metadata": {},
   "outputs": [
    {
     "name": "stdout",
     "output_type": "stream",
     "text": [
      "Dizinin boyutu: 2\n",
      "Dizinin şekli (eksenlerinin uzunlukları): (3, 4)\n",
      "Dizinin eleman sayısı: 12\n",
      "Dizinin elemanlarının veri türü: int64\n",
      "Dizinin bir elemanının bayt cinsinden boyutu: 8\n",
      "Dizinin bayt cinsinden boyutu: 96\n"
     ]
    }
   ],
   "source": [
    "print(\"Dizinin boyutu:\", dizi2d.ndim)\n",
    "print(\"Dizinin şekli (eksenlerinin uzunlukları):\", dizi2d.shape)\n",
    "print(\"Dizinin eleman sayısı:\", dizi2d.size)\n",
    "print(\"Dizinin elemanlarının veri türü:\", dizi2d.dtype)\n",
    "print(\"Dizinin bir elemanının bayt cinsinden boyutu:\", dizi2d.itemsize)\n",
    "print(\"Dizinin bayt cinsinden boyutu:\", dizi2d.nbytes)"
   ]
  },
  {
   "cell_type": "markdown",
   "metadata": {},
   "source": [
    "## Bir Elemana Ulaşmak\n",
    "\n",
    "Numpy dizilerinde veriye ulaşmak için Python'daki liste verilerine ulaşma yöntemlerinin aynısı kullanılır."
   ]
  },
  {
   "cell_type": "code",
   "execution_count": 4,
   "metadata": {},
   "outputs": [
    {
     "name": "stdout",
     "output_type": "stream",
     "text": [
      "Dizi: [2 6 2 5 8]\n",
      "2 8\n"
     ]
    }
   ],
   "source": [
    "dizi = np.random.randint(10, size=5)\n",
    "print(\"Dizi:\", dizi)\n",
    "print(dizi[2], dizi[-1])"
   ]
  },
  {
   "cell_type": "markdown",
   "metadata": {},
   "source": [
    "Çok boyutlu dizilerde indisler arasına virgül konarak diğer eksenlerdeki indisler belirtilir. Örneğin iki boyutlu bir dizi için `[2,3]` ifadesi, ikinci satırın üçüncü sütunu anlamına gelir."
   ]
  },
  {
   "cell_type": "code",
   "execution_count": 5,
   "metadata": {},
   "outputs": [
    {
     "name": "stdout",
     "output_type": "stream",
     "text": [
      "Dizi:\n",
      " [[35 13  7  0]\n",
      " [31 12 30 17]\n",
      " [17 43  6 40]] \n",
      "Eleman: 43\n"
     ]
    }
   ],
   "source": [
    "print(\"Dizi:\\n\", dizi2d, \"\\nEleman:\", dizi2d[2,1])"
   ]
  },
  {
   "cell_type": "markdown",
   "metadata": {},
   "source": [
    "Python listelerindeki gibi `[3:5]` şeklinde 3 ile 5 aralığındakileri alabilirsiniz. Çok boyutlu diziler için aralara virgüller koyarak işlemlerinizi yine yapabilirsiniz (ör: `dizi[:1, 1:4:2]`).\n",
    "\n",
    "> Hatırla: Dilimleme (slicing) işlemi şu şekilde kullanılır: `[bas:son:atlama]`"
   ]
  },
  {
   "cell_type": "code",
   "execution_count": 6,
   "metadata": {},
   "outputs": [
    {
     "data": {
      "text/plain": [
       "array([40,  6, 43, 17])"
      ]
     },
     "execution_count": 6,
     "metadata": {},
     "output_type": "execute_result"
    }
   ],
   "source": [
    "dizi2d[2, ::-1] # dizinin ikinci satırını tersten yaz"
   ]
  },
  {
   "cell_type": "markdown",
   "metadata": {},
   "source": [
    "Numpy dizilerinin tek tip verilerden oluşmasından dolayı diziye farklı tipte veri kaydetmeye çalıştırsanız, Numpy onu dizinin tipine çevirerek kaydeder."
   ]
  },
  {
   "cell_type": "code",
   "execution_count": 7,
   "metadata": {},
   "outputs": [
    {
     "name": "stdout",
     "output_type": "stream",
     "text": [
      "int64\n",
      "2\n",
      "6\n"
     ]
    }
   ],
   "source": [
    "print(dizi.dtype)\n",
    "print(dizi[0])\n",
    "dizi[0] = 6.7\n",
    "print(dizi[0])"
   ]
  },
  {
   "cell_type": "markdown",
   "metadata": {},
   "source": [
    "> Burada size önerim, şimdi iki veya üç boyutlu rastgele bir dizi oluşturun ve belirlerdiğiniz elemanlara erişmeye çalışın."
   ]
  },
  {
   "cell_type": "markdown",
   "metadata": {},
   "source": [
    "## Dizileri Yeniden Şekillendirme\n",
    "\n",
    "Dizileri yeniden şekillendirmenin en iyi yolu `reshape()` fonksiyonunu kullanmaktır. Mesela 9 elemanlı diziyi 3x3'lük diziye aşağıdaki gibi çevirebiliriz:"
   ]
  },
  {
   "cell_type": "code",
   "execution_count": 8,
   "metadata": {},
   "outputs": [
    {
     "data": {
      "text/plain": [
       "array([1, 2, 3, 4, 5, 6, 7, 8, 9])"
      ]
     },
     "execution_count": 8,
     "metadata": {},
     "output_type": "execute_result"
    }
   ],
   "source": [
    "onakadar = np.arange(1,10)\n",
    "onakadar"
   ]
  },
  {
   "cell_type": "code",
   "execution_count": 9,
   "metadata": {},
   "outputs": [
    {
     "data": {
      "text/plain": [
       "array([[1, 2, 3],\n",
       "       [4, 5, 6],\n",
       "       [7, 8, 9]])"
      ]
     },
     "execution_count": 9,
     "metadata": {},
     "output_type": "execute_result"
    }
   ],
   "source": [
    "onakadar.reshape(3, 3)"
   ]
  },
  {
   "cell_type": "markdown",
   "metadata": {},
   "source": [
    "Dizinin elemanlarını bir alt boyuta koymak için aşağıdaki yöntemi kullanabilirsiniz."
   ]
  },
  {
   "cell_type": "code",
   "execution_count": 10,
   "metadata": {},
   "outputs": [
    {
     "data": {
      "text/plain": [
       "array([[1, 2, 3, 4, 5, 6, 7, 8, 9]])"
      ]
     },
     "execution_count": 10,
     "metadata": {},
     "output_type": "execute_result"
    }
   ],
   "source": [
    "onakadar[np.newaxis]"
   ]
  },
  {
   "cell_type": "markdown",
   "metadata": {},
   "source": [
    "## Dizi Birleştirme ve Bölme\n",
    "\n",
    "### Dizi Birleştirme\n",
    "\n",
    "Dizileri birleştirmek için **concatenate**, **hstack** ve **vstack** fonksiyonları kullanılır. Bu fonksiyonlarla iki veya daha fazla diziyi birleştirebilirsiniz.\n",
    "\n",
    "Concatenate fonksiyonu parametre olarak birleştirilecek dizileri liste veya tuple olarak alır."
   ]
  },
  {
   "cell_type": "code",
   "execution_count": 11,
   "metadata": {},
   "outputs": [
    {
     "data": {
      "text/plain": [
       "array([1, 2, 3, 4, 5, 6])"
      ]
     },
     "execution_count": 11,
     "metadata": {},
     "output_type": "execute_result"
    }
   ],
   "source": [
    "a = np.array([1,2,3])\n",
    "b = np.array([4,5,6])\n",
    "np.concatenate((a, b))"
   ]
  },
  {
   "cell_type": "markdown",
   "metadata": {},
   "source": [
    "Concatenate fonksiyonu ayrıca çok boyutlu dizileri de birleştirebilir."
   ]
  },
  {
   "cell_type": "code",
   "execution_count": 12,
   "metadata": {},
   "outputs": [
    {
     "data": {
      "text/plain": [
       "array([[ 1,  2,  3],\n",
       "       [ 4,  5,  6],\n",
       "       [10, 20, 30],\n",
       "       [40, 50, 60]])"
      ]
     },
     "execution_count": 12,
     "metadata": {},
     "output_type": "execute_result"
    }
   ],
   "source": [
    "a = np.array([[1, 2, 3],\n",
    "              [4, 5, 6]])\n",
    "b = np.array([[10, 20, 30],\n",
    "              [40, 50, 60]])\n",
    "np.concatenate((a, b))"
   ]
  },
  {
   "cell_type": "markdown",
   "metadata": {},
   "source": [
    "**axis** parametresi ile hangi boyuttan birleştireceğinizi de belirtebilirsiniz. 0 (öntanımlı olan) dikey, 1 yatay olarak birleştirir."
   ]
  },
  {
   "cell_type": "code",
   "execution_count": 13,
   "metadata": {},
   "outputs": [
    {
     "data": {
      "text/plain": [
       "array([[ 1,  2,  3, 10, 20, 30],\n",
       "       [ 4,  5,  6, 40, 50, 60]])"
      ]
     },
     "execution_count": 13,
     "metadata": {},
     "output_type": "execute_result"
    }
   ],
   "source": [
    "np.concatenate((a, b), axis=1)"
   ]
  },
  {
   "cell_type": "markdown",
   "metadata": {},
   "source": [
    "Ama çok boyutlu dizileri birleştirmek için axis parametresiyle concatenate kullanmak yerine `vstack` (vertical = dikey) ve `hstack` (horizontal = yatay) kullanmak kodun okunabilirliğini arttırır ve tercih edilir."
   ]
  },
  {
   "cell_type": "code",
   "execution_count": 14,
   "metadata": {},
   "outputs": [
    {
     "data": {
      "text/plain": [
       "array([[ 1,  2,  3],\n",
       "       [ 4,  5,  6],\n",
       "       [10, 20, 30],\n",
       "       [40, 50, 60]])"
      ]
     },
     "execution_count": 14,
     "metadata": {},
     "output_type": "execute_result"
    }
   ],
   "source": [
    "np.vstack((a,b))"
   ]
  },
  {
   "cell_type": "code",
   "execution_count": 15,
   "metadata": {
    "scrolled": true
   },
   "outputs": [
    {
     "data": {
      "text/plain": [
       "array([[ 1,  2,  3, 10, 20, 30],\n",
       "       [ 4,  5,  6, 40, 50, 60]])"
      ]
     },
     "execution_count": 15,
     "metadata": {},
     "output_type": "execute_result"
    }
   ],
   "source": [
    "np.hstack((a,b))"
   ]
  },
  {
   "cell_type": "markdown",
   "metadata": {},
   "source": [
    "### Dizi Bölme\n",
    "\n",
    "Diziyi birden fazla parçaya ayırmak için `split()` fonksiyonundan yararlanılır. Birinci parametreye dizi, ikinci parametreye de dizinin bölünecek yerleri yazılır."
   ]
  },
  {
   "cell_type": "code",
   "execution_count": 16,
   "metadata": {},
   "outputs": [
    {
     "data": {
      "text/plain": [
       "array([0, 1, 2, 3, 4, 5, 6, 7, 8, 9])"
      ]
     },
     "execution_count": 16,
     "metadata": {},
     "output_type": "execute_result"
    }
   ],
   "source": [
    "dizi = np.arange(10)\n",
    "dizi"
   ]
  },
  {
   "cell_type": "code",
   "execution_count": 17,
   "metadata": {},
   "outputs": [
    {
     "data": {
      "text/plain": [
       "[array([0, 1, 2]), array([3, 4, 5, 6, 7, 8, 9])]"
      ]
     },
     "execution_count": 17,
     "metadata": {},
     "output_type": "execute_result"
    }
   ],
   "source": [
    "np.split(dizi, [3]) # diziyi üçüncü elemanından böler. İkiye ayırıp liste olarak döndürür"
   ]
  },
  {
   "cell_type": "code",
   "execution_count": 18,
   "metadata": {},
   "outputs": [
    {
     "data": {
      "text/plain": [
       "[array([0, 1, 2]), array([3, 4, 5]), array([6, 7, 8, 9])]"
      ]
     },
     "execution_count": 18,
     "metadata": {},
     "output_type": "execute_result"
    }
   ],
   "source": [
    "np.split(dizi, [3, 6]) # diziyi üçüncü ve altıncı elemanından böler"
   ]
  },
  {
   "cell_type": "markdown",
   "metadata": {},
   "source": [
    "Çok boyutlu dizileri `vsplit` ve `hsplit` ile bölebilirsiniz. Ayrıca `dsplit` fonksiyonu da üçüncü boyutta keser."
   ]
  },
  {
   "cell_type": "code",
   "execution_count": 19,
   "metadata": {},
   "outputs": [
    {
     "data": {
      "text/plain": [
       "array([[1, 2, 3, 4],\n",
       "       [5, 6, 7, 8]])"
      ]
     },
     "execution_count": 19,
     "metadata": {},
     "output_type": "execute_result"
    }
   ],
   "source": [
    "ikiBoyutlu = np.array(np.split(dizi[1:9], [4]))\n",
    "ikiBoyutlu"
   ]
  },
  {
   "cell_type": "code",
   "execution_count": 20,
   "metadata": {},
   "outputs": [
    {
     "data": {
      "text/plain": [
       "[array([[1, 2],\n",
       "        [5, 6]]),\n",
       " array([[3, 4],\n",
       "        [7, 8]])]"
      ]
     },
     "execution_count": 20,
     "metadata": {},
     "output_type": "execute_result"
    }
   ],
   "source": [
    "np.hsplit(ikiBoyutlu, [2])"
   ]
  }
 ],
 "metadata": {
  "kernelspec": {
   "display_name": "Python 3",
   "language": "python",
   "name": "python3"
  },
  "language_info": {
   "codemirror_mode": {
    "name": "ipython",
    "version": 3
   },
   "file_extension": ".py",
   "mimetype": "text/x-python",
   "name": "python",
   "nbconvert_exporter": "python",
   "pygments_lexer": "ipython3",
   "version": "3.8.8"
  }
 },
 "nbformat": 4,
 "nbformat_minor": 4
}

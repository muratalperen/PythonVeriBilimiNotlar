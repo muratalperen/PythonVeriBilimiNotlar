{
 "cells": [
  {
   "cell_type": "markdown",
   "metadata": {},
   "source": [
    "## Index'lerin Dizi Özellikleri\n",
    "\n",
    "Index yapıları `pd.Index` ile oluşturulur. Özellikleri dizilere benzer. Dizilerden önemli bir farkı, değiştirilemez (immutable) olmasıdır. Yani tuple'daki gibi index oluşturulduktan sonra üzerinde değişiklik yapılamaz."
   ]
  },
  {
   "cell_type": "code",
   "execution_count": 1,
   "metadata": {},
   "outputs": [],
   "source": [
    "import pandas as pd"
   ]
  },
  {
   "cell_type": "code",
   "execution_count": 2,
   "metadata": {},
   "outputs": [
    {
     "name": "stdout",
     "output_type": "stream",
     "text": [
      "Index: Int64Index([2, 5, 23, 64, 9, 0, 5], dtype='int64')\n",
      "Özellikler: 7 (7,) 1 int64\n"
     ]
    }
   ],
   "source": [
    "ind = pd.Index([2, 5, 23, 64, 9, 0, 5])\n",
    "print(\"Index:\", ind)\n",
    "print(\"Özellikler:\",\n",
    "      ind.size, # uzunluk\n",
    "      ind.shape,# eksenlerin uzunluğu\n",
    "      ind.ndim, # kaç boyutlu\n",
    "      ind.dtype # veri tipi\n",
    "     )"
   ]
  },
  {
   "cell_type": "markdown",
   "metadata": {},
   "source": [
    "## Index'lerin Küme (Set) Özellikleri\n",
    "\n",
    "Index'ler yapı olarak kümelere benzediklerinden kümelerde yaptığımız işlemeleri (kesişim, birleşim vb.) Index'lerde de yapabilirsiniz. Kümelerden önemli bir farkı da, aynı değerin birden fazla bulunabilir olmasıdır. Küme işlemlerini fonksiyonlar yardımıyla yapabilirsiniz."
   ]
  },
  {
   "cell_type": "code",
   "execution_count": 3,
   "metadata": {},
   "outputs": [
    {
     "data": {
      "text/plain": [
       "Int64Index([1, 5], dtype='int64')"
      ]
     },
     "execution_count": 3,
     "metadata": {},
     "output_type": "execute_result"
    }
   ],
   "source": [
    "a = pd.Index([1, 2, 3, 4, 5])\n",
    "b = pd.Index([1, 5, 5, 0])\n",
    "\n",
    "a.intersection(b) # kesişim"
   ]
  },
  {
   "cell_type": "markdown",
   "metadata": {},
   "source": [
    "Sık kullanılan fonksiyonlar şunlardır:\n",
    "\n",
    "| Sembol | Fonksiyon            | İşlev         |   |   |\n",
    "|:------:|----------------------|---------------|---|---|\n",
    "| \\|     | union                | Birleşim      |   |   |\n",
    "| &      | intersection         | Kesişim       |   |   |\n",
    "|        | difference           | Fark          |   |   |\n",
    "| ^      | symmetric_difference | Simetrik Fark |   |   |"
   ]
  }
 ],
 "metadata": {
  "kernelspec": {
   "display_name": "Python 3",
   "language": "python",
   "name": "python3"
  },
  "language_info": {
   "codemirror_mode": {
    "name": "ipython",
    "version": 3
   },
   "file_extension": ".py",
   "mimetype": "text/x-python",
   "name": "python",
   "nbconvert_exporter": "python",
   "pygments_lexer": "ipython3",
   "version": "3.8.8"
  }
 },
 "nbformat": 4,
 "nbformat_minor": 4
}

{
 "cells": [
  {
   "cell_type": "markdown",
   "metadata": {},
   "source": [
    "DataFrame nesnesi Numpy Dizileri ile Python sözlük yapısının birleşimidir.\n",
    "\n",
    "## Veriden Dataframe Üretme\n",
    "\n",
    "Dataframe'lere, Serie'lerin iki boyutlusu diyebiliriz. Sözlüklerden Serie'ler, Serie'lerden de DataFrame oluşturabiliriz."
   ]
  },
  {
   "cell_type": "code",
   "execution_count": 1,
   "metadata": {},
   "outputs": [],
   "source": [
    "import pandas as pd"
   ]
  },
  {
   "cell_type": "code",
   "execution_count": 2,
   "metadata": {},
   "outputs": [],
   "source": [
    "# Kaynak: https://en.wikipedia.org/wiki/World_War_I_casualties\n",
    "\n",
    "# sözlükleri oluşturuyoruz\n",
    "nufusSozluk = { # milyon\n",
    "    \"İngiltere\" : 45.4,\n",
    "    \"Fransa\" : 39.6,\n",
    "    \"Almanya\" : 64.9,\n",
    "    \"Osmanlı\" : 21.3\n",
    "}\n",
    "olumSozluk = {\n",
    "    \"İngiltere\" : 744000,\n",
    "    \"Fransa\" : 1150000,\n",
    "    \"Almanya\" : 1800000,\n",
    "    \"Osmanlı\" : 305085\n",
    "}\n",
    "\n",
    "# sözlükleri Serie yapıyoruz\n",
    "nufus = pd.Series(nufusSozluk)\n",
    "olum = pd.Series(olumSozluk)\n",
    "\n",
    "# serieleri dataframe yapıyoruz\n",
    "ww1Df = pd.DataFrame({\n",
    "    \"Nüfus\": nufus,\n",
    "    \"Ölüm\" : olum\n",
    "})"
   ]
  },
  {
   "cell_type": "code",
   "execution_count": 3,
   "metadata": {
    "scrolled": true
   },
   "outputs": [
    {
     "data": {
      "text/html": [
       "<div>\n",
       "<style scoped>\n",
       "    .dataframe tbody tr th:only-of-type {\n",
       "        vertical-align: middle;\n",
       "    }\n",
       "\n",
       "    .dataframe tbody tr th {\n",
       "        vertical-align: top;\n",
       "    }\n",
       "\n",
       "    .dataframe thead th {\n",
       "        text-align: right;\n",
       "    }\n",
       "</style>\n",
       "<table border=\"1\" class=\"dataframe\">\n",
       "  <thead>\n",
       "    <tr style=\"text-align: right;\">\n",
       "      <th></th>\n",
       "      <th>Nüfus</th>\n",
       "      <th>Ölüm</th>\n",
       "    </tr>\n",
       "  </thead>\n",
       "  <tbody>\n",
       "    <tr>\n",
       "      <th>İngiltere</th>\n",
       "      <td>45.4</td>\n",
       "      <td>744000</td>\n",
       "    </tr>\n",
       "    <tr>\n",
       "      <th>Fransa</th>\n",
       "      <td>39.6</td>\n",
       "      <td>1150000</td>\n",
       "    </tr>\n",
       "    <tr>\n",
       "      <th>Almanya</th>\n",
       "      <td>64.9</td>\n",
       "      <td>1800000</td>\n",
       "    </tr>\n",
       "    <tr>\n",
       "      <th>Osmanlı</th>\n",
       "      <td>21.3</td>\n",
       "      <td>305085</td>\n",
       "    </tr>\n",
       "  </tbody>\n",
       "</table>\n",
       "</div>"
      ],
      "text/plain": [
       "           Nüfus     Ölüm\n",
       "İngiltere   45.4   744000\n",
       "Fransa      39.6  1150000\n",
       "Almanya     64.9  1800000\n",
       "Osmanlı     21.3   305085"
      ]
     },
     "execution_count": 3,
     "metadata": {},
     "output_type": "execute_result"
    }
   ],
   "source": [
    "ww1Df"
   ]
  },
  {
   "cell_type": "code",
   "execution_count": 4,
   "metadata": {},
   "outputs": [
    {
     "name": "stdout",
     "output_type": "stream",
     "text": [
      "Index: Index(['İngiltere', 'Fransa', 'Almanya', 'Osmanlı'], dtype='object')\n",
      "Sütunlar: Index(['Nüfus', 'Ölüm'], dtype='object')\n"
     ]
    }
   ],
   "source": [
    "print(\"Index:\", ww1Df.index)\n",
    "print(\"Sütunlar:\", ww1Df.columns)"
   ]
  },
  {
   "cell_type": "markdown",
   "metadata": {},
   "source": [
    "Büyük DataFrame'lerle ilgili ön bilgi edinmek için `info`, üstten birkaç satırı almak için `head`, alttan birkaç satırı almak için de `tail` fonksiyonu kullanılır. `head` ve `tail` fonksiyonu varsayılan olarak 5 satır gösterir. Parametre olarak sayı vererek gösterilecek satır sayısını ayarlayabilirsiniz."
   ]
  },
  {
   "cell_type": "code",
   "execution_count": 5,
   "metadata": {},
   "outputs": [
    {
     "name": "stdout",
     "output_type": "stream",
     "text": [
      "Alttan bilgi:          Nüfus     Ölüm\n",
      "Almanya   64.9  1800000\n",
      "Osmanlı   21.3   305085\n",
      "\n",
      "Bilgi:\n",
      "\n",
      "<class 'pandas.core.frame.DataFrame'>\n",
      "Index: 4 entries, İngiltere to Osmanlı\n",
      "Data columns (total 2 columns):\n",
      " #   Column  Non-Null Count  Dtype  \n",
      "---  ------  --------------  -----  \n",
      " 0   Nüfus   4 non-null      float64\n",
      " 1   Ölüm    4 non-null      int64  \n",
      "dtypes: float64(1), int64(1)\n",
      "memory usage: 96.0+ bytes\n",
      "None\n"
     ]
    }
   ],
   "source": [
    "print(\"Alttan bilgi:\", ww1Df.tail(2))\n",
    "print(\"\\nBilgi:\\n\")\n",
    "print(ww1Df.info())"
   ]
  },
  {
   "cell_type": "markdown",
   "metadata": {},
   "source": [
    "### DataFrame'den Veri Çekme\n",
    "\n",
    "Benzer şekilde DataFrame'i sözlük gibi düşünebiliriz. Sütunlara `ww1Df[\"Nüfus\"]` şeklinde ulaşılır. Ama dikkat etmeniz gereken, Numpy'daki iki boyutlu diziler gibi `ww1Df[0]` diyerek ilk satırı alamazsınız. Buna ayrıntılı olarak [Pandas Veri İndeksleme ve Seçme](#) bölümünde değineceğiz.\n",
    "\n",
    "### DataFrame Nesnesi Oluşturma\n",
    "\n",
    "DataFrame nesnesi çok çeşitli yöntemlerle üretilebilir.\n",
    "\n",
    "#### Serie Nesnesinden Üretme\n",
    "\n",
    "Tek Serie Nesnesinden, tek sütunluk DataFrame oluşturabilirsiniz."
   ]
  },
  {
   "cell_type": "code",
   "execution_count": 6,
   "metadata": {},
   "outputs": [
    {
     "data": {
      "text/html": [
       "<div>\n",
       "<style scoped>\n",
       "    .dataframe tbody tr th:only-of-type {\n",
       "        vertical-align: middle;\n",
       "    }\n",
       "\n",
       "    .dataframe tbody tr th {\n",
       "        vertical-align: top;\n",
       "    }\n",
       "\n",
       "    .dataframe thead th {\n",
       "        text-align: right;\n",
       "    }\n",
       "</style>\n",
       "<table border=\"1\" class=\"dataframe\">\n",
       "  <thead>\n",
       "    <tr style=\"text-align: right;\">\n",
       "      <th></th>\n",
       "      <th>Ülke Nüfusu</th>\n",
       "    </tr>\n",
       "  </thead>\n",
       "  <tbody>\n",
       "    <tr>\n",
       "      <th>İngiltere</th>\n",
       "      <td>45.4</td>\n",
       "    </tr>\n",
       "    <tr>\n",
       "      <th>Fransa</th>\n",
       "      <td>39.6</td>\n",
       "    </tr>\n",
       "    <tr>\n",
       "      <th>Almanya</th>\n",
       "      <td>64.9</td>\n",
       "    </tr>\n",
       "    <tr>\n",
       "      <th>Osmanlı</th>\n",
       "      <td>21.3</td>\n",
       "    </tr>\n",
       "  </tbody>\n",
       "</table>\n",
       "</div>"
      ],
      "text/plain": [
       "           Ülke Nüfusu\n",
       "İngiltere         45.4\n",
       "Fransa            39.6\n",
       "Almanya           64.9\n",
       "Osmanlı           21.3"
      ]
     },
     "execution_count": 6,
     "metadata": {},
     "output_type": "execute_result"
    }
   ],
   "source": [
    "pd.DataFrame(nufus, columns=['Ülke Nüfusu'])"
   ]
  },
  {
   "cell_type": "markdown",
   "metadata": {},
   "source": [
    "#### Sözlük Listesinden Üretme\n",
    "\n",
    "Liste içine sözlük koyarsanız Pandas o veriye iki boyutlu gibi davranacaktır. Anahtar değerleri sütun olarak kabul eder. Eğer bazı anahtar değerleri yazmazsanız Pandas o boşlukları NaN (not a number) ile doldurur."
   ]
  },
  {
   "cell_type": "code",
   "execution_count": 7,
   "metadata": {},
   "outputs": [
    {
     "data": {
      "text/html": [
       "<div>\n",
       "<style scoped>\n",
       "    .dataframe tbody tr th:only-of-type {\n",
       "        vertical-align: middle;\n",
       "    }\n",
       "\n",
       "    .dataframe tbody tr th {\n",
       "        vertical-align: top;\n",
       "    }\n",
       "\n",
       "    .dataframe thead th {\n",
       "        text-align: right;\n",
       "    }\n",
       "</style>\n",
       "<table border=\"1\" class=\"dataframe\">\n",
       "  <thead>\n",
       "    <tr style=\"text-align: right;\">\n",
       "      <th></th>\n",
       "      <th>A</th>\n",
       "      <th>B</th>\n",
       "    </tr>\n",
       "  </thead>\n",
       "  <tbody>\n",
       "    <tr>\n",
       "      <th>0</th>\n",
       "      <td>32</td>\n",
       "      <td>64.0</td>\n",
       "    </tr>\n",
       "    <tr>\n",
       "      <th>1</th>\n",
       "      <td>56</td>\n",
       "      <td>10.0</td>\n",
       "    </tr>\n",
       "    <tr>\n",
       "      <th>2</th>\n",
       "      <td>1</td>\n",
       "      <td>NaN</td>\n",
       "    </tr>\n",
       "  </tbody>\n",
       "</table>\n",
       "</div>"
      ],
      "text/plain": [
       "    A     B\n",
       "0  32  64.0\n",
       "1  56  10.0\n",
       "2   1   NaN"
      ]
     },
     "execution_count": 7,
     "metadata": {},
     "output_type": "execute_result"
    }
   ],
   "source": [
    "s1 = {\"A\":32, \"B\":64}\n",
    "s2 = {\"A\":56, \"B\":10}\n",
    "s3 = {\"A\":1}\n",
    "pd.DataFrame([s1, s2, s3])"
   ]
  },
  {
   "cell_type": "markdown",
   "metadata": {},
   "source": [
    "#### Serie'lerden Oluşan Sözlük ile Üretme\n",
    "\n",
    "[İlk yaptığımız örnek](#Veriden-Dataframe-Üretme) budur."
   ]
  },
  {
   "cell_type": "markdown",
   "metadata": {},
   "source": [
    "#### İki Boyutlu Numpy Dizisinden Üretme\n",
    "\n",
    "İki boyutlu numpy dizisini verip, satır ve sütun adlarını yazarak DataFrame oluşturabilirsiniz."
   ]
  },
  {
   "cell_type": "code",
   "execution_count": 8,
   "metadata": {},
   "outputs": [],
   "source": [
    "import numpy as np"
   ]
  },
  {
   "cell_type": "code",
   "execution_count": 9,
   "metadata": {},
   "outputs": [
    {
     "data": {
      "text/plain": [
       "array([[2, 3],\n",
       "       [8, 7],\n",
       "       [8, 0]])"
      ]
     },
     "execution_count": 9,
     "metadata": {},
     "output_type": "execute_result"
    }
   ],
   "source": [
    "numpy2dDizi = np.random.randint(10, size=(3, 2))\n",
    "numpy2dDizi"
   ]
  },
  {
   "cell_type": "code",
   "execution_count": 10,
   "metadata": {},
   "outputs": [
    {
     "data": {
      "text/html": [
       "<div>\n",
       "<style scoped>\n",
       "    .dataframe tbody tr th:only-of-type {\n",
       "        vertical-align: middle;\n",
       "    }\n",
       "\n",
       "    .dataframe tbody tr th {\n",
       "        vertical-align: top;\n",
       "    }\n",
       "\n",
       "    .dataframe thead th {\n",
       "        text-align: right;\n",
       "    }\n",
       "</style>\n",
       "<table border=\"1\" class=\"dataframe\">\n",
       "  <thead>\n",
       "    <tr style=\"text-align: right;\">\n",
       "      <th></th>\n",
       "      <th>sutun</th>\n",
       "      <th>diger_sutun</th>\n",
       "    </tr>\n",
       "  </thead>\n",
       "  <tbody>\n",
       "    <tr>\n",
       "      <th>a</th>\n",
       "      <td>2</td>\n",
       "      <td>3</td>\n",
       "    </tr>\n",
       "    <tr>\n",
       "      <th>b</th>\n",
       "      <td>8</td>\n",
       "      <td>7</td>\n",
       "    </tr>\n",
       "    <tr>\n",
       "      <th>c</th>\n",
       "      <td>8</td>\n",
       "      <td>0</td>\n",
       "    </tr>\n",
       "  </tbody>\n",
       "</table>\n",
       "</div>"
      ],
      "text/plain": [
       "   sutun  diger_sutun\n",
       "a      2            3\n",
       "b      8            7\n",
       "c      8            0"
      ]
     },
     "execution_count": 10,
     "metadata": {},
     "output_type": "execute_result"
    }
   ],
   "source": [
    "pd.DataFrame(numpy2dDizi, columns=['sutun', 'diger_sutun'], index=['a', 'b', 'c'])"
   ]
  },
  {
   "cell_type": "markdown",
   "metadata": {},
   "source": [
    "#### Numpy Structured Array\n",
    "\n",
    "[Structured Numpy dizileri](#)ni direkt olarak DataFrame'e çevirebilirsiniz."
   ]
  },
  {
   "cell_type": "code",
   "execution_count": 11,
   "metadata": {},
   "outputs": [
    {
     "data": {
      "text/plain": [
       "array([(0, 0.), (0, 0.), (0, 0.), (0, 0.)],\n",
       "      dtype=[('Sutun1', '<i8'), ('Sutun2', '<f8')])"
      ]
     },
     "execution_count": 11,
     "metadata": {},
     "output_type": "execute_result"
    }
   ],
   "source": [
    "yapisalDizi = np.zeros(4, dtype=[('Sutun1', int), ('Sutun2', float)])\n",
    "yapisalDizi"
   ]
  },
  {
   "cell_type": "code",
   "execution_count": 12,
   "metadata": {},
   "outputs": [
    {
     "ename": "NameError",
     "evalue": "name 'yapisaDizi' is not defined",
     "output_type": "error",
     "traceback": [
      "\u001b[0;31m---------------------------------------------------------------------------\u001b[0m",
      "\u001b[0;31mNameError\u001b[0m                                 Traceback (most recent call last)",
      "\u001b[0;32m<ipython-input-12-7803ca483159>\u001b[0m in \u001b[0;36m<module>\u001b[0;34m\u001b[0m\n\u001b[0;32m----> 1\u001b[0;31m \u001b[0mpd\u001b[0m\u001b[0;34m.\u001b[0m\u001b[0mDataFrame\u001b[0m\u001b[0;34m(\u001b[0m\u001b[0myapisaDizi\u001b[0m\u001b[0;34m)\u001b[0m\u001b[0;34m\u001b[0m\u001b[0;34m\u001b[0m\u001b[0m\n\u001b[0m",
      "\u001b[0;31mNameError\u001b[0m: name 'yapisaDizi' is not defined"
     ]
    }
   ],
   "source": [
    "pd.DataFrame(yapisaDizi)"
   ]
  }
 ],
 "metadata": {
  "kernelspec": {
   "display_name": "Python 3",
   "language": "python",
   "name": "python3"
  },
  "language_info": {
   "codemirror_mode": {
    "name": "ipython",
    "version": 3
   },
   "file_extension": ".py",
   "mimetype": "text/x-python",
   "name": "python",
   "nbconvert_exporter": "python",
   "pygments_lexer": "ipython3",
   "version": "3.8.8"
  }
 },
 "nbformat": 4,
 "nbformat_minor": 4
}

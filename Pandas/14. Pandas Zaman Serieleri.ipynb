{
 "cells": [
  {
   "cell_type": "markdown",
   "id": "5a05406a",
   "metadata": {},
   "source": [
    "Pandas'ın ana kullanım amaçlarından biri de finansal işlemlerdir. Bu yüzden zaman üzerinde işlemler için bir çok fonksiyonu vardır.\n",
    "\n",
    "## Python'da Zaman\n",
    "\n",
    "### Python Kütüphaneleri\n",
    "\n",
    "Built-in `datetime` kütüphanesi ile python'da zaman işlemleri yapabilirsiniz."
   ]
  },
  {
   "cell_type": "code",
   "execution_count": 1,
   "id": "783d2256",
   "metadata": {},
   "outputs": [
    {
     "data": {
      "text/plain": [
       "datetime.datetime(2020, 6, 27, 0, 0)"
      ]
     },
     "execution_count": 1,
     "metadata": {},
     "output_type": "execute_result"
    }
   ],
   "source": [
    "from datetime import datetime\n",
    "datetime(year=2020, month=6, day=27)"
   ]
  },
  {
   "cell_type": "markdown",
   "id": "3e3de0d3",
   "metadata": {},
   "source": [
    "Veya 3. parti kütüphane olan `dateutil` ile çeşitli fonksiyonları kullanabilirsiniz."
   ]
  },
  {
   "cell_type": "code",
   "execution_count": 2,
   "id": "c89092e1",
   "metadata": {},
   "outputs": [
    {
     "data": {
      "text/plain": [
       "datetime.datetime(2020, 6, 27, 0, 0)"
      ]
     },
     "execution_count": 2,
     "metadata": {},
     "output_type": "execute_result"
    }
   ],
   "source": [
    "from dateutil import parser\n",
    "zman = parser.parse(\"27th of June, 2020\")\n",
    "zman"
   ]
  },
  {
   "cell_type": "markdown",
   "id": "2ee673ce",
   "metadata": {},
   "source": [
    "*datetime* nesnesini `strftime` fonksiyonu ile yazdırabilirsiniz."
   ]
  },
  {
   "cell_type": "code",
   "execution_count": 3,
   "id": "fdfe907f",
   "metadata": {},
   "outputs": [
    {
     "data": {
      "text/plain": [
       "'Saturday'"
      ]
     },
     "execution_count": 3,
     "metadata": {},
     "output_type": "execute_result"
    }
   ],
   "source": [
    "zman.strftime(\"%A\")"
   ]
  },
  {
   "cell_type": "markdown",
   "id": "77b4662c",
   "metadata": {},
   "source": [
    "`%A` gibi diğer sembolleri [datetime dokümentasyonundan](?https://docs.python.org/3/library/datetime.html#strftime-and-strptime-behavior) bulabilirsiniz.\n",
    "\n",
    "### Typed arrays of times: NumPy’s datetime64\n",
    "\n",
    "Elbette zaman için python kütüphanelerini kullanmak büyük dizilerde performans sıkıntıları yaratıyor. Numpy'da zaman işlemlerinin hızlanması için `datetime64` veri türü kullanılır. Bu veri zamanı 64 bit integer olarak depolar."
   ]
  },
  {
   "cell_type": "code",
   "execution_count": 4,
   "id": "040dbd1a",
   "metadata": {},
   "outputs": [
    {
     "data": {
      "text/plain": [
       "array('2020-06-27', dtype='datetime64[D]')"
      ]
     },
     "execution_count": 4,
     "metadata": {},
     "output_type": "execute_result"
    }
   ],
   "source": [
    "import numpy as np\n",
    "nDate = np.array('2020-06-27', dtype=np.datetime64)\n",
    "nDate"
   ]
  },
  {
   "cell_type": "markdown",
   "id": "5993af8c",
   "metadata": {},
   "source": [
    "Zaman verisi oluşturulduktan sonra [Broadcasting kurallarına](#) uygun olarak vektörel işlemler yapabiliriz. "
   ]
  },
  {
   "cell_type": "code",
   "execution_count": 5,
   "id": "e0441027",
   "metadata": {},
   "outputs": [
    {
     "data": {
      "text/plain": [
       "array(['2020-06-27', '2020-06-28', '2020-06-29', '2020-06-30',\n",
       "       '2020-07-01', '2020-07-02'], dtype='datetime64[D]')"
      ]
     },
     "execution_count": 5,
     "metadata": {},
     "output_type": "execute_result"
    }
   ],
   "source": [
    "nDate + np.arange(6)"
   ]
  },
  {
   "cell_type": "markdown",
   "id": "1ae5bf07",
   "metadata": {},
   "source": [
    "`datetime64` veri türü 64 bit depolayabildiğinden tutabildiği zaman aralığı ile zaman hassasiyeti arasında ters orantı vardır. Örneğin gün hassasiyetindeki zaman 2.5e16?\\*2 yıl genişliğinde veri tutabilirken nanosaniye tutabilen bir veri 584 yıl genişliğini tutabilir. Bu genişlik verilen veriye bakarak numpy tarafından otomatik belirlenir. Ayrıca ikinci parametreye örneğin `ns` verilerek tarihin hassasiyeti nanosaniye olacak şekilde ayarlanabilir.\n",
    "\n",
    "### Pandas'ta Zaman\n",
    "\n",
    "Pandas'ta zaman verisi tutmak için `timestamp` veri türü kullanılır. Ayrıca `DatetimeIndex` şeklinde tarih index olarak da kullanılabilir."
   ]
  },
  {
   "cell_type": "code",
   "execution_count": 6,
   "id": "cc377c72",
   "metadata": {},
   "outputs": [
    {
     "data": {
      "text/plain": [
       "Timestamp('2020-06-27 00:00:00')"
      ]
     },
     "execution_count": 6,
     "metadata": {},
     "output_type": "execute_result"
    }
   ],
   "source": [
    "import pandas as pd\n",
    "pDate = pd.to_datetime(\"27th of June, 2020\")\n",
    "pDate"
   ]
  },
  {
   "cell_type": "markdown",
   "id": "7cde1ef6",
   "metadata": {},
   "source": [
    "Numpy'daki gibi burada da vektörel işlemler yapabiliriz."
   ]
  },
  {
   "cell_type": "code",
   "execution_count": 7,
   "id": "3a79e1f1",
   "metadata": {
    "scrolled": true
   },
   "outputs": [
    {
     "data": {
      "text/plain": [
       "DatetimeIndex(['2020-06-27', '2020-06-28', '2020-06-29', '2020-06-30',\n",
       "               '2020-07-01', '2020-07-02', '2020-07-03', '2020-07-04',\n",
       "               '2020-07-05', '2020-07-06', '2020-07-07', '2020-07-08'],\n",
       "              dtype='datetime64[ns]', freq=None)"
      ]
     },
     "execution_count": 7,
     "metadata": {},
     "output_type": "execute_result"
    }
   ],
   "source": [
    "pDate + pd.to_timedelta(np.arange(12), 'D')"
   ]
  },
  {
   "cell_type": "markdown",
   "id": "080d43e1",
   "metadata": {},
   "source": [
    "## Zamanı Index Olarak Kullanma\n",
    "\n",
    "Zaman verisi index olarak kullanıldığında çok işlevsel olur."
   ]
  },
  {
   "cell_type": "code",
   "execution_count": 8,
   "id": "853bcefc",
   "metadata": {},
   "outputs": [
    {
     "data": {
      "text/plain": [
       "2014-07-04    0\n",
       "2014-08-04    1\n",
       "2015-07-04    2\n",
       "2015-08-04    3\n",
       "dtype: int64"
      ]
     },
     "execution_count": 8,
     "metadata": {},
     "output_type": "execute_result"
    }
   ],
   "source": [
    "index = pd.DatetimeIndex([\"2014-07-04\", \"2014-08-04\", \"2015-07-04\", \"2015-08-04\"])\n",
    "veri = pd.Series([0, 1, 2, 3], index=index)\n",
    "veri"
   ]
  },
  {
   "cell_type": "markdown",
   "id": "8a2f7ea3",
   "metadata": {},
   "source": [
    "Zaman olarak indexlenmiş veride şimdiye kadarki gördüğümüz tüm indexleme şekillerini kullanabiliriz."
   ]
  },
  {
   "cell_type": "code",
   "execution_count": 9,
   "id": "1cf20faf",
   "metadata": {},
   "outputs": [
    {
     "data": {
      "text/plain": [
       "2014-07-04    0\n",
       "2014-08-04    1\n",
       "2015-07-04    2\n",
       "dtype: int64"
      ]
     },
     "execution_count": 9,
     "metadata": {},
     "output_type": "execute_result"
    }
   ],
   "source": [
    "veri[\"2014-07-04\":\"2015-07-04\"]"
   ]
  },
  {
   "cell_type": "markdown",
   "id": "9f2f478d",
   "metadata": {},
   "source": [
    "Zaman index'lerde index olarak yıl vererek o yılki verileri seçebilirsiniz."
   ]
  },
  {
   "cell_type": "code",
   "execution_count": 10,
   "id": "d79d9a6e",
   "metadata": {},
   "outputs": [
    {
     "data": {
      "text/plain": [
       "2015-07-04    2\n",
       "2015-08-04    3\n",
       "dtype: int64"
      ]
     },
     "execution_count": 10,
     "metadata": {},
     "output_type": "execute_result"
    }
   ],
   "source": [
    "veri[\"2015\"]"
   ]
  },
  {
   "cell_type": "markdown",
   "id": "fbb3ef17",
   "metadata": {},
   "source": [
    "## Zaman Veri Türleri\n",
    "\n",
    "3 temel zaman veri çeşidi vardır:\n",
    "\n",
    "- *Zaman damgası* zaman doğrusundaki belirli bir anı belirtir. Pandas'ta `Timestamp` ile belirtilir. Index olarak da `DatetimeIndex` kullanılır.\n",
    "- *Periyotlar* belirli uzunlukta tekrar eden zaman aralıklarını temsil eder. `Period` veri türüyle belirtilir. Index olarak `PeriodIndex` kullanılır.\n",
    "- *Süre* zaman uzunluğunu gösterir. `Timedelta` veri türüyle gösterilir. Index olarak da `TimedeltaIndex` kullanılır.\n",
    "\n",
    "Bunlardan en çok `Timestamp` ve `DatetimeIndex` kullanılır. **Timestamp** direkt üretilebiliyor olsa da genellikle `to_datetime` fonksiyonu ile oluşturulurlar. `to_datetime` parametre olarak tekil veri alırsa `Timestamp`, veri serisi alırsa `DatetimeIndex` döndürür."
   ]
  },
  {
   "cell_type": "code",
   "execution_count": 11,
   "id": "a55143d8",
   "metadata": {},
   "outputs": [
    {
     "data": {
      "text/plain": [
       "DatetimeIndex(['2015-07-03', '2015-07-04', '2015-07-06', '2015-07-07',\n",
       "               '2015-07-08'],\n",
       "              dtype='datetime64[ns]', freq=None)"
      ]
     },
     "execution_count": 11,
     "metadata": {},
     "output_type": "execute_result"
    }
   ],
   "source": [
    "dates = pd.to_datetime([datetime(2015, 7, 3), '4th of July, 2015',\n",
    "'2015-Jul-6', '07-07-2015', '20150708'])\n",
    "dates"
   ]
  },
  {
   "cell_type": "markdown",
   "id": "60d66ae1",
   "metadata": {},
   "source": [
    "`DatetimeIndex` nesneleri `to_period` fonksiyonuna periyot parametresi alarak `PeriodIndex` veri türüne çevrilebilir. Aşağıda `'D'` (day) ile gün zaman aralıklarından oluşan `PeriodIndex` oluşturuyoruz."
   ]
  },
  {
   "cell_type": "code",
   "execution_count": 12,
   "id": "3bc8c2b2",
   "metadata": {},
   "outputs": [
    {
     "data": {
      "text/plain": [
       "PeriodIndex(['2015-07-03', '2015-07-04', '2015-07-06', '2015-07-07',\n",
       "             '2015-07-08'],\n",
       "            dtype='period[D]', freq='D')"
      ]
     },
     "execution_count": 12,
     "metadata": {},
     "output_type": "execute_result"
    }
   ],
   "source": [
    "dates.to_period('D')"
   ]
  },
  {
   "cell_type": "markdown",
   "id": "645d12f2",
   "metadata": {},
   "source": [
    "İki tarih birbirinden çıkarıldığında da `TimedeltaIndex` verisi oluşur."
   ]
  },
  {
   "cell_type": "code",
   "execution_count": 13,
   "id": "93364397",
   "metadata": {},
   "outputs": [
    {
     "data": {
      "text/plain": [
       "TimedeltaIndex(['0 days', '1 days', '3 days', '4 days', '5 days'], dtype='timedelta64[ns]', freq=None)"
      ]
     },
     "execution_count": 13,
     "metadata": {},
     "output_type": "execute_result"
    }
   ],
   "source": [
    "dates - dates[0]"
   ]
  },
  {
   "cell_type": "markdown",
   "id": "1c8d9cba",
   "metadata": {},
   "source": [
    "### `date_range` ile Zaman Aralıkları\n",
    "\n",
    "Python'daki `range` fonksiyonuna benzer olarak `pd.date_range` ile zaman aralıklı `DatetimeIndex` oluşturabiliriz."
   ]
  },
  {
   "cell_type": "code",
   "execution_count": 14,
   "id": "33e8d578",
   "metadata": {},
   "outputs": [
    {
     "data": {
      "text/plain": [
       "DatetimeIndex(['2015-07-03', '2015-07-04', '2015-07-05', '2015-07-06',\n",
       "               '2015-07-07', '2015-07-08', '2015-07-09', '2015-07-10'],\n",
       "              dtype='datetime64[ns]', freq='D')"
      ]
     },
     "execution_count": 14,
     "metadata": {},
     "output_type": "execute_result"
    }
   ],
   "source": [
    "pd.date_range('2015-07-03', '2015-07-10')"
   ]
  },
  {
   "cell_type": "markdown",
   "id": "bf342f27",
   "metadata": {},
   "source": [
    "Parametre olarak `periods` ile serinin uzunluğu ve `freq` ile periyotun genişliği belirtilir."
   ]
  },
  {
   "cell_type": "code",
   "execution_count": 15,
   "id": "7950e669",
   "metadata": {},
   "outputs": [
    {
     "data": {
      "text/plain": [
       "DatetimeIndex(['2015-07-03 00:00:00', '2015-07-03 01:00:00',\n",
       "               '2015-07-03 02:00:00', '2015-07-03 03:00:00',\n",
       "               '2015-07-03 04:00:00', '2015-07-03 05:00:00',\n",
       "               '2015-07-03 06:00:00', '2015-07-03 07:00:00'],\n",
       "              dtype='datetime64[ns]', freq='H')"
      ]
     },
     "execution_count": 15,
     "metadata": {},
     "output_type": "execute_result"
    }
   ],
   "source": [
    "pd.date_range('2015-07-03', periods=8, freq='H')"
   ]
  },
  {
   "cell_type": "markdown",
   "id": "6b08f672",
   "metadata": {},
   "source": [
    "`PeriodIndex` için kullanılan `period_range` ve `TimedeltaIndex` üretmek için kullanılan `timedelta_range` de benzer şekilde kullanılır."
   ]
  },
  {
   "cell_type": "code",
   "execution_count": 16,
   "id": "787ee388",
   "metadata": {},
   "outputs": [
    {
     "data": {
      "text/plain": [
       "TimedeltaIndex(['0 days 00:00:00', '0 days 01:00:00', '0 days 02:00:00',\n",
       "                '0 days 03:00:00', '0 days 04:00:00', '0 days 05:00:00',\n",
       "                '0 days 06:00:00', '0 days 07:00:00', '0 days 08:00:00',\n",
       "                '0 days 09:00:00'],\n",
       "               dtype='timedelta64[ns]', freq='H')"
      ]
     },
     "execution_count": 16,
     "metadata": {},
     "output_type": "execute_result"
    }
   ],
   "source": [
    "pd.timedelta_range(0, periods=10, freq='H')"
   ]
  },
  {
   "cell_type": "markdown",
   "id": "78bedef7",
   "metadata": {},
   "source": [
    "## Frekans Belirleme\n",
    "\n",
    "`freq` parametresinde yazdığımız tekrar süreleri için çeşitli harf kodları vardır.\n",
    "\n",
    "| Kod | Tanım           |\n",
    "|-----|-----------------|\n",
    "| D   | Gün             |\n",
    "| W   | Hafta           |\n",
    "| M   | Ay sonu         |\n",
    "| Q   | Çeyrek sonu     |\n",
    "| A   | Yıl sonu        |\n",
    "| H   | Saat            |\n",
    "| T   | Dakika          |\n",
    "| S   | Saniye          |\n",
    "| L   | Milisaniye      |\n",
    "| U   | Mikrosaniye     |\n",
    "| N   | Nanosaniye      |\n",
    "| B   | İş günü         |\n",
    "| BM  | İş ayı sonu     |\n",
    "| BQ  | İş çeyreği sonu |\n",
    "| BA  | İş yılı sonu    |\n",
    "| BH  | İş saati        |\n",
    "\n",
    "Aylık, çeyreklik ve yıllık frekanslar periyotlarının sonlarını işaretlemişlerdir. Başından işaretlemek için sonuna `S` eklenir.\n",
    "\n",
    "| Kod | Tanım           |\n",
    "|-----|-----------------|\n",
    "| MS  | Ay başı         |\n",
    "| BMS | İş ayı başı     |\n",
    "| QS  | Çeyrek başı     |\n",
    "| BQS | İş çeyreği başı |\n",
    "| AS  | Yıl başı        |\n",
    "| BAS | İş yılı başı    |\n",
    "\n",
    "Ek olarak çeyrek veya yıllık periyotların başlangıç tarihlerini sonlarına ayların üç harflik kısaltmalarını ekleyerek belirtebilirsiniz. `Q-JAN` , `BQ-FEB` , `QS-MAR` gibi.\n",
    "\n",
    "Benzer mantık haftalık periyotta da geçerlidir. `W-SUN`, `W-MON`, `W-TUE`...\n",
    "\n",
    "Son olarak bu frekanslar sayılarla birleştirilebilir. Örneğin 2 saat 30 dakikalık bir periyot aşağıdaki gibi belirtilir."
   ]
  },
  {
   "cell_type": "code",
   "execution_count": 17,
   "id": "75bfa836",
   "metadata": {},
   "outputs": [
    {
     "data": {
      "text/plain": [
       "TimedeltaIndex(['0 days 00:00:00', '0 days 02:30:00', '0 days 05:00:00',\n",
       "                '0 days 07:30:00', '0 days 10:00:00', '0 days 12:30:00',\n",
       "                '0 days 15:00:00', '0 days 17:30:00', '0 days 20:00:00'],\n",
       "               dtype='timedelta64[ns]', freq='150T')"
      ]
     },
     "execution_count": 17,
     "metadata": {},
     "output_type": "execute_result"
    }
   ],
   "source": [
    "pd.timedelta_range(0, periods=9, freq=\"2H30T\")"
   ]
  }
 ],
 "metadata": {
  "kernelspec": {
   "display_name": "Python 3",
   "language": "python",
   "name": "python3"
  },
  "language_info": {
   "codemirror_mode": {
    "name": "ipython",
    "version": 3
   },
   "file_extension": ".py",
   "mimetype": "text/x-python",
   "name": "python",
   "nbconvert_exporter": "python",
   "pygments_lexer": "ipython3",
   "version": "3.8.8"
  }
 },
 "nbformat": 4,
 "nbformat_minor": 5
}

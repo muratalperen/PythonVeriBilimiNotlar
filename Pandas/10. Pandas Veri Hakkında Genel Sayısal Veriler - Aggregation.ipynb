{
 "cells": [
  {
   "cell_type": "markdown",
   "id": "b78ad8e2",
   "metadata": {},
   "source": [
    "Bu bölümde veri hakkında genel sayısal bilgi almamıza yarayan `min()`, `max()`, `mean()` gibi Numpy'da da gördüğümüze benzer fonksiyonları göreceğiz.\n",
    "\n",
    "## Temel Bilgiler\n",
    "\n",
    "Numpy kütüphanesine benzer şekilde temel bilgileri `veri.sum()` gibisinden alabilirsiniz."
   ]
  },
  {
   "cell_type": "code",
   "execution_count": 1,
   "id": "ecdba621",
   "metadata": {},
   "outputs": [
    {
     "data": {
      "text/plain": [
       "0    0\n",
       "1    1\n",
       "2    4\n",
       "3    6\n",
       "4    2\n",
       "dtype: int64"
      ]
     },
     "execution_count": 1,
     "metadata": {},
     "output_type": "execute_result"
    }
   ],
   "source": [
    "import numpy as np\n",
    "import pandas as pd\n",
    "\n",
    "A = pd.Series(np.random.randint(10, size=5))\n",
    "A"
   ]
  },
  {
   "cell_type": "code",
   "execution_count": 2,
   "id": "9c3bf181",
   "metadata": {},
   "outputs": [
    {
     "data": {
      "text/plain": [
       "6"
      ]
     },
     "execution_count": 2,
     "metadata": {},
     "output_type": "execute_result"
    }
   ],
   "source": [
    "A.max()"
   ]
  },
  {
   "cell_type": "code",
   "execution_count": 3,
   "id": "fbd196e7",
   "metadata": {},
   "outputs": [
    {
     "data": {
      "text/plain": [
       "2.6"
      ]
     },
     "execution_count": 3,
     "metadata": {},
     "output_type": "execute_result"
    }
   ],
   "source": [
    "np.mean(A)"
   ]
  },
  {
   "cell_type": "code",
   "execution_count": 4,
   "id": "49e49e2c",
   "metadata": {},
   "outputs": [
    {
     "data": {
      "text/plain": [
       "0    9\n",
       "1    7\n",
       "2    6\n",
       "3    8\n",
       "4    6\n",
       "dtype: int64"
      ]
     },
     "execution_count": 4,
     "metadata": {},
     "output_type": "execute_result"
    }
   ],
   "source": [
    "B = pd.Series(np.random.randint(10, size=5))\n",
    "B"
   ]
  },
  {
   "cell_type": "code",
   "execution_count": 5,
   "id": "f1e7eb9b",
   "metadata": {},
   "outputs": [
    {
     "data": {
      "text/html": [
       "<div>\n",
       "<style scoped>\n",
       "    .dataframe tbody tr th:only-of-type {\n",
       "        vertical-align: middle;\n",
       "    }\n",
       "\n",
       "    .dataframe tbody tr th {\n",
       "        vertical-align: top;\n",
       "    }\n",
       "\n",
       "    .dataframe thead th {\n",
       "        text-align: right;\n",
       "    }\n",
       "</style>\n",
       "<table border=\"1\" class=\"dataframe\">\n",
       "  <thead>\n",
       "    <tr style=\"text-align: right;\">\n",
       "      <th></th>\n",
       "      <th>A</th>\n",
       "      <th>B</th>\n",
       "    </tr>\n",
       "  </thead>\n",
       "  <tbody>\n",
       "    <tr>\n",
       "      <th>0</th>\n",
       "      <td>0</td>\n",
       "      <td>9</td>\n",
       "    </tr>\n",
       "    <tr>\n",
       "      <th>1</th>\n",
       "      <td>1</td>\n",
       "      <td>7</td>\n",
       "    </tr>\n",
       "    <tr>\n",
       "      <th>2</th>\n",
       "      <td>4</td>\n",
       "      <td>6</td>\n",
       "    </tr>\n",
       "    <tr>\n",
       "      <th>3</th>\n",
       "      <td>6</td>\n",
       "      <td>8</td>\n",
       "    </tr>\n",
       "    <tr>\n",
       "      <th>4</th>\n",
       "      <td>2</td>\n",
       "      <td>6</td>\n",
       "    </tr>\n",
       "  </tbody>\n",
       "</table>\n",
       "</div>"
      ],
      "text/plain": [
       "   A  B\n",
       "0  0  9\n",
       "1  1  7\n",
       "2  4  6\n",
       "3  6  8\n",
       "4  2  6"
      ]
     },
     "execution_count": 5,
     "metadata": {},
     "output_type": "execute_result"
    }
   ],
   "source": [
    "D = pd.DataFrame({\"A\": A, \"B\": B})\n",
    "D"
   ]
  },
  {
   "cell_type": "markdown",
   "id": "a14c56f1",
   "metadata": {},
   "source": [
    "DataFrame'ler için `axis` parametresine `1` veya okunabilirlik açısından `columns` vererek işlemi satır bazlı yapabilirsiniz."
   ]
  },
  {
   "cell_type": "code",
   "execution_count": 6,
   "id": "ec9961b5",
   "metadata": {},
   "outputs": [
    {
     "data": {
      "text/plain": [
       "0    9\n",
       "1    7\n",
       "2    6\n",
       "3    8\n",
       "4    6\n",
       "dtype: int64"
      ]
     },
     "execution_count": 6,
     "metadata": {},
     "output_type": "execute_result"
    }
   ],
   "source": [
    "np.max(D, axis='columns')"
   ]
  },
  {
   "cell_type": "markdown",
   "id": "df53de3a",
   "metadata": {},
   "source": [
    "`describe()` metodu bize veri hakkında genel bilgileri topluca ve sütun bazlı verir."
   ]
  },
  {
   "cell_type": "code",
   "execution_count": 7,
   "id": "88c0ebef",
   "metadata": {},
   "outputs": [
    {
     "data": {
      "text/html": [
       "<div>\n",
       "<style scoped>\n",
       "    .dataframe tbody tr th:only-of-type {\n",
       "        vertical-align: middle;\n",
       "    }\n",
       "\n",
       "    .dataframe tbody tr th {\n",
       "        vertical-align: top;\n",
       "    }\n",
       "\n",
       "    .dataframe thead th {\n",
       "        text-align: right;\n",
       "    }\n",
       "</style>\n",
       "<table border=\"1\" class=\"dataframe\">\n",
       "  <thead>\n",
       "    <tr style=\"text-align: right;\">\n",
       "      <th></th>\n",
       "      <th>A</th>\n",
       "      <th>B</th>\n",
       "    </tr>\n",
       "  </thead>\n",
       "  <tbody>\n",
       "    <tr>\n",
       "      <th>count</th>\n",
       "      <td>5.000000</td>\n",
       "      <td>5.00000</td>\n",
       "    </tr>\n",
       "    <tr>\n",
       "      <th>mean</th>\n",
       "      <td>2.600000</td>\n",
       "      <td>7.20000</td>\n",
       "    </tr>\n",
       "    <tr>\n",
       "      <th>std</th>\n",
       "      <td>2.408319</td>\n",
       "      <td>1.30384</td>\n",
       "    </tr>\n",
       "    <tr>\n",
       "      <th>min</th>\n",
       "      <td>0.000000</td>\n",
       "      <td>6.00000</td>\n",
       "    </tr>\n",
       "    <tr>\n",
       "      <th>25%</th>\n",
       "      <td>1.000000</td>\n",
       "      <td>6.00000</td>\n",
       "    </tr>\n",
       "    <tr>\n",
       "      <th>50%</th>\n",
       "      <td>2.000000</td>\n",
       "      <td>7.00000</td>\n",
       "    </tr>\n",
       "    <tr>\n",
       "      <th>75%</th>\n",
       "      <td>4.000000</td>\n",
       "      <td>8.00000</td>\n",
       "    </tr>\n",
       "    <tr>\n",
       "      <th>max</th>\n",
       "      <td>6.000000</td>\n",
       "      <td>9.00000</td>\n",
       "    </tr>\n",
       "  </tbody>\n",
       "</table>\n",
       "</div>"
      ],
      "text/plain": [
       "              A        B\n",
       "count  5.000000  5.00000\n",
       "mean   2.600000  7.20000\n",
       "std    2.408319  1.30384\n",
       "min    0.000000  6.00000\n",
       "25%    1.000000  6.00000\n",
       "50%    2.000000  7.00000\n",
       "75%    4.000000  8.00000\n",
       "max    6.000000  9.00000"
      ]
     },
     "execution_count": 7,
     "metadata": {},
     "output_type": "execute_result"
    }
   ],
   "source": [
    "D.describe()"
   ]
  },
  {
   "cell_type": "markdown",
   "id": "5f2e99da",
   "metadata": {},
   "source": [
    "#### DataFrame ve Serie aggregation metodları\n",
    "| Fonksiyon       | Açıklama                |\n",
    "|-----------------|-------------------------|\n",
    "| count()         | Eleman sayısı           |\n",
    "| first(), last() | İlk ve son eleman       |\n",
    "| mean()          | Ortalama                |\n",
    "| median()        | Medyan                  |\n",
    "| min(), max()    | Minimum ve maximum      |\n",
    "| std()           | Standart sapma          |\n",
    "| var()           | Varyans                 |\n",
    "| mad()           | Ortalama mutlak sapma   |\n",
    "| prod()          | Tüm elemanların çarpımı |\n",
    "| sum()           | Tüm elemanların toplamı |"
   ]
  },
  {
   "cell_type": "code",
   "execution_count": null,
   "id": "0b6c6e01",
   "metadata": {},
   "outputs": [],
   "source": []
  }
 ],
 "metadata": {
  "kernelspec": {
   "display_name": "Python 3",
   "language": "python",
   "name": "python3"
  },
  "language_info": {
   "codemirror_mode": {
    "name": "ipython",
    "version": 3
   },
   "file_extension": ".py",
   "mimetype": "text/x-python",
   "name": "python",
   "nbconvert_exporter": "python",
   "pygments_lexer": "ipython3",
   "version": "3.8.8"
  }
 },
 "nbformat": 4,
 "nbformat_minor": 5
}

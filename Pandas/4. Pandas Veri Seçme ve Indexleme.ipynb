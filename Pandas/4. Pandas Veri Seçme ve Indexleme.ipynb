{
 "cells": [
  {
   "cell_type": "markdown",
   "metadata": {},
   "source": [
    "## Serie'lerde Veri Seçme\n",
    "\n",
    "### Sözlük Olarak Serie'ler\n",
    "\n",
    "Sözlüklerdeki gibi verileri index'leri ile seçebilirsiniz."
   ]
  },
  {
   "cell_type": "code",
   "execution_count": 1,
   "metadata": {},
   "outputs": [],
   "source": [
    "import pandas as pd"
   ]
  },
  {
   "cell_type": "code",
   "execution_count": 2,
   "metadata": {},
   "outputs": [
    {
     "data": {
      "text/plain": [
       "2"
      ]
     },
     "execution_count": 2,
     "metadata": {},
     "output_type": "execute_result"
    }
   ],
   "source": [
    "veri = pd.Series([1, 2, 3, 4], index=['a', 'b', 'c', 'd'])\n",
    "veri['b']"
   ]
  },
  {
   "cell_type": "markdown",
   "metadata": {},
   "source": [
    "Ayrıca sözlüklerde geçerli olan fonksiyonları da kullanabilirsiniz."
   ]
  },
  {
   "cell_type": "code",
   "execution_count": 3,
   "metadata": {},
   "outputs": [
    {
     "name": "stdout",
     "output_type": "stream",
     "text": [
      "True\n",
      "Index(['a', 'b', 'c', 'd'], dtype='object')\n",
      "('a', 1) ('b', 2) ('c', 3) ('d', 4)\n",
      "\n",
      "e indisi ile: a    1\n",
      "b    2\n",
      "c    3\n",
      "d    4\n",
      "e    5\n",
      "dtype: int64\n"
     ]
    }
   ],
   "source": [
    "print('c' in veri)\n",
    "print(veri.keys())\n",
    "print(*veri.items())\n",
    "\n",
    "veri[\"e\"] = 5\n",
    "print(\"\\ne indisi ile:\", veri)"
   ]
  },
  {
   "cell_type": "markdown",
   "metadata": {},
   "source": [
    "### Dizi Olarak Serie'ler\n",
    "\n",
    "Numpy dizilerindeki gibi bölme, [maskeleme](#), [fancy indexing](#) işlemlerini yapabilirsiniz."
   ]
  },
  {
   "cell_type": "code",
   "execution_count": 4,
   "metadata": {},
   "outputs": [
    {
     "name": "stdout",
     "output_type": "stream",
     "text": [
      "Explicit (açık) indexlere göre bölme: a    1\n",
      "b    2\n",
      "c    3\n",
      "dtype: int64\n",
      "Implicit (örtülü) indexlerine göre bölme: a    1\n",
      "b    2\n",
      "dtype: int64\n",
      "Maskeleme: b    2\n",
      "c    3\n",
      "dtype: int64\n",
      "Fancy indexing: a    1\n",
      "d    4\n",
      "dtype: int64\n"
     ]
    }
   ],
   "source": [
    "print(\"Explicit (açık) indexlere göre bölme:\", veri[\"a\":\"c\"])\n",
    "print(\"Implicit (örtülü) indexlerine göre bölme:\", veri[0:2])\n",
    "print(\"Maskeleme:\", veri[(veri > 1) & (veri < 4)])\n",
    "print(\"Fancy indexing:\", veri[['a', 'd']])"
   ]
  },
  {
   "cell_type": "markdown",
   "metadata": {},
   "source": [
    "### Index Tanımlayıcılar: loc ve iloc\n",
    "\n",
    "Bu sıralama ve indexleme yöntemleri aklınızı karıştırabilir. Mesela Serie'nizin index'leri sayı ise (mesela dizinizin 2. elemanına index olarak 1 verdiniz); veri seçme işlemi (`veri[1]` gibi) açık index'ine göre işlem yaparken, bölme işlemi (`veri[2:4]` gibi) örtülü index'e göre işlem yapacaktır."
   ]
  },
  {
   "cell_type": "code",
   "execution_count": 5,
   "metadata": {},
   "outputs": [
    {
     "data": {
      "text/plain": [
       "1    a\n",
       "3    b\n",
       "5    c\n",
       "7    d\n",
       "dtype: object"
      ]
     },
     "execution_count": 5,
     "metadata": {},
     "output_type": "execute_result"
    }
   ],
   "source": [
    "veri = pd.Series(['a', 'b', 'c', 'd'], index=[1, 3, 5, 7])\n",
    "veri"
   ]
  },
  {
   "cell_type": "code",
   "execution_count": 6,
   "metadata": {},
   "outputs": [
    {
     "name": "stdout",
     "output_type": "stream",
     "text": [
      "Index olarak 3 olanı verir: b\n",
      "Sırasını belirten Index olarak: 3    b\n",
      "5    c\n",
      "dtype: object\n"
     ]
    }
   ],
   "source": [
    "print(\"Index olarak 3 olanı verir:\", veri[3])\n",
    "print(\"Sırasını belirten Index olarak:\", veri[1:3])"
   ]
  },
  {
   "cell_type": "markdown",
   "metadata": {},
   "source": [
    "Bu kafa karışıklığını önlemek, hangi index'i kullanmak istediğimizi belirtmek için `loc` ve `iloc` özellikleri kullanılır.\n",
    "\n",
    "İlk olarak `loc` özelliği her zaman explicit (açık) index'i kullanarak işlem yapar."
   ]
  },
  {
   "cell_type": "code",
   "execution_count": 7,
   "metadata": {},
   "outputs": [
    {
     "name": "stdout",
     "output_type": "stream",
     "text": [
      "b \n",
      "\n",
      "1    a\n",
      "3    b\n",
      "dtype: object\n"
     ]
    }
   ],
   "source": [
    "print(veri.loc[3], \"\\n\")\n",
    "print(veri.loc[1:3])"
   ]
  },
  {
   "cell_type": "markdown",
   "metadata": {},
   "source": [
    "`iloc` ise (**i**mplicit'den gelmekte) implicit (örtülü) index'ine göre işlem yapar."
   ]
  },
  {
   "cell_type": "code",
   "execution_count": 8,
   "metadata": {},
   "outputs": [
    {
     "name": "stdout",
     "output_type": "stream",
     "text": [
      "d \n",
      "\n",
      "3    b\n",
      "5    c\n",
      "dtype: object\n"
     ]
    }
   ],
   "source": [
    "print(veri.iloc[3], \"\\n\")\n",
    "print(veri.iloc[1:3])"
   ]
  },
  {
   "cell_type": "markdown",
   "metadata": {},
   "source": [
    "Python'un bir prensibi \"Açık, örtük olandan daha iyidir (Explicit is better than implicit)\" der. Siz standart `[]` kullanarak hangi index'i kasdettiğinizi bilseniz bile, kodunuzu okuyanlar bilemeyebilir. Temiz kod yazmak ve daha az hatayla karşılaşmak için `loc` ve `iloc`u kullanmaya çalışın.\n",
    "\n",
    "## Dataframe'de Veri Seçme\n",
    "\n",
    "Hatırlayın: DataFrame nesnesi iki boyutlu Numpy Dizileri ile Python sözlük yapısının birleşimidir.\n",
    "\n",
    "### Sözlük Olarak Dataframe\n",
    "\n",
    "Bir DataFrame tanımlayalım:"
   ]
  },
  {
   "cell_type": "code",
   "execution_count": 9,
   "metadata": {},
   "outputs": [
    {
     "data": {
      "text/html": [
       "<div>\n",
       "<style scoped>\n",
       "    .dataframe tbody tr th:only-of-type {\n",
       "        vertical-align: middle;\n",
       "    }\n",
       "\n",
       "    .dataframe tbody tr th {\n",
       "        vertical-align: top;\n",
       "    }\n",
       "\n",
       "    .dataframe thead th {\n",
       "        text-align: right;\n",
       "    }\n",
       "</style>\n",
       "<table border=\"1\" class=\"dataframe\">\n",
       "  <thead>\n",
       "    <tr style=\"text-align: right;\">\n",
       "      <th></th>\n",
       "      <th>nufus</th>\n",
       "      <th>olum</th>\n",
       "    </tr>\n",
       "  </thead>\n",
       "  <tbody>\n",
       "    <tr>\n",
       "      <th>İngiltere</th>\n",
       "      <td>45.4</td>\n",
       "      <td>744000</td>\n",
       "    </tr>\n",
       "    <tr>\n",
       "      <th>Fransa</th>\n",
       "      <td>39.6</td>\n",
       "      <td>1150000</td>\n",
       "    </tr>\n",
       "    <tr>\n",
       "      <th>Almanya</th>\n",
       "      <td>64.9</td>\n",
       "      <td>1800000</td>\n",
       "    </tr>\n",
       "    <tr>\n",
       "      <th>Osmanlı</th>\n",
       "      <td>21.3</td>\n",
       "      <td>305085</td>\n",
       "    </tr>\n",
       "  </tbody>\n",
       "</table>\n",
       "</div>"
      ],
      "text/plain": [
       "           nufus     olum\n",
       "İngiltere   45.4   744000\n",
       "Fransa      39.6  1150000\n",
       "Almanya     64.9  1800000\n",
       "Osmanlı     21.3   305085"
      ]
     },
     "execution_count": 9,
     "metadata": {},
     "output_type": "execute_result"
    }
   ],
   "source": [
    "ww1Df = pd.DataFrame(\n",
    "    {\n",
    "        \"nufus\": pd.Series(\n",
    "            {  # milyon\n",
    "                \"İngiltere\": 45.4,\n",
    "                \"Fransa\": 39.6,\n",
    "                \"Almanya\": 64.9,\n",
    "                \"Osmanlı\": 21.3,\n",
    "            }\n",
    "        ),\n",
    "        \"olum\": pd.Series(\n",
    "            {\n",
    "                \"İngiltere\": 744000,\n",
    "                \"Fransa\": 1150000,\n",
    "                \"Almanya\": 1800000,\n",
    "                \"Osmanlı\": 305085,\n",
    "            }\n",
    "        ),\n",
    "    }\n",
    ")\n",
    "ww1Df"
   ]
  },
  {
   "cell_type": "markdown",
   "metadata": {},
   "source": [
    "Verilere sözlük gibi veya özellik (attribute) olarak erişilebilir ve aynı anlama gelir."
   ]
  },
  {
   "cell_type": "code",
   "execution_count": 10,
   "metadata": {},
   "outputs": [
    {
     "name": "stdout",
     "output_type": "stream",
     "text": [
      "İngiltere    45.4\n",
      "Fransa       39.6\n",
      "Almanya      64.9\n",
      "Osmanlı      21.3\n",
      "Name: nufus, dtype: float64 \n",
      "\n",
      "İngiltere     744000\n",
      "Fransa       1150000\n",
      "Almanya      1800000\n",
      "Osmanlı       305085\n",
      "Name: olum, dtype: int64 \n",
      "\n",
      "1150000 \n",
      "\n",
      "True \n",
      "\n"
     ]
    }
   ],
   "source": [
    "print(ww1Df[\"nufus\"], \"\\n\")\n",
    "print(ww1Df.olum, \"\\n\")\n",
    "print(ww1Df.olum.Fransa, \"\\n\")\n",
    "print(ww1Df.nufus is ww1Df[\"nufus\"], \"\\n\")"
   ]
  },
  {
   "cell_type": "markdown",
   "metadata": {},
   "source": [
    "Ancak verilere özellik gibi ulaşmak her zaman doğru yol olmayabilir. Sütun adı yazı olmayabilir veya bir metod ile aynı isimli olabilir. Ayrıca biraz daha yavaştır. Bu yüzden `veri.sutun` yerine `veri[\"sutun\"]` kullanımı daha çok önerilir."
   ]
  },
  {
   "cell_type": "markdown",
   "metadata": {},
   "source": [
    "### İki Boyutlu Dizi Olarak Dataframe\n",
    "\n",
    "Dataframe'lerle iki boyutlu dizilermişcesine işlem yapabilir, `values` özelliği ile verilere iki boyutlu dizi gibi ulaşabiliriz."
   ]
  },
  {
   "cell_type": "code",
   "execution_count": 11,
   "metadata": {
    "scrolled": true
   },
   "outputs": [
    {
     "data": {
      "text/html": [
       "<div>\n",
       "<style scoped>\n",
       "    .dataframe tbody tr th:only-of-type {\n",
       "        vertical-align: middle;\n",
       "    }\n",
       "\n",
       "    .dataframe tbody tr th {\n",
       "        vertical-align: top;\n",
       "    }\n",
       "\n",
       "    .dataframe thead th {\n",
       "        text-align: right;\n",
       "    }\n",
       "</style>\n",
       "<table border=\"1\" class=\"dataframe\">\n",
       "  <thead>\n",
       "    <tr style=\"text-align: right;\">\n",
       "      <th></th>\n",
       "      <th>nufus</th>\n",
       "      <th>olum</th>\n",
       "    </tr>\n",
       "  </thead>\n",
       "  <tbody>\n",
       "    <tr>\n",
       "      <th>İngiltere</th>\n",
       "      <td>45.4</td>\n",
       "      <td>744000</td>\n",
       "    </tr>\n",
       "    <tr>\n",
       "      <th>Fransa</th>\n",
       "      <td>39.6</td>\n",
       "      <td>1150000</td>\n",
       "    </tr>\n",
       "    <tr>\n",
       "      <th>Almanya</th>\n",
       "      <td>64.9</td>\n",
       "      <td>1800000</td>\n",
       "    </tr>\n",
       "    <tr>\n",
       "      <th>Osmanlı</th>\n",
       "      <td>21.3</td>\n",
       "      <td>305085</td>\n",
       "    </tr>\n",
       "  </tbody>\n",
       "</table>\n",
       "</div>"
      ],
      "text/plain": [
       "           nufus     olum\n",
       "İngiltere   45.4   744000\n",
       "Fransa      39.6  1150000\n",
       "Almanya     64.9  1800000\n",
       "Osmanlı     21.3   305085"
      ]
     },
     "execution_count": 11,
     "metadata": {},
     "output_type": "execute_result"
    }
   ],
   "source": [
    "ww1Df"
   ]
  },
  {
   "cell_type": "code",
   "execution_count": 12,
   "metadata": {},
   "outputs": [
    {
     "name": "stdout",
     "output_type": "stream",
     "text": [
      "[[4.54000e+01 7.44000e+05]\n",
      " [3.96000e+01 1.15000e+06]\n",
      " [6.49000e+01 1.80000e+06]\n",
      " [2.13000e+01 3.05085e+05]] \n",
      "\n",
      "45.4\n"
     ]
    }
   ],
   "source": [
    "print(ww1Df.values, \"\\n\")\n",
    "print(ww1Df.values[0,0])"
   ]
  },
  {
   "cell_type": "markdown",
   "metadata": {},
   "source": [
    "`T` özelliği ile verinin satır ile sütunlarını yer değiştirebiliriz"
   ]
  },
  {
   "cell_type": "code",
   "execution_count": 13,
   "metadata": {},
   "outputs": [
    {
     "data": {
      "text/html": [
       "<div>\n",
       "<style scoped>\n",
       "    .dataframe tbody tr th:only-of-type {\n",
       "        vertical-align: middle;\n",
       "    }\n",
       "\n",
       "    .dataframe tbody tr th {\n",
       "        vertical-align: top;\n",
       "    }\n",
       "\n",
       "    .dataframe thead th {\n",
       "        text-align: right;\n",
       "    }\n",
       "</style>\n",
       "<table border=\"1\" class=\"dataframe\">\n",
       "  <thead>\n",
       "    <tr style=\"text-align: right;\">\n",
       "      <th></th>\n",
       "      <th>İngiltere</th>\n",
       "      <th>Fransa</th>\n",
       "      <th>Almanya</th>\n",
       "      <th>Osmanlı</th>\n",
       "    </tr>\n",
       "  </thead>\n",
       "  <tbody>\n",
       "    <tr>\n",
       "      <th>nufus</th>\n",
       "      <td>45.4</td>\n",
       "      <td>39.6</td>\n",
       "      <td>64.9</td>\n",
       "      <td>21.3</td>\n",
       "    </tr>\n",
       "    <tr>\n",
       "      <th>olum</th>\n",
       "      <td>744000.0</td>\n",
       "      <td>1150000.0</td>\n",
       "      <td>1800000.0</td>\n",
       "      <td>305085.0</td>\n",
       "    </tr>\n",
       "  </tbody>\n",
       "</table>\n",
       "</div>"
      ],
      "text/plain": [
       "       İngiltere     Fransa    Almanya   Osmanlı\n",
       "nufus       45.4       39.6       64.9      21.3\n",
       "olum    744000.0  1150000.0  1800000.0  305085.0"
      ]
     },
     "execution_count": 13,
     "metadata": {},
     "output_type": "execute_result"
    }
   ],
   "source": [
    "ww1Df.T"
   ]
  },
  {
   "cell_type": "markdown",
   "metadata": {},
   "source": [
    "Diziye benzemesinden ötürü DataFrame nesnelerinde `loc` ve `iloc` fonksiyonları da kullanılabilir."
   ]
  },
  {
   "cell_type": "code",
   "execution_count": 14,
   "metadata": {},
   "outputs": [
    {
     "data": {
      "text/html": [
       "<div>\n",
       "<style scoped>\n",
       "    .dataframe tbody tr th:only-of-type {\n",
       "        vertical-align: middle;\n",
       "    }\n",
       "\n",
       "    .dataframe tbody tr th {\n",
       "        vertical-align: top;\n",
       "    }\n",
       "\n",
       "    .dataframe thead th {\n",
       "        text-align: right;\n",
       "    }\n",
       "</style>\n",
       "<table border=\"1\" class=\"dataframe\">\n",
       "  <thead>\n",
       "    <tr style=\"text-align: right;\">\n",
       "      <th></th>\n",
       "      <th>olum</th>\n",
       "    </tr>\n",
       "  </thead>\n",
       "  <tbody>\n",
       "    <tr>\n",
       "      <th>İngiltere</th>\n",
       "      <td>744000</td>\n",
       "    </tr>\n",
       "    <tr>\n",
       "      <th>Fransa</th>\n",
       "      <td>1150000</td>\n",
       "    </tr>\n",
       "  </tbody>\n",
       "</table>\n",
       "</div>"
      ],
      "text/plain": [
       "              olum\n",
       "İngiltere   744000\n",
       "Fransa     1150000"
      ]
     },
     "execution_count": 14,
     "metadata": {},
     "output_type": "execute_result"
    }
   ],
   "source": [
    "ww1Df.iloc[:2, 1:]"
   ]
  },
  {
   "cell_type": "markdown",
   "metadata": {},
   "source": [
    "Bu index tanımlayıcılar (loc ve iloc), diğer index'leme biçimleriyle (fancy indexing, maskeleme vs.) birleştirilerek de kullanılabilir."
   ]
  },
  {
   "cell_type": "code",
   "execution_count": 15,
   "metadata": {},
   "outputs": [
    {
     "data": {
      "text/plain": [
       "999771.25"
      ]
     },
     "execution_count": 15,
     "metadata": {},
     "output_type": "execute_result"
    }
   ],
   "source": [
    "ww1Df.olum.mean()"
   ]
  },
  {
   "cell_type": "code",
   "execution_count": 16,
   "metadata": {},
   "outputs": [
    {
     "data": {
      "text/html": [
       "<div>\n",
       "<style scoped>\n",
       "    .dataframe tbody tr th:only-of-type {\n",
       "        vertical-align: middle;\n",
       "    }\n",
       "\n",
       "    .dataframe tbody tr th {\n",
       "        vertical-align: top;\n",
       "    }\n",
       "\n",
       "    .dataframe thead th {\n",
       "        text-align: right;\n",
       "    }\n",
       "</style>\n",
       "<table border=\"1\" class=\"dataframe\">\n",
       "  <thead>\n",
       "    <tr style=\"text-align: right;\">\n",
       "      <th></th>\n",
       "      <th>nufus</th>\n",
       "    </tr>\n",
       "  </thead>\n",
       "  <tbody>\n",
       "    <tr>\n",
       "      <th>Fransa</th>\n",
       "      <td>39.6</td>\n",
       "    </tr>\n",
       "    <tr>\n",
       "      <th>Almanya</th>\n",
       "      <td>64.9</td>\n",
       "    </tr>\n",
       "  </tbody>\n",
       "</table>\n",
       "</div>"
      ],
      "text/plain": [
       "         nufus\n",
       "Fransa    39.6\n",
       "Almanya   64.9"
      ]
     },
     "execution_count": 16,
     "metadata": {},
     "output_type": "execute_result"
    }
   ],
   "source": [
    "ww1Df.loc[ww1Df.olum > 1000000, ['nufus']] # 1m'den fazla ölüsü olanların nüfusları"
   ]
  },
  {
   "cell_type": "markdown",
   "metadata": {},
   "source": [
    "Ve tabiki bu index tanımlayıcılarla [broadcasting kurallarına](#numpy-broadcasting) uyarak DataFrame'de düzenlemeler yapabilirsiniz:"
   ]
  },
  {
   "cell_type": "code",
   "execution_count": 17,
   "metadata": {},
   "outputs": [
    {
     "data": {
      "text/html": [
       "<div>\n",
       "<style scoped>\n",
       "    .dataframe tbody tr th:only-of-type {\n",
       "        vertical-align: middle;\n",
       "    }\n",
       "\n",
       "    .dataframe tbody tr th {\n",
       "        vertical-align: top;\n",
       "    }\n",
       "\n",
       "    .dataframe thead th {\n",
       "        text-align: right;\n",
       "    }\n",
       "</style>\n",
       "<table border=\"1\" class=\"dataframe\">\n",
       "  <thead>\n",
       "    <tr style=\"text-align: right;\">\n",
       "      <th></th>\n",
       "      <th>nufus</th>\n",
       "      <th>olum</th>\n",
       "    </tr>\n",
       "  </thead>\n",
       "  <tbody>\n",
       "    <tr>\n",
       "      <th>İngiltere</th>\n",
       "      <td>45.4</td>\n",
       "      <td>744000</td>\n",
       "    </tr>\n",
       "    <tr>\n",
       "      <th>Fransa</th>\n",
       "      <td>10.0</td>\n",
       "      <td>10</td>\n",
       "    </tr>\n",
       "    <tr>\n",
       "      <th>Almanya</th>\n",
       "      <td>10.0</td>\n",
       "      <td>10</td>\n",
       "    </tr>\n",
       "    <tr>\n",
       "      <th>Osmanlı</th>\n",
       "      <td>21.3</td>\n",
       "      <td>305085</td>\n",
       "    </tr>\n",
       "  </tbody>\n",
       "</table>\n",
       "</div>"
      ],
      "text/plain": [
       "           nufus    olum\n",
       "İngiltere   45.4  744000\n",
       "Fransa      10.0      10\n",
       "Almanya     10.0      10\n",
       "Osmanlı     21.3  305085"
      ]
     },
     "execution_count": 17,
     "metadata": {},
     "output_type": "execute_result"
    }
   ],
   "source": [
    "df = ww1Df.copy() # değişikliklerimizi yedek üzerinde yapıcaz\n",
    "df.iloc[1:3] = 10\n",
    "df"
   ]
  },
  {
   "cell_type": "markdown",
   "metadata": {},
   "source": [
    "#### Satır ve Sütun Kullanımı\n",
    "\n",
    "Seçme ve fancy indexing işlemlerinde sütun, bölme ve maskeleme işleminde satır kullanılır."
   ]
  },
  {
   "cell_type": "code",
   "execution_count": 18,
   "metadata": {},
   "outputs": [
    {
     "name": "stdout",
     "output_type": "stream",
     "text": [
      "Seçme işleminde sütun kullanılır:\n",
      "İngiltere    45.4\n",
      "Fransa       39.6\n",
      "Almanya      64.9\n",
      "Osmanlı      21.3\n",
      "Name: nufus, dtype: float64\n",
      "\n",
      "Ama bölme işleminde satır kullanılır:\n",
      "         nufus     olum\n",
      "Fransa    39.6  1150000\n",
      "Almanya   64.9  1800000\n",
      "Osmanlı   21.3   305085\n",
      "\n",
      "Maskeleme işleminde de satır kullanılır:\n",
      "           nufus     olum\n",
      "İngiltere   45.4   744000\n",
      "Almanya     64.9  1800000\n"
     ]
    }
   ],
   "source": [
    "print(\"Seçme işleminde sütun kullanılır:\\n\", ww1Df[\"nufus\"]                   , sep=\"\", end=\"\\n\")\n",
    "print(\"\\nAma bölme işleminde satır kullanılır:\\n\", ww1Df[\"Fransa\":\"Osmanlı\"]  , sep=\"\", end=\"\\n\")\n",
    "print(\"\\nMaskeleme işleminde de satır kullanılır:\\n\", ww1Df[42 < ww1Df.nufus] , sep=\"\", end=\"\\n\")"
   ]
  }
 ],
 "metadata": {
  "kernelspec": {
   "display_name": "Python 3",
   "language": "python",
   "name": "python3"
  },
  "language_info": {
   "codemirror_mode": {
    "name": "ipython",
    "version": 3
   },
   "file_extension": ".py",
   "mimetype": "text/x-python",
   "name": "python",
   "nbconvert_exporter": "python",
   "pygments_lexer": "ipython3",
   "version": "3.8.8"
  }
 },
 "nbformat": 4,
 "nbformat_minor": 4
}

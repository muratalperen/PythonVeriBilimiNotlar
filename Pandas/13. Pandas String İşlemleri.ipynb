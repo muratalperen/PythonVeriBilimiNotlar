{
 "cells": [
  {
   "cell_type": "markdown",
   "id": "1a907950",
   "metadata": {},
   "source": [
    "Bildiğiniz üzere Python, string üzerinde rahatlıkla işlemler yapabileceğiniz bir dildir. Gerçek hayattaki verilerde de yazıların istenen şekilde olacağı söylenemez. Python'daki birçok string fonksiyonu Pandas'ta da vardır.\n",
    "\n",
    "## Pandas'ta String İşlemleri\n",
    "\n",
    "Numpy'da string işlemleri için fonksiyonlar bulunmadığından bu işi döngülerle halletmelisiniz."
   ]
  },
  {
   "cell_type": "code",
   "execution_count": 1,
   "id": "be7f1a4c",
   "metadata": {},
   "outputs": [
    {
     "data": {
      "text/plain": [
       "['Ahmet', 'Mert', 'Emre', 'Seli̇m']"
      ]
     },
     "execution_count": 1,
     "metadata": {},
     "output_type": "execute_result"
    }
   ],
   "source": [
    "import numpy as np\n",
    "\n",
    "isimler = ['ahmet', 'Mert', 'EmRe', 'SELİM']\n",
    "veri = np.array(isimler)\n",
    "[s.capitalize() for s in veri]"
   ]
  },
  {
   "cell_type": "markdown",
   "id": "d2b359c2",
   "metadata": {},
   "source": [
    "Bazı veriler için güzel bir yöntem. Ancak None veri tipi gibi beklenmedik birşey ile karşılaşıldığında hata verecektir.\n",
    "\n",
    "Pandas'ın, string üzerinde işlem yapmak ve kayıp veriler üzerinde etkili çalışmak için `str` metodu vardır."
   ]
  },
  {
   "cell_type": "code",
   "execution_count": 2,
   "id": "0f089c33",
   "metadata": {},
   "outputs": [
    {
     "data": {
      "text/plain": [
       "0    ahmet\n",
       "1     Mert\n",
       "2     EmRe\n",
       "3    SELİM\n",
       "dtype: object"
      ]
     },
     "execution_count": 2,
     "metadata": {},
     "output_type": "execute_result"
    }
   ],
   "source": [
    "import pandas as pd\n",
    "\n",
    "veri = pd.Series(isimler)\n",
    "veri"
   ]
  },
  {
   "cell_type": "code",
   "execution_count": 3,
   "id": "465b1a42",
   "metadata": {},
   "outputs": [
    {
     "data": {
      "text/plain": [
       "0     Ahmet\n",
       "1      Mert\n",
       "2      Emre\n",
       "3    Seli̇m\n",
       "dtype: object"
      ]
     },
     "execution_count": 3,
     "metadata": {},
     "output_type": "execute_result"
    }
   ],
   "source": [
    "veri.str.capitalize()"
   ]
  },
  {
   "cell_type": "markdown",
   "id": "8c9e4d0d",
   "metadata": {},
   "source": [
    "Python konsolundayken `veri.str.` yazdıktan sonra Tab tuşuna basarak veya [dokümentasyonuna](https://pandas.pydata.org/pandas-docs/stable/user_guide/text.html) bakarak yapabileceğiniz işlemleri görebilirsiniz. Neredeyse bütün Python string işlemleri Pandas'ta da vardır.\n",
    "\n",
    "### Düzenli İfadeler (Regex)\n",
    "\n",
    "Pandas, re modülünü kullanarak her eleman için düzenli ifadeleri kullanabilmenizi sağlar. `re.modul()` şeklinde kullanılan çoğu regex komutunu `veri.str.modul()` şeklinde kullanabilirsiniz."
   ]
  },
  {
   "cell_type": "code",
   "execution_count": 4,
   "id": "c5a5d1b3",
   "metadata": {},
   "outputs": [
    {
     "data": {
      "text/plain": [
       "0     True\n",
       "1     True\n",
       "2    False\n",
       "3    False\n",
       "dtype: bool"
      ]
     },
     "execution_count": 4,
     "metadata": {},
     "output_type": "execute_result"
    }
   ],
   "source": [
    "veri.str.match(\".*[Mm]e\")"
   ]
  },
  {
   "cell_type": "markdown",
   "id": "b499ddb0",
   "metadata": {},
   "source": [
    "### Diğer Metodlar\n",
    "\n",
    "Daha bir sürü işlemi yapmanızı kolaylaştıracak metodlar var.\n",
    "\n",
    "| Fonksiyon       | Açıklama                                                                      |\n",
    "|-----------------|-------------------------------------------------------------------------------|\n",
    "| get()           | Her elementin belirtilen index'teki değerini alır.                            |\n",
    "| slice()         | Pythondaki [::] operatörleriyle aynı işi yapar.                               |\n",
    "| slice_replace() | Belirtilen aralıktaki string'i `repl` parametresindeki string ile değiştirir. |\n",
    "| cat()           | String'leri birleştirir.                                                      |\n",
    "| repeat()        | `repeats` parametresine verilen sayıda string'leri çoğaltır.                  |\n",
    "| normalize()     | String'lerin Unicode halini döndürür.                                         |\n",
    "| pad()           | String'lerin sağ, sol veya iki yanına boşluk ekler.                           |\n",
    "| wrap()          | Belirtilen karakter sonrasına alt satıra geçirir.                             |\n",
    "| join()          | String'leri birleştirir.                                                      |\n",
    "\n",
    "#### Bölümleme\n",
    "\n",
    "str metodu, her elemanı ayrı bir string gibi alıp işlem yaptığından bölümleme (slicing) işlemini bildiğimiz yöntemle yapabiliriz. Ayrıca aynı işlevde `slice()` adında da bir metod mevcut."
   ]
  },
  {
   "cell_type": "code",
   "execution_count": 5,
   "id": "4f455ed5",
   "metadata": {},
   "outputs": [
    {
     "data": {
      "text/plain": [
       "0    ah\n",
       "1    Me\n",
       "2    Em\n",
       "3    SE\n",
       "dtype: object"
      ]
     },
     "execution_count": 5,
     "metadata": {},
     "output_type": "execute_result"
    }
   ],
   "source": [
    "veri\n",
    "veri.str[0:2]"
   ]
  },
  {
   "cell_type": "markdown",
   "id": "9cc11e9c",
   "metadata": {},
   "source": [
    "`veri.str[i]` ile de `veri.str.get(i)` aynı işlevdeler."
   ]
  },
  {
   "cell_type": "markdown",
   "id": "0aedc85d",
   "metadata": {},
   "source": [
    "#### Belirteçleri Ayırma\n",
    "\n",
    "Bazı verilerde bir sütun, o satır ile ilgili belirteçleri tutuyor olabilir. Sallıyorum aşağıdaki örnekte info sütununda A, annesi yaşıyor; B, babası yaşıyor; K, kardeşi var gibisinden anlamlara geliyor olabilir. Belirteçleri birbirinden ayıran karakteri parametre olarak verdiğimiz `get_dummies()` metodu, bu veriler için ayrı sütunların oluşmasını sağlar."
   ]
  },
  {
   "cell_type": "code",
   "execution_count": 6,
   "id": "48869271",
   "metadata": {
    "scrolled": false
   },
   "outputs": [
    {
     "data": {
      "text/html": [
       "<div>\n",
       "<style scoped>\n",
       "    .dataframe tbody tr th:only-of-type {\n",
       "        vertical-align: middle;\n",
       "    }\n",
       "\n",
       "    .dataframe tbody tr th {\n",
       "        vertical-align: top;\n",
       "    }\n",
       "\n",
       "    .dataframe thead th {\n",
       "        text-align: right;\n",
       "    }\n",
       "</style>\n",
       "<table border=\"1\" class=\"dataframe\">\n",
       "  <thead>\n",
       "    <tr style=\"text-align: right;\">\n",
       "      <th></th>\n",
       "      <th>name</th>\n",
       "      <th>info</th>\n",
       "    </tr>\n",
       "  </thead>\n",
       "  <tbody>\n",
       "    <tr>\n",
       "      <th>0</th>\n",
       "      <td>ahmet</td>\n",
       "      <td>A|B|K</td>\n",
       "    </tr>\n",
       "    <tr>\n",
       "      <th>1</th>\n",
       "      <td>Mert</td>\n",
       "      <td>B|K</td>\n",
       "    </tr>\n",
       "    <tr>\n",
       "      <th>2</th>\n",
       "      <td>EmRe</td>\n",
       "      <td>A</td>\n",
       "    </tr>\n",
       "    <tr>\n",
       "      <th>3</th>\n",
       "      <td>SELİM</td>\n",
       "      <td>B|K</td>\n",
       "    </tr>\n",
       "  </tbody>\n",
       "</table>\n",
       "</div>"
      ],
      "text/plain": [
       "    name   info\n",
       "0  ahmet  A|B|K\n",
       "1   Mert    B|K\n",
       "2   EmRe      A\n",
       "3  SELİM    B|K"
      ]
     },
     "execution_count": 6,
     "metadata": {},
     "output_type": "execute_result"
    }
   ],
   "source": [
    "df = pd.DataFrame({'name': veri, 'info': ['A|B|K', 'B|K', 'A', 'B|K']})\n",
    "df"
   ]
  },
  {
   "cell_type": "code",
   "execution_count": 7,
   "id": "ed495524",
   "metadata": {},
   "outputs": [
    {
     "data": {
      "text/html": [
       "<div>\n",
       "<style scoped>\n",
       "    .dataframe tbody tr th:only-of-type {\n",
       "        vertical-align: middle;\n",
       "    }\n",
       "\n",
       "    .dataframe tbody tr th {\n",
       "        vertical-align: top;\n",
       "    }\n",
       "\n",
       "    .dataframe thead th {\n",
       "        text-align: right;\n",
       "    }\n",
       "</style>\n",
       "<table border=\"1\" class=\"dataframe\">\n",
       "  <thead>\n",
       "    <tr style=\"text-align: right;\">\n",
       "      <th></th>\n",
       "      <th>A</th>\n",
       "      <th>B</th>\n",
       "      <th>K</th>\n",
       "    </tr>\n",
       "  </thead>\n",
       "  <tbody>\n",
       "    <tr>\n",
       "      <th>0</th>\n",
       "      <td>1</td>\n",
       "      <td>1</td>\n",
       "      <td>1</td>\n",
       "    </tr>\n",
       "    <tr>\n",
       "      <th>1</th>\n",
       "      <td>0</td>\n",
       "      <td>1</td>\n",
       "      <td>1</td>\n",
       "    </tr>\n",
       "    <tr>\n",
       "      <th>2</th>\n",
       "      <td>1</td>\n",
       "      <td>0</td>\n",
       "      <td>0</td>\n",
       "    </tr>\n",
       "    <tr>\n",
       "      <th>3</th>\n",
       "      <td>0</td>\n",
       "      <td>1</td>\n",
       "      <td>1</td>\n",
       "    </tr>\n",
       "  </tbody>\n",
       "</table>\n",
       "</div>"
      ],
      "text/plain": [
       "   A  B  K\n",
       "0  1  1  1\n",
       "1  0  1  1\n",
       "2  1  0  0\n",
       "3  0  1  1"
      ]
     },
     "execution_count": 7,
     "metadata": {},
     "output_type": "execute_result"
    }
   ],
   "source": [
    "df['info'].str.get_dummies('|')"
   ]
  },
  {
   "cell_type": "markdown",
   "id": "48ac46d7",
   "metadata": {},
   "source": [
    "Daha birçok metod olsa da hepsine burada girmeyeceğiz. İleri okumalar için [Pandas Dokümentasyonuna](http://pandas.pydata.org/pandas-docs/stable/text.html) bakabilirsiniz."
   ]
  }
 ],
 "metadata": {
  "kernelspec": {
   "display_name": "Python 3",
   "language": "python",
   "name": "python3"
  },
  "language_info": {
   "codemirror_mode": {
    "name": "ipython",
    "version": 3
   },
   "file_extension": ".py",
   "mimetype": "text/x-python",
   "name": "python",
   "nbconvert_exporter": "python",
   "pygments_lexer": "ipython3",
   "version": "3.8.8"
  }
 },
 "nbformat": 4,
 "nbformat_minor": 5
}

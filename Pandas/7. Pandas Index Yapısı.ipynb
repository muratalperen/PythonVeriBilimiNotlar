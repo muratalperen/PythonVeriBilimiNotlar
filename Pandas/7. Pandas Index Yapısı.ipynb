{
 "cells": [
  {
   "cell_type": "markdown",
   "metadata": {},
   "source": [
    "Şu ana kadar Pandas Serie ve DataFrame nesnelerinde bir ve iki boyutlu dizileri gördük, üzerinde çalıştık. Ancak bize iki boyuttan fazlası gerekebilir.\n",
    "\n",
    "Pandas üç ve dört boyutlu veriler için Panel ve Panel4D nesneleri bulundurur. Ancak 2 boyutun üstüne çıkmaktansa index hiyerarşisi (indexlerin altında indexler) oluşturmak daha yaygın bir çözümdür.\n",
    "\n",
    "Bu bölümde MultiIndex yapısını ve üzerinde işlem yapmayı öğreneceğiz.\n",
    "\n",
    "## Serie'lerde Çoklu Index\n",
    "\n",
    "Öncelikle iki boyutlu veriyi nasıl tek boyutlu Serie'ye çevirebileceğimize bakalım.\n",
    "\n",
    "Aklınıza bunun için farklı yöntemler gelmiş olabilir ama Pandas MultiIndex veri yapısı bu iş için üretilmiştir ve işinizi kolaylaştırır. \n",
    "\n",
    "Aşağıda üç tane şehrin 2010 ve 2015 yılındaki nüfuslarını tek indexte tutacağız:"
   ]
  },
  {
   "cell_type": "code",
   "execution_count": 1,
   "metadata": {},
   "outputs": [
    {
     "data": {
      "text/plain": [
       "Ankara     2010    4771716\n",
       "           2015    5270575\n",
       "Muş        2010     406886\n",
       "           2015     408728\n",
       "Gümüşhane  2010     129618\n",
       "           2015     151449\n",
       "dtype: int64"
      ]
     },
     "execution_count": 1,
     "metadata": {},
     "output_type": "execute_result"
    }
   ],
   "source": [
    "import numpy as np\n",
    "import pandas as pd\n",
    "\n",
    "index = [('Ankara', 2010),    ('Ankara', 2015),\n",
    "         ('Muş', 2010),       ('Muş', 2015),\n",
    "         ('Gümüşhane', 2010), ('Gümüşhane', 2015)]\n",
    "nufuslar = [4771716, 5270575,\n",
    "            406886,  408728,\n",
    "            129618,  151449]\n",
    "\n",
    "ind = pd.MultiIndex.from_tuples(index)\n",
    "nufus = pd.Series(nufuslar, index=ind)\n",
    "nufus"
   ]
  },
  {
   "cell_type": "markdown",
   "metadata": {},
   "source": [
    "Yukarıda **tuple**'larla indexlerimizi oluşturup `MultiIndex.from_tuples` fonksiyonu ile `MultiIndex` veri tipine dönüştürdük. Artık verimizi iki boyutlu dizi gibi kullanabiliriz."
   ]
  },
  {
   "cell_type": "code",
   "execution_count": 2,
   "metadata": {},
   "outputs": [
    {
     "data": {
      "text/plain": [
       "408728"
      ]
     },
     "execution_count": 2,
     "metadata": {},
     "output_type": "execute_result"
    }
   ],
   "source": [
    "nufus[\"Muş\"][2015]"
   ]
  },
  {
   "cell_type": "code",
   "execution_count": 3,
   "metadata": {},
   "outputs": [
    {
     "data": {
      "text/plain": [
       "Ankara       4771716\n",
       "Muş           406886\n",
       "Gümüşhane     129618\n",
       "dtype: int64"
      ]
     },
     "execution_count": 3,
     "metadata": {},
     "output_type": "execute_result"
    }
   ],
   "source": [
    "nufus[:, 2010]"
   ]
  },
  {
   "cell_type": "markdown",
   "metadata": {},
   "source": [
    "### Çok Boyutlu MultiIndex\n",
    "\n",
    "Bu veriyi DataFrame kullanarak da depolayabilirdik. Elbette Pandas'ı üretenler de bunu farkında ve bunun için bir fonksiyon yazmışlar. `unstack` fonksiyonu ile çoklu indexlenmiş veriyi kolayca DataFrame'e çevirebilirsiniz."
   ]
  },
  {
   "cell_type": "code",
   "execution_count": 4,
   "metadata": {},
   "outputs": [
    {
     "data": {
      "text/html": [
       "<div>\n",
       "<style scoped>\n",
       "    .dataframe tbody tr th:only-of-type {\n",
       "        vertical-align: middle;\n",
       "    }\n",
       "\n",
       "    .dataframe tbody tr th {\n",
       "        vertical-align: top;\n",
       "    }\n",
       "\n",
       "    .dataframe thead th {\n",
       "        text-align: right;\n",
       "    }\n",
       "</style>\n",
       "<table border=\"1\" class=\"dataframe\">\n",
       "  <thead>\n",
       "    <tr style=\"text-align: right;\">\n",
       "      <th></th>\n",
       "      <th>2010</th>\n",
       "      <th>2015</th>\n",
       "    </tr>\n",
       "  </thead>\n",
       "  <tbody>\n",
       "    <tr>\n",
       "      <th>Ankara</th>\n",
       "      <td>4771716</td>\n",
       "      <td>5270575</td>\n",
       "    </tr>\n",
       "    <tr>\n",
       "      <th>Gümüşhane</th>\n",
       "      <td>129618</td>\n",
       "      <td>151449</td>\n",
       "    </tr>\n",
       "    <tr>\n",
       "      <th>Muş</th>\n",
       "      <td>406886</td>\n",
       "      <td>408728</td>\n",
       "    </tr>\n",
       "  </tbody>\n",
       "</table>\n",
       "</div>"
      ],
      "text/plain": [
       "              2010     2015\n",
       "Ankara     4771716  5270575\n",
       "Gümüşhane   129618   151449\n",
       "Muş         406886   408728"
      ]
     },
     "execution_count": 4,
     "metadata": {},
     "output_type": "execute_result"
    }
   ],
   "source": [
    "nufus.unstack()"
   ]
  },
  {
   "cell_type": "markdown",
   "metadata": {},
   "source": [
    "Beklenildiği üzere `stack` fonksiyonu da bunun tam tersi, DataFrame'i MultiIndex yapar.\n",
    "\n",
    "## MultiIndex Üretme\n",
    "\n",
    "Bir MultIndex üretmenin en düz yolu, index olarak iki boyutlu dizi vermektir:"
   ]
  },
  {
   "cell_type": "code",
   "execution_count": 5,
   "metadata": {},
   "outputs": [
    {
     "data": {
      "text/html": [
       "<div>\n",
       "<style scoped>\n",
       "    .dataframe tbody tr th:only-of-type {\n",
       "        vertical-align: middle;\n",
       "    }\n",
       "\n",
       "    .dataframe tbody tr th {\n",
       "        vertical-align: top;\n",
       "    }\n",
       "\n",
       "    .dataframe thead th {\n",
       "        text-align: right;\n",
       "    }\n",
       "</style>\n",
       "<table border=\"1\" class=\"dataframe\">\n",
       "  <thead>\n",
       "    <tr style=\"text-align: right;\">\n",
       "      <th></th>\n",
       "      <th></th>\n",
       "      <th>veri1</th>\n",
       "      <th>veri2</th>\n",
       "    </tr>\n",
       "  </thead>\n",
       "  <tbody>\n",
       "    <tr>\n",
       "      <th rowspan=\"2\" valign=\"top\">A</th>\n",
       "      <th>1</th>\n",
       "      <td>6</td>\n",
       "      <td>5</td>\n",
       "    </tr>\n",
       "    <tr>\n",
       "      <th>2</th>\n",
       "      <td>1</td>\n",
       "      <td>7</td>\n",
       "    </tr>\n",
       "    <tr>\n",
       "      <th rowspan=\"2\" valign=\"top\">B</th>\n",
       "      <th>1</th>\n",
       "      <td>2</td>\n",
       "      <td>7</td>\n",
       "    </tr>\n",
       "    <tr>\n",
       "      <th>2</th>\n",
       "      <td>5</td>\n",
       "      <td>0</td>\n",
       "    </tr>\n",
       "  </tbody>\n",
       "</table>\n",
       "</div>"
      ],
      "text/plain": [
       "     veri1  veri2\n",
       "A 1      6      5\n",
       "  2      1      7\n",
       "B 1      2      7\n",
       "  2      5      0"
      ]
     },
     "execution_count": 5,
     "metadata": {},
     "output_type": "execute_result"
    }
   ],
   "source": [
    "pd.DataFrame(np.random.randint(10, size=(4, 2)),\n",
    "             index=[['A', 'A', 'B', 'B'], [1, 2, 1, 2]],\n",
    "             columns=['veri1', 'veri2'])"
   ]
  },
  {
   "cell_type": "markdown",
   "metadata": {},
   "source": [
    "Diğer bir yöntem anahtarları tuple olan sözlükler kullanmaktır."
   ]
  },
  {
   "cell_type": "code",
   "execution_count": 6,
   "metadata": {},
   "outputs": [
    {
     "data": {
      "text/plain": [
       "Ankara     2000    4771716\n",
       "           2010    5270575\n",
       "Muş        2000     406886\n",
       "           2010     408728\n",
       "Gümüşhane  2000     129618\n",
       "           2010     151449\n",
       "dtype: int64"
      ]
     },
     "execution_count": 6,
     "metadata": {},
     "output_type": "execute_result"
    }
   ],
   "source": [
    "sozlk = {('Ankara', 2000):   4771716,\n",
    "        ('Ankara', 2010):    5270575,\n",
    "        ('Muş', 2000):       406886,\n",
    "        ('Muş', 2010):       408728,\n",
    "        ('Gümüşhane', 2000): 129618,\n",
    "        ('Gümüşhane', 2010): 151449}\n",
    "pd.Series(sozlk)"
   ]
  },
  {
   "cell_type": "markdown",
   "metadata": {},
   "source": [
    "### MultıIndex Üreten Fonksiyonlar\n",
    "\n",
    "pd.MultiIndex sınıfı altında MultiIndex üretmek için bir sürü metod bulunur. Bunlardan biri az önce gördüğümüz `from_tuples()` idi."
   ]
  },
  {
   "cell_type": "code",
   "execution_count": 7,
   "metadata": {},
   "outputs": [
    {
     "data": {
      "text/plain": [
       "MultiIndex([('A', 1),\n",
       "            ('A', 2),\n",
       "            ('B', 1),\n",
       "            ('B', 2)],\n",
       "           )"
      ]
     },
     "execution_count": 7,
     "metadata": {},
     "output_type": "execute_result"
    }
   ],
   "source": [
    "pd.MultiIndex.from_tuples([('A', 1), ('A', 2), ('B', 1), ('B', 2)])"
   ]
  },
  {
   "cell_type": "markdown",
   "metadata": {},
   "source": [
    "Bu fonksiyonlardan bir diğeri de `from_arrays()`."
   ]
  },
  {
   "cell_type": "code",
   "execution_count": 8,
   "metadata": {},
   "outputs": [
    {
     "data": {
      "text/plain": [
       "MultiIndex([('A', 1),\n",
       "            ('A', 2),\n",
       "            ('B', 1),\n",
       "            ('B', 2)],\n",
       "           )"
      ]
     },
     "execution_count": 8,
     "metadata": {},
     "output_type": "execute_result"
    }
   ],
   "source": [
    "pd.MultiIndex.from_arrays([['A', 'A', 'B', 'B'], [1, 2, 1, 2]])"
   ]
  },
  {
   "cell_type": "markdown",
   "metadata": {},
   "source": [
    "`from_product()` fonksiyonuyla iki dizinin kartezyen çarpımları ile de MultiIndex üretilebilir."
   ]
  },
  {
   "cell_type": "code",
   "execution_count": 9,
   "metadata": {},
   "outputs": [
    {
     "data": {
      "text/plain": [
       "MultiIndex([('A', 1),\n",
       "            ('A', 2),\n",
       "            ('B', 1),\n",
       "            ('B', 2)],\n",
       "           )"
      ]
     },
     "execution_count": 9,
     "metadata": {},
     "output_type": "execute_result"
    }
   ],
   "source": [
    "pd.MultiIndex.from_product([['A', 'B'], [1, 2]])"
   ]
  },
  {
   "cell_type": "markdown",
   "metadata": {},
   "source": [
    "Direkt `MultiIndex`i kullanarak da MultiIndex tanımlayabilirsiniz. Parametre olarak `levels`e index isimlerini, `codes`e de `levels`e yazılan indexlerin indexlerini alır."
   ]
  },
  {
   "cell_type": "code",
   "execution_count": 10,
   "metadata": {},
   "outputs": [
    {
     "data": {
      "text/plain": [
       "MultiIndex([('A', 1),\n",
       "            ('A', 2),\n",
       "            ('B', 1),\n",
       "            ('B', 2)],\n",
       "           )"
      ]
     },
     "execution_count": 10,
     "metadata": {},
     "output_type": "execute_result"
    }
   ],
   "source": [
    "pd.MultiIndex(levels=[['A', 'B'], [1, 2]],\n",
    "              codes=[[0, 0, 1, 1], [0, 1, 0, 1]])"
   ]
  },
  {
   "cell_type": "markdown",
   "metadata": {},
   "source": [
    "#### MultiIndex Index Adları\n",
    "\n",
    "Daha komplike verilerde indexleri adlandırmak işe yarayabilir. Index'leri aşağıdaki gibi adlandırabiliriz."
   ]
  },
  {
   "cell_type": "code",
   "execution_count": 11,
   "metadata": {},
   "outputs": [
    {
     "data": {
      "text/plain": [
       "Yer        Yıl \n",
       "Ankara     2010    4771716\n",
       "           2015    5270575\n",
       "Muş        2010     406886\n",
       "           2015     408728\n",
       "Gümüşhane  2010     129618\n",
       "           2015     151449\n",
       "dtype: int64"
      ]
     },
     "execution_count": 11,
     "metadata": {},
     "output_type": "execute_result"
    }
   ],
   "source": [
    "nufus.index.names = ['Yer', 'Yıl']\n",
    "nufus"
   ]
  },
  {
   "cell_type": "markdown",
   "metadata": {},
   "source": [
    "#### Sütunlarda MultiIndex\n",
    "\n",
    "Satırlarda olduğu gibi sütunlarda da MultiIndex yapısı kullanılabilir.\n",
    "\n",
    "Aşağıdaki örnekte rastgele kişilerin boy ve kilolarını 2015 ve 2020 yıllarında şubat ve eylül aylarında gösteren DataFrame oluşturuyorum."
   ]
  },
  {
   "cell_type": "code",
   "execution_count": 12,
   "metadata": {},
   "outputs": [
    {
     "data": {
      "text/html": [
       "<div>\n",
       "<style scoped>\n",
       "    .dataframe tbody tr th:only-of-type {\n",
       "        vertical-align: middle;\n",
       "    }\n",
       "\n",
       "    .dataframe tbody tr th {\n",
       "        vertical-align: top;\n",
       "    }\n",
       "\n",
       "    .dataframe thead tr th {\n",
       "        text-align: left;\n",
       "    }\n",
       "\n",
       "    .dataframe thead tr:last-of-type th {\n",
       "        text-align: right;\n",
       "    }\n",
       "</style>\n",
       "<table border=\"1\" class=\"dataframe\">\n",
       "  <thead>\n",
       "    <tr>\n",
       "      <th></th>\n",
       "      <th>Kişi</th>\n",
       "      <th colspan=\"2\" halign=\"left\">Faruk</th>\n",
       "      <th colspan=\"2\" halign=\"left\">Cemil</th>\n",
       "      <th colspan=\"2\" halign=\"left\">Tarık</th>\n",
       "    </tr>\n",
       "    <tr>\n",
       "      <th></th>\n",
       "      <th>Ölçülen</th>\n",
       "      <th>Kilo</th>\n",
       "      <th>Tansiyon</th>\n",
       "      <th>Kilo</th>\n",
       "      <th>Tansiyon</th>\n",
       "      <th>Kilo</th>\n",
       "      <th>Tansiyon</th>\n",
       "    </tr>\n",
       "    <tr>\n",
       "      <th>Yıl</th>\n",
       "      <th>Dönem</th>\n",
       "      <th></th>\n",
       "      <th></th>\n",
       "      <th></th>\n",
       "      <th></th>\n",
       "      <th></th>\n",
       "      <th></th>\n",
       "    </tr>\n",
       "  </thead>\n",
       "  <tbody>\n",
       "    <tr>\n",
       "      <th rowspan=\"2\" valign=\"top\">2015</th>\n",
       "      <th>Şubat</th>\n",
       "      <td>77</td>\n",
       "      <td>103</td>\n",
       "      <td>77</td>\n",
       "      <td>119</td>\n",
       "      <td>66</td>\n",
       "      <td>114</td>\n",
       "    </tr>\n",
       "    <tr>\n",
       "      <th>Eylül</th>\n",
       "      <td>92</td>\n",
       "      <td>70</td>\n",
       "      <td>79</td>\n",
       "      <td>76</td>\n",
       "      <td>84</td>\n",
       "      <td>106</td>\n",
       "    </tr>\n",
       "    <tr>\n",
       "      <th rowspan=\"2\" valign=\"top\">2020</th>\n",
       "      <th>Şubat</th>\n",
       "      <td>70</td>\n",
       "      <td>75</td>\n",
       "      <td>88</td>\n",
       "      <td>107</td>\n",
       "      <td>96</td>\n",
       "      <td>83</td>\n",
       "    </tr>\n",
       "    <tr>\n",
       "      <th>Eylül</th>\n",
       "      <td>93</td>\n",
       "      <td>119</td>\n",
       "      <td>55</td>\n",
       "      <td>128</td>\n",
       "      <td>93</td>\n",
       "      <td>79</td>\n",
       "    </tr>\n",
       "  </tbody>\n",
       "</table>\n",
       "</div>"
      ],
      "text/plain": [
       "Kişi       Faruk          Cemil          Tarık         \n",
       "Ölçülen     Kilo Tansiyon  Kilo Tansiyon  Kilo Tansiyon\n",
       "Yıl  Dönem                                             \n",
       "2015 Şubat    77      103    77      119    66      114\n",
       "     Eylül    92       70    79       76    84      106\n",
       "2020 Şubat    70       75    88      107    96       83\n",
       "     Eylül    93      119    55      128    93       79"
      ]
     },
     "execution_count": 12,
     "metadata": {},
     "output_type": "execute_result"
    }
   ],
   "source": [
    "# index ve sütunlar\n",
    "satir = pd.MultiIndex.from_product([[2015, 2020], [\"Şubat\", \"Eylül\"]], names=['Yıl', 'Dönem'])\n",
    "sutun = pd.MultiIndex.from_product([['Faruk', 'Cemil', 'Tarık'], ['Kilo', 'Tansiyon']],\n",
    "names=['Kişi', 'Ölçülen'])\n",
    "\n",
    "# rastgele veriler\n",
    "veri = np.array([[np.random.randint(55, 100), np.random.randint(70, 130),\n",
    "                  np.random.randint(55, 100), np.random.randint(70, 130),\n",
    "                  np.random.randint(55, 100), np.random.randint(70, 130)]\n",
    "                for i in range(4)])\n",
    "\n",
    "# ve Dataframe\n",
    "olcumler = pd.DataFrame(veri, index=satir, columns=sutun)\n",
    "olcumler"
   ]
  },
  {
   "cell_type": "markdown",
   "metadata": {},
   "source": [
    "Normalde dört boyutlu bir veri olacakken MultiIndex sayesinde iki boyutlu tabloda görebiliyoruz, verilere de bildiğimiz yöntemlerle ulaşabiliyoruz."
   ]
  },
  {
   "cell_type": "code",
   "execution_count": 13,
   "metadata": {},
   "outputs": [
    {
     "data": {
      "text/html": [
       "<div>\n",
       "<style scoped>\n",
       "    .dataframe tbody tr th:only-of-type {\n",
       "        vertical-align: middle;\n",
       "    }\n",
       "\n",
       "    .dataframe tbody tr th {\n",
       "        vertical-align: top;\n",
       "    }\n",
       "\n",
       "    .dataframe thead th {\n",
       "        text-align: right;\n",
       "    }\n",
       "</style>\n",
       "<table border=\"1\" class=\"dataframe\">\n",
       "  <thead>\n",
       "    <tr style=\"text-align: right;\">\n",
       "      <th></th>\n",
       "      <th>Ölçülen</th>\n",
       "      <th>Kilo</th>\n",
       "      <th>Tansiyon</th>\n",
       "    </tr>\n",
       "    <tr>\n",
       "      <th>Yıl</th>\n",
       "      <th>Dönem</th>\n",
       "      <th></th>\n",
       "      <th></th>\n",
       "    </tr>\n",
       "  </thead>\n",
       "  <tbody>\n",
       "    <tr>\n",
       "      <th rowspan=\"2\" valign=\"top\">2015</th>\n",
       "      <th>Şubat</th>\n",
       "      <td>77</td>\n",
       "      <td>119</td>\n",
       "    </tr>\n",
       "    <tr>\n",
       "      <th>Eylül</th>\n",
       "      <td>79</td>\n",
       "      <td>76</td>\n",
       "    </tr>\n",
       "    <tr>\n",
       "      <th rowspan=\"2\" valign=\"top\">2020</th>\n",
       "      <th>Şubat</th>\n",
       "      <td>88</td>\n",
       "      <td>107</td>\n",
       "    </tr>\n",
       "    <tr>\n",
       "      <th>Eylül</th>\n",
       "      <td>55</td>\n",
       "      <td>128</td>\n",
       "    </tr>\n",
       "  </tbody>\n",
       "</table>\n",
       "</div>"
      ],
      "text/plain": [
       "Ölçülen     Kilo  Tansiyon\n",
       "Yıl  Dönem                \n",
       "2015 Şubat    77       119\n",
       "     Eylül    79        76\n",
       "2020 Şubat    88       107\n",
       "     Eylül    55       128"
      ]
     },
     "execution_count": 13,
     "metadata": {},
     "output_type": "execute_result"
    }
   ],
   "source": [
    "olcumler['Cemil']"
   ]
  },
  {
   "cell_type": "code",
   "execution_count": 14,
   "metadata": {},
   "outputs": [
    {
     "data": {
      "text/plain": [
       "Dönem\n",
       "Şubat    77\n",
       "Eylül    92\n",
       "Name: (Faruk, Kilo), dtype: int64"
      ]
     },
     "execution_count": 14,
     "metadata": {},
     "output_type": "execute_result"
    }
   ],
   "source": [
    "olcumler['Faruk', 'Kilo'][2015]"
   ]
  },
  {
   "cell_type": "markdown",
   "metadata": {},
   "source": [
    "## MultiIndex Seçme ve Bölümleme\n",
    "\n",
    "MultiIndex yapısında Indexing ve bölümleme (slicing) işlem yapmak için çok boyutlu dizilermiş gibi düşünebilirsiniz. Önce Serie'ler, sonra da DataFrame'ler üzerinde örneklerimize bakalım.\n",
    "\n",
    "### MultiIndex Serie\n",
    "\n",
    "Veri seçme örnekleri için daha önceden kullandığımız `nufus` verisini kullanacağız."
   ]
  },
  {
   "cell_type": "code",
   "execution_count": 15,
   "metadata": {},
   "outputs": [
    {
     "data": {
      "text/plain": [
       "Yer        Yıl \n",
       "Ankara     2010    4771716\n",
       "           2015    5270575\n",
       "Muş        2010     406886\n",
       "           2015     408728\n",
       "Gümüşhane  2010     129618\n",
       "           2015     151449\n",
       "dtype: int64"
      ]
     },
     "execution_count": 15,
     "metadata": {},
     "output_type": "execute_result"
    }
   ],
   "source": [
    "nufus"
   ]
  },
  {
   "cell_type": "markdown",
   "metadata": {},
   "source": [
    "Bilindiği gibi elemanlara indexleri belirterek ulaşabiliriz."
   ]
  },
  {
   "cell_type": "code",
   "execution_count": 16,
   "metadata": {},
   "outputs": [
    {
     "data": {
      "text/plain": [
       "4771716"
      ]
     },
     "execution_count": 16,
     "metadata": {},
     "output_type": "execute_result"
    }
   ],
   "source": [
    "nufus[\"Ankara\", 2010]"
   ]
  },
  {
   "cell_type": "markdown",
   "metadata": {},
   "source": [
    "Kısmi seçim (Partial Indexing) işleminde indexlerden sadece biri verilerek bir Serie'ye ulaşılır."
   ]
  },
  {
   "cell_type": "code",
   "execution_count": 17,
   "metadata": {},
   "outputs": [
    {
     "data": {
      "text/plain": [
       "Yıl\n",
       "2010    129618\n",
       "2015    151449\n",
       "dtype: int64"
      ]
     },
     "execution_count": 17,
     "metadata": {},
     "output_type": "execute_result"
    }
   ],
   "source": [
    "nufus['Gümüşhane']"
   ]
  },
  {
   "cell_type": "markdown",
   "metadata": {},
   "source": [
    "Index sıralı ise (sıralı indexleri az sonra göreceğiz) `nufus.loc['Muş':'Gümüşhane']` şeklinde bölümleme (slicing) işlemi de yapılabilir.\n",
    "\n",
    "İlk indexe boş bölümleme işareti koyarak ikincil index üzerinde işlem yapılır."
   ]
  },
  {
   "cell_type": "code",
   "execution_count": 18,
   "metadata": {},
   "outputs": [
    {
     "data": {
      "text/plain": [
       "Yer\n",
       "Ankara       4771716\n",
       "Muş           406886\n",
       "Gümüşhane     129618\n",
       "dtype: int64"
      ]
     },
     "execution_count": 18,
     "metadata": {},
     "output_type": "execute_result"
    }
   ],
   "source": [
    "nufus[:, 2010]"
   ]
  },
  {
   "cell_type": "markdown",
   "metadata": {},
   "source": [
    "[Boolean maskeleme](Numpy6) de kullanılabilir."
   ]
  },
  {
   "cell_type": "code",
   "execution_count": 19,
   "metadata": {},
   "outputs": [
    {
     "data": {
      "text/plain": [
       "Yer     Yıl \n",
       "Ankara  2010    4771716\n",
       "        2015    5270575\n",
       "dtype: int64"
      ]
     },
     "execution_count": 19,
     "metadata": {},
     "output_type": "execute_result"
    }
   ],
   "source": [
    "nufus[1000000 < nufus]"
   ]
  },
  {
   "cell_type": "markdown",
   "metadata": {},
   "source": [
    "[Fancy Indexing](#numpy7) de mümkün."
   ]
  },
  {
   "cell_type": "code",
   "execution_count": 20,
   "metadata": {},
   "outputs": [
    {
     "data": {
      "text/plain": [
       "Yer        Yıl \n",
       "Ankara     2010    4771716\n",
       "           2015    5270575\n",
       "Gümüşhane  2010     129618\n",
       "           2015     151449\n",
       "dtype: int64"
      ]
     },
     "execution_count": 20,
     "metadata": {},
     "output_type": "execute_result"
    }
   ],
   "source": [
    "nufus[['Ankara', 'Gümüşhane']]"
   ]
  },
  {
   "cell_type": "markdown",
   "metadata": {},
   "source": [
    "### MultiIndex DataFrame\n",
    "\n",
    "MultiIndex kullanılmış DataFrame de Serie'ler ile benzer şekilde kontrol edilir. Örnekler için `olcumler` verisini kullanabiliriz."
   ]
  },
  {
   "cell_type": "code",
   "execution_count": 21,
   "metadata": {},
   "outputs": [
    {
     "data": {
      "text/html": [
       "<div>\n",
       "<style scoped>\n",
       "    .dataframe tbody tr th:only-of-type {\n",
       "        vertical-align: middle;\n",
       "    }\n",
       "\n",
       "    .dataframe tbody tr th {\n",
       "        vertical-align: top;\n",
       "    }\n",
       "\n",
       "    .dataframe thead tr th {\n",
       "        text-align: left;\n",
       "    }\n",
       "\n",
       "    .dataframe thead tr:last-of-type th {\n",
       "        text-align: right;\n",
       "    }\n",
       "</style>\n",
       "<table border=\"1\" class=\"dataframe\">\n",
       "  <thead>\n",
       "    <tr>\n",
       "      <th></th>\n",
       "      <th>Kişi</th>\n",
       "      <th colspan=\"2\" halign=\"left\">Faruk</th>\n",
       "      <th colspan=\"2\" halign=\"left\">Cemil</th>\n",
       "      <th colspan=\"2\" halign=\"left\">Tarık</th>\n",
       "    </tr>\n",
       "    <tr>\n",
       "      <th></th>\n",
       "      <th>Ölçülen</th>\n",
       "      <th>Kilo</th>\n",
       "      <th>Tansiyon</th>\n",
       "      <th>Kilo</th>\n",
       "      <th>Tansiyon</th>\n",
       "      <th>Kilo</th>\n",
       "      <th>Tansiyon</th>\n",
       "    </tr>\n",
       "    <tr>\n",
       "      <th>Yıl</th>\n",
       "      <th>Dönem</th>\n",
       "      <th></th>\n",
       "      <th></th>\n",
       "      <th></th>\n",
       "      <th></th>\n",
       "      <th></th>\n",
       "      <th></th>\n",
       "    </tr>\n",
       "  </thead>\n",
       "  <tbody>\n",
       "    <tr>\n",
       "      <th rowspan=\"2\" valign=\"top\">2015</th>\n",
       "      <th>Şubat</th>\n",
       "      <td>77</td>\n",
       "      <td>103</td>\n",
       "      <td>77</td>\n",
       "      <td>119</td>\n",
       "      <td>66</td>\n",
       "      <td>114</td>\n",
       "    </tr>\n",
       "    <tr>\n",
       "      <th>Eylül</th>\n",
       "      <td>92</td>\n",
       "      <td>70</td>\n",
       "      <td>79</td>\n",
       "      <td>76</td>\n",
       "      <td>84</td>\n",
       "      <td>106</td>\n",
       "    </tr>\n",
       "    <tr>\n",
       "      <th rowspan=\"2\" valign=\"top\">2020</th>\n",
       "      <th>Şubat</th>\n",
       "      <td>70</td>\n",
       "      <td>75</td>\n",
       "      <td>88</td>\n",
       "      <td>107</td>\n",
       "      <td>96</td>\n",
       "      <td>83</td>\n",
       "    </tr>\n",
       "    <tr>\n",
       "      <th>Eylül</th>\n",
       "      <td>93</td>\n",
       "      <td>119</td>\n",
       "      <td>55</td>\n",
       "      <td>128</td>\n",
       "      <td>93</td>\n",
       "      <td>79</td>\n",
       "    </tr>\n",
       "  </tbody>\n",
       "</table>\n",
       "</div>"
      ],
      "text/plain": [
       "Kişi       Faruk          Cemil          Tarık         \n",
       "Ölçülen     Kilo Tansiyon  Kilo Tansiyon  Kilo Tansiyon\n",
       "Yıl  Dönem                                             \n",
       "2015 Şubat    77      103    77      119    66      114\n",
       "     Eylül    92       70    79       76    84      106\n",
       "2020 Şubat    70       75    88      107    96       83\n",
       "     Eylül    93      119    55      128    93       79"
      ]
     },
     "execution_count": 21,
     "metadata": {},
     "output_type": "execute_result"
    }
   ],
   "source": [
    "olcumler"
   ]
  },
  {
   "cell_type": "markdown",
   "metadata": {},
   "source": [
    "İlk yazdığımız indexte sütun adı yazıldığını hatırlayın."
   ]
  },
  {
   "cell_type": "code",
   "execution_count": 22,
   "metadata": {},
   "outputs": [
    {
     "data": {
      "text/plain": [
       "Yıl   Dönem\n",
       "2015  Şubat    66\n",
       "      Eylül    84\n",
       "2020  Şubat    96\n",
       "      Eylül    93\n",
       "Name: (Tarık, Kilo), dtype: int64"
      ]
     },
     "execution_count": 22,
     "metadata": {},
     "output_type": "execute_result"
    }
   ],
   "source": [
    "olcumler['Tarık', 'Kilo']"
   ]
  },
  {
   "cell_type": "markdown",
   "metadata": {},
   "source": [
    "Ayrıca [Veri Seçme ve Indexleme](pandas4#Index-Tanımlayıcılar:-loc-ve-iloc) bölümünde öğrendiğimiz `loc` ve `iloc` indexleyicilerini kullanabiliriz. Örneğin:"
   ]
  },
  {
   "cell_type": "code",
   "execution_count": 23,
   "metadata": {},
   "outputs": [
    {
     "data": {
      "text/html": [
       "<div>\n",
       "<style scoped>\n",
       "    .dataframe tbody tr th:only-of-type {\n",
       "        vertical-align: middle;\n",
       "    }\n",
       "\n",
       "    .dataframe tbody tr th {\n",
       "        vertical-align: top;\n",
       "    }\n",
       "\n",
       "    .dataframe thead tr th {\n",
       "        text-align: left;\n",
       "    }\n",
       "\n",
       "    .dataframe thead tr:last-of-type th {\n",
       "        text-align: right;\n",
       "    }\n",
       "</style>\n",
       "<table border=\"1\" class=\"dataframe\">\n",
       "  <thead>\n",
       "    <tr>\n",
       "      <th></th>\n",
       "      <th>Kişi</th>\n",
       "      <th colspan=\"2\" halign=\"left\">Faruk</th>\n",
       "    </tr>\n",
       "    <tr>\n",
       "      <th></th>\n",
       "      <th>Ölçülen</th>\n",
       "      <th>Kilo</th>\n",
       "      <th>Tansiyon</th>\n",
       "    </tr>\n",
       "    <tr>\n",
       "      <th>Yıl</th>\n",
       "      <th>Dönem</th>\n",
       "      <th></th>\n",
       "      <th></th>\n",
       "    </tr>\n",
       "  </thead>\n",
       "  <tbody>\n",
       "    <tr>\n",
       "      <th rowspan=\"2\" valign=\"top\">2015</th>\n",
       "      <th>Şubat</th>\n",
       "      <td>77</td>\n",
       "      <td>103</td>\n",
       "    </tr>\n",
       "    <tr>\n",
       "      <th>Eylül</th>\n",
       "      <td>92</td>\n",
       "      <td>70</td>\n",
       "    </tr>\n",
       "  </tbody>\n",
       "</table>\n",
       "</div>"
      ],
      "text/plain": [
       "Kişi       Faruk         \n",
       "Ölçülen     Kilo Tansiyon\n",
       "Yıl  Dönem               \n",
       "2015 Şubat    77      103\n",
       "     Eylül    92       70"
      ]
     },
     "execution_count": 23,
     "metadata": {},
     "output_type": "execute_result"
    }
   ],
   "source": [
    "olcumler.iloc[:2, :2] # konum olarak ikinci (iki hariç) sütun ve satırlar (kapalı index)"
   ]
  },
  {
   "cell_type": "markdown",
   "metadata": {},
   "source": [
    "`loc` ve `iloc` index hiyerarşisi içinde seçim yapacağında indexlerden oluşan tuple alır."
   ]
  },
  {
   "cell_type": "code",
   "execution_count": 24,
   "metadata": {},
   "outputs": [
    {
     "data": {
      "text/plain": [
       "Yıl   Dönem\n",
       "2015  Şubat    119\n",
       "      Eylül     76\n",
       "2020  Şubat    107\n",
       "      Eylül    128\n",
       "Name: (Cemil, Tansiyon), dtype: int64"
      ]
     },
     "execution_count": 24,
     "metadata": {},
     "output_type": "execute_result"
    }
   ],
   "source": [
    "olcumler.loc[:, ('Cemil', 'Tansiyon')]"
   ]
  },
  {
   "cell_type": "markdown",
   "metadata": {},
   "source": [
    "Bu index tuple'ları içinde bölümleme yapılmaz. Yani `olcumler.loc[:, (:, 'Tansiyon')]` hata verir.\n",
    "\n",
    "Bu bölümleme işlemini Python ile gelen `slice()` fonksiyonu ile yapabilirsiniz ama daha iyi yolu Pandas'ın `IndexSlice` nesnesini kullanmaktır."
   ]
  },
  {
   "cell_type": "code",
   "execution_count": 25,
   "metadata": {},
   "outputs": [
    {
     "data": {
      "text/html": [
       "<div>\n",
       "<style scoped>\n",
       "    .dataframe tbody tr th:only-of-type {\n",
       "        vertical-align: middle;\n",
       "    }\n",
       "\n",
       "    .dataframe tbody tr th {\n",
       "        vertical-align: top;\n",
       "    }\n",
       "\n",
       "    .dataframe thead tr th {\n",
       "        text-align: left;\n",
       "    }\n",
       "\n",
       "    .dataframe thead tr:last-of-type th {\n",
       "        text-align: right;\n",
       "    }\n",
       "</style>\n",
       "<table border=\"1\" class=\"dataframe\">\n",
       "  <thead>\n",
       "    <tr>\n",
       "      <th></th>\n",
       "      <th>Kişi</th>\n",
       "      <th>Faruk</th>\n",
       "      <th>Cemil</th>\n",
       "      <th>Tarık</th>\n",
       "    </tr>\n",
       "    <tr>\n",
       "      <th></th>\n",
       "      <th>Ölçülen</th>\n",
       "      <th>Tansiyon</th>\n",
       "      <th>Tansiyon</th>\n",
       "      <th>Tansiyon</th>\n",
       "    </tr>\n",
       "    <tr>\n",
       "      <th>Yıl</th>\n",
       "      <th>Dönem</th>\n",
       "      <th></th>\n",
       "      <th></th>\n",
       "      <th></th>\n",
       "    </tr>\n",
       "  </thead>\n",
       "  <tbody>\n",
       "    <tr>\n",
       "      <th rowspan=\"2\" valign=\"top\">2015</th>\n",
       "      <th>Şubat</th>\n",
       "      <td>103</td>\n",
       "      <td>119</td>\n",
       "      <td>114</td>\n",
       "    </tr>\n",
       "    <tr>\n",
       "      <th>Eylül</th>\n",
       "      <td>70</td>\n",
       "      <td>76</td>\n",
       "      <td>106</td>\n",
       "    </tr>\n",
       "    <tr>\n",
       "      <th rowspan=\"2\" valign=\"top\">2020</th>\n",
       "      <th>Şubat</th>\n",
       "      <td>75</td>\n",
       "      <td>107</td>\n",
       "      <td>83</td>\n",
       "    </tr>\n",
       "    <tr>\n",
       "      <th>Eylül</th>\n",
       "      <td>119</td>\n",
       "      <td>128</td>\n",
       "      <td>79</td>\n",
       "    </tr>\n",
       "  </tbody>\n",
       "</table>\n",
       "</div>"
      ],
      "text/plain": [
       "Kişi          Faruk    Cemil    Tarık\n",
       "Ölçülen    Tansiyon Tansiyon Tansiyon\n",
       "Yıl  Dönem                           \n",
       "2015 Şubat      103      119      114\n",
       "     Eylül       70       76      106\n",
       "2020 Şubat       75      107       83\n",
       "     Eylül      119      128       79"
      ]
     },
     "execution_count": 25,
     "metadata": {},
     "output_type": "execute_result"
    }
   ],
   "source": [
    "idx = pd.IndexSlice\n",
    "olcumler.loc[:, idx[:, 'Tansiyon']]"
   ]
  },
  {
   "cell_type": "markdown",
   "metadata": {},
   "source": [
    "### Çoklu Index'in Yapısını Değiştirme\n",
    "\n",
    "Çoklu Indexlenmiş dizilerle çalışmak için veriyi nasıl çevirip aktaracağınızı bilmeniz çok önemlidir. Veri kaybetmeden çevirmenin birçok yolu var. Bunlardan `stack()` ve `unstack()` fonksiyonlarını az önce gördük. Şimdi bu yöntemleri inceleyeceğiz.??\n",
    "\n",
    "### Sıralı ve Sıralanmamış Index\n",
    "\n",
    "Eğer Index sıralı değilse MultiIndex index sırasının önemli olduğu, bölümleme gibi, işlemlerde hata verir. Anlamak için sıralanmamış indexlere sahip şu diziye bakalım."
   ]
  },
  {
   "cell_type": "code",
   "execution_count": 26,
   "metadata": {},
   "outputs": [
    {
     "data": {
      "text/plain": [
       "harf  sayı\n",
       "a     1       0.898970\n",
       "      2       0.997711\n",
       "c     1       0.544904\n",
       "      2       0.182005\n",
       "b     1       0.127931\n",
       "      2       0.131567\n",
       "dtype: float64"
      ]
     },
     "execution_count": 26,
     "metadata": {},
     "output_type": "execute_result"
    }
   ],
   "source": [
    "index = pd.MultiIndex.from_product([['a', 'c', 'b'], [1, 2]])\n",
    "index\n",
    "veri = pd.Series(np.random.rand(6), index=index)\n",
    "veri.index.names = ['harf', 'sayı']\n",
    "veri"
   ]
  },
  {
   "cell_type": "markdown",
   "metadata": {},
   "source": [
    "`veri['a':'b']` şeklinde bölümleme işlemi yaparsak hata verdiğiniz görürsünüz. Çünkü görüntüde öyle olsa da `\"a\"` ilk, `\"b\"` sonuncu index değildir.\n",
    "\n",
    "Bölümleme ve benzer işlemler için indexlerin sıralı olması gerekir. Indexleri sıralamak için Pandas `sort_index()` ve `sortlevel()` gibi birtakım fonksiyonlar bulundurur. Biz kolay olduğu için `sort_index()` fonksiyonunu kullanacağız. "
   ]
  },
  {
   "cell_type": "code",
   "execution_count": 27,
   "metadata": {},
   "outputs": [
    {
     "data": {
      "text/plain": [
       "harf  sayı\n",
       "a     1       0.898970\n",
       "      2       0.997711\n",
       "b     1       0.127931\n",
       "      2       0.131567\n",
       "c     1       0.544904\n",
       "      2       0.182005\n",
       "dtype: float64"
      ]
     },
     "execution_count": 27,
     "metadata": {},
     "output_type": "execute_result"
    }
   ],
   "source": [
    "veri = veri.sort_index()\n",
    "veri"
   ]
  },
  {
   "cell_type": "markdown",
   "metadata": {},
   "source": [
    "Indexler sıralandıktan sonra bölümleme ve diğer işlemleri yapabilirsiniz."
   ]
  },
  {
   "cell_type": "code",
   "execution_count": 28,
   "metadata": {},
   "outputs": [
    {
     "data": {
      "text/plain": [
       "harf  sayı\n",
       "a     1       0.898970\n",
       "      2       0.997711\n",
       "b     1       0.127931\n",
       "      2       0.131567\n",
       "dtype: float64"
      ]
     },
     "execution_count": 28,
     "metadata": {},
     "output_type": "execute_result"
    }
   ],
   "source": [
    "veri['a':'b']"
   ]
  },
  {
   "cell_type": "markdown",
   "metadata": {},
   "source": [
    "### stack() ve unstack()\n",
    "\n",
    "Daha önce de gördüğümüz üzere, `unstack()` fonksiyonu MultiIndex yapısını diziye çevirir. `stack()` ise tam tersini yapar."
   ]
  },
  {
   "cell_type": "markdown",
   "metadata": {},
   "source": [
    "### Indexleri Ayarlama\n",
    "\n",
    "`reset_index()` fonksiyonu, Index adlarını sütuna çevirerek Serie'yi DataFrame'e dönüştürür. Index olmadığından adı olmayan veriye de ismi `name` parametresi ile verebilirsiniz."
   ]
  },
  {
   "cell_type": "code",
   "execution_count": 29,
   "metadata": {},
   "outputs": [
    {
     "data": {
      "text/plain": [
       "Yer        Yıl \n",
       "Ankara     2010    4771716\n",
       "           2015    5270575\n",
       "Muş        2010     406886\n",
       "           2015     408728\n",
       "Gümüşhane  2010     129618\n",
       "           2015     151449\n",
       "dtype: int64"
      ]
     },
     "execution_count": 29,
     "metadata": {},
     "output_type": "execute_result"
    }
   ],
   "source": [
    "nufus"
   ]
  },
  {
   "cell_type": "code",
   "execution_count": 30,
   "metadata": {},
   "outputs": [
    {
     "data": {
      "text/html": [
       "<div>\n",
       "<style scoped>\n",
       "    .dataframe tbody tr th:only-of-type {\n",
       "        vertical-align: middle;\n",
       "    }\n",
       "\n",
       "    .dataframe tbody tr th {\n",
       "        vertical-align: top;\n",
       "    }\n",
       "\n",
       "    .dataframe thead th {\n",
       "        text-align: right;\n",
       "    }\n",
       "</style>\n",
       "<table border=\"1\" class=\"dataframe\">\n",
       "  <thead>\n",
       "    <tr style=\"text-align: right;\">\n",
       "      <th></th>\n",
       "      <th>Yer</th>\n",
       "      <th>Yıl</th>\n",
       "      <th>Nüfus</th>\n",
       "    </tr>\n",
       "  </thead>\n",
       "  <tbody>\n",
       "    <tr>\n",
       "      <th>0</th>\n",
       "      <td>Ankara</td>\n",
       "      <td>2010</td>\n",
       "      <td>4771716</td>\n",
       "    </tr>\n",
       "    <tr>\n",
       "      <th>1</th>\n",
       "      <td>Ankara</td>\n",
       "      <td>2015</td>\n",
       "      <td>5270575</td>\n",
       "    </tr>\n",
       "    <tr>\n",
       "      <th>2</th>\n",
       "      <td>Muş</td>\n",
       "      <td>2010</td>\n",
       "      <td>406886</td>\n",
       "    </tr>\n",
       "    <tr>\n",
       "      <th>3</th>\n",
       "      <td>Muş</td>\n",
       "      <td>2015</td>\n",
       "      <td>408728</td>\n",
       "    </tr>\n",
       "    <tr>\n",
       "      <th>4</th>\n",
       "      <td>Gümüşhane</td>\n",
       "      <td>2010</td>\n",
       "      <td>129618</td>\n",
       "    </tr>\n",
       "    <tr>\n",
       "      <th>5</th>\n",
       "      <td>Gümüşhane</td>\n",
       "      <td>2015</td>\n",
       "      <td>151449</td>\n",
       "    </tr>\n",
       "  </tbody>\n",
       "</table>\n",
       "</div>"
      ],
      "text/plain": [
       "         Yer   Yıl    Nüfus\n",
       "0     Ankara  2010  4771716\n",
       "1     Ankara  2015  5270575\n",
       "2        Muş  2010   406886\n",
       "3        Muş  2015   408728\n",
       "4  Gümüşhane  2010   129618\n",
       "5  Gümüşhane  2015   151449"
      ]
     },
     "execution_count": 30,
     "metadata": {},
     "output_type": "execute_result"
    }
   ],
   "source": [
    "nufus_df = nufus.reset_index(name='Nüfus')\n",
    "nufus_df"
   ]
  },
  {
   "cell_type": "markdown",
   "metadata": {},
   "source": [
    "Gerçek hayatta bulacağınız veriler yukarıdakine benzer olacak. `set_index()` fonksiyonu da DataFrame'leri MultiIndex DataFrame yapısına çevirir. Parametre olarak liste halinde index'e çevirmek istediğiniz sütun adlarını alır."
   ]
  },
  {
   "cell_type": "code",
   "execution_count": 31,
   "metadata": {},
   "outputs": [
    {
     "data": {
      "text/html": [
       "<div>\n",
       "<style scoped>\n",
       "    .dataframe tbody tr th:only-of-type {\n",
       "        vertical-align: middle;\n",
       "    }\n",
       "\n",
       "    .dataframe tbody tr th {\n",
       "        vertical-align: top;\n",
       "    }\n",
       "\n",
       "    .dataframe thead th {\n",
       "        text-align: right;\n",
       "    }\n",
       "</style>\n",
       "<table border=\"1\" class=\"dataframe\">\n",
       "  <thead>\n",
       "    <tr style=\"text-align: right;\">\n",
       "      <th></th>\n",
       "      <th></th>\n",
       "      <th>Nüfus</th>\n",
       "    </tr>\n",
       "    <tr>\n",
       "      <th>Yer</th>\n",
       "      <th>Yıl</th>\n",
       "      <th></th>\n",
       "    </tr>\n",
       "  </thead>\n",
       "  <tbody>\n",
       "    <tr>\n",
       "      <th rowspan=\"2\" valign=\"top\">Ankara</th>\n",
       "      <th>2010</th>\n",
       "      <td>4771716</td>\n",
       "    </tr>\n",
       "    <tr>\n",
       "      <th>2015</th>\n",
       "      <td>5270575</td>\n",
       "    </tr>\n",
       "    <tr>\n",
       "      <th rowspan=\"2\" valign=\"top\">Muş</th>\n",
       "      <th>2010</th>\n",
       "      <td>406886</td>\n",
       "    </tr>\n",
       "    <tr>\n",
       "      <th>2015</th>\n",
       "      <td>408728</td>\n",
       "    </tr>\n",
       "    <tr>\n",
       "      <th rowspan=\"2\" valign=\"top\">Gümüşhane</th>\n",
       "      <th>2010</th>\n",
       "      <td>129618</td>\n",
       "    </tr>\n",
       "    <tr>\n",
       "      <th>2015</th>\n",
       "      <td>151449</td>\n",
       "    </tr>\n",
       "  </tbody>\n",
       "</table>\n",
       "</div>"
      ],
      "text/plain": [
       "                  Nüfus\n",
       "Yer       Yıl          \n",
       "Ankara    2010  4771716\n",
       "          2015  5270575\n",
       "Muş       2010   406886\n",
       "          2015   408728\n",
       "Gümüşhane 2010   129618\n",
       "          2015   151449"
      ]
     },
     "execution_count": 31,
     "metadata": {},
     "output_type": "execute_result"
    }
   ],
   "source": [
    "nufus_df.set_index(['Yer', 'Yıl'])"
   ]
  },
  {
   "cell_type": "markdown",
   "metadata": {},
   "source": [
    "## MultiIndex Yapısında Genel Veriler\n",
    "\n",
    "Daha önce de gördüğümüz üzere Pandas'ın `mean()`, `sum()` ve `max()` gibi veri hakkında genel bilgi almamızı sağlayan fonksiyonları vardı. MultiIndex kullanan verilerde bu fonksiyonlar `level` adında parametre alır. `level` parametresi bilgilerin hangi seviye düzeyinde işleneceğini belirtir."
   ]
  },
  {
   "cell_type": "code",
   "execution_count": 32,
   "metadata": {},
   "outputs": [
    {
     "data": {
      "text/html": [
       "<div>\n",
       "<style scoped>\n",
       "    .dataframe tbody tr th:only-of-type {\n",
       "        vertical-align: middle;\n",
       "    }\n",
       "\n",
       "    .dataframe tbody tr th {\n",
       "        vertical-align: top;\n",
       "    }\n",
       "\n",
       "    .dataframe thead tr th {\n",
       "        text-align: left;\n",
       "    }\n",
       "\n",
       "    .dataframe thead tr:last-of-type th {\n",
       "        text-align: right;\n",
       "    }\n",
       "</style>\n",
       "<table border=\"1\" class=\"dataframe\">\n",
       "  <thead>\n",
       "    <tr>\n",
       "      <th></th>\n",
       "      <th>Kişi</th>\n",
       "      <th colspan=\"2\" halign=\"left\">Faruk</th>\n",
       "      <th colspan=\"2\" halign=\"left\">Cemil</th>\n",
       "      <th colspan=\"2\" halign=\"left\">Tarık</th>\n",
       "    </tr>\n",
       "    <tr>\n",
       "      <th></th>\n",
       "      <th>Ölçülen</th>\n",
       "      <th>Kilo</th>\n",
       "      <th>Tansiyon</th>\n",
       "      <th>Kilo</th>\n",
       "      <th>Tansiyon</th>\n",
       "      <th>Kilo</th>\n",
       "      <th>Tansiyon</th>\n",
       "    </tr>\n",
       "    <tr>\n",
       "      <th>Yıl</th>\n",
       "      <th>Dönem</th>\n",
       "      <th></th>\n",
       "      <th></th>\n",
       "      <th></th>\n",
       "      <th></th>\n",
       "      <th></th>\n",
       "      <th></th>\n",
       "    </tr>\n",
       "  </thead>\n",
       "  <tbody>\n",
       "    <tr>\n",
       "      <th rowspan=\"2\" valign=\"top\">2015</th>\n",
       "      <th>Şubat</th>\n",
       "      <td>77</td>\n",
       "      <td>103</td>\n",
       "      <td>77</td>\n",
       "      <td>119</td>\n",
       "      <td>66</td>\n",
       "      <td>114</td>\n",
       "    </tr>\n",
       "    <tr>\n",
       "      <th>Eylül</th>\n",
       "      <td>92</td>\n",
       "      <td>70</td>\n",
       "      <td>79</td>\n",
       "      <td>76</td>\n",
       "      <td>84</td>\n",
       "      <td>106</td>\n",
       "    </tr>\n",
       "    <tr>\n",
       "      <th rowspan=\"2\" valign=\"top\">2020</th>\n",
       "      <th>Şubat</th>\n",
       "      <td>70</td>\n",
       "      <td>75</td>\n",
       "      <td>88</td>\n",
       "      <td>107</td>\n",
       "      <td>96</td>\n",
       "      <td>83</td>\n",
       "    </tr>\n",
       "    <tr>\n",
       "      <th>Eylül</th>\n",
       "      <td>93</td>\n",
       "      <td>119</td>\n",
       "      <td>55</td>\n",
       "      <td>128</td>\n",
       "      <td>93</td>\n",
       "      <td>79</td>\n",
       "    </tr>\n",
       "  </tbody>\n",
       "</table>\n",
       "</div>"
      ],
      "text/plain": [
       "Kişi       Faruk          Cemil          Tarık         \n",
       "Ölçülen     Kilo Tansiyon  Kilo Tansiyon  Kilo Tansiyon\n",
       "Yıl  Dönem                                             \n",
       "2015 Şubat    77      103    77      119    66      114\n",
       "     Eylül    92       70    79       76    84      106\n",
       "2020 Şubat    70       75    88      107    96       83\n",
       "     Eylül    93      119    55      128    93       79"
      ]
     },
     "execution_count": 32,
     "metadata": {},
     "output_type": "execute_result"
    }
   ],
   "source": [
    "olcumler"
   ]
  },
  {
   "cell_type": "code",
   "execution_count": 33,
   "metadata": {},
   "outputs": [
    {
     "data": {
      "text/plain": [
       "Kişi   Ölçülen \n",
       "Faruk  Kilo         93\n",
       "       Tansiyon    119\n",
       "Cemil  Kilo         88\n",
       "       Tansiyon    128\n",
       "Tarık  Kilo         96\n",
       "       Tansiyon    114\n",
       "dtype: int64"
      ]
     },
     "execution_count": 33,
     "metadata": {},
     "output_type": "execute_result"
    }
   ],
   "source": [
    "olcumler.max()"
   ]
  },
  {
   "cell_type": "code",
   "execution_count": 34,
   "metadata": {},
   "outputs": [
    {
     "data": {
      "text/html": [
       "<div>\n",
       "<style scoped>\n",
       "    .dataframe tbody tr th:only-of-type {\n",
       "        vertical-align: middle;\n",
       "    }\n",
       "\n",
       "    .dataframe tbody tr th {\n",
       "        vertical-align: top;\n",
       "    }\n",
       "\n",
       "    .dataframe thead tr th {\n",
       "        text-align: left;\n",
       "    }\n",
       "\n",
       "    .dataframe thead tr:last-of-type th {\n",
       "        text-align: right;\n",
       "    }\n",
       "</style>\n",
       "<table border=\"1\" class=\"dataframe\">\n",
       "  <thead>\n",
       "    <tr>\n",
       "      <th>Kişi</th>\n",
       "      <th colspan=\"2\" halign=\"left\">Faruk</th>\n",
       "      <th colspan=\"2\" halign=\"left\">Cemil</th>\n",
       "      <th colspan=\"2\" halign=\"left\">Tarık</th>\n",
       "    </tr>\n",
       "    <tr>\n",
       "      <th>Ölçülen</th>\n",
       "      <th>Kilo</th>\n",
       "      <th>Tansiyon</th>\n",
       "      <th>Kilo</th>\n",
       "      <th>Tansiyon</th>\n",
       "      <th>Kilo</th>\n",
       "      <th>Tansiyon</th>\n",
       "    </tr>\n",
       "    <tr>\n",
       "      <th>Yıl</th>\n",
       "      <th></th>\n",
       "      <th></th>\n",
       "      <th></th>\n",
       "      <th></th>\n",
       "      <th></th>\n",
       "      <th></th>\n",
       "    </tr>\n",
       "  </thead>\n",
       "  <tbody>\n",
       "    <tr>\n",
       "      <th>2015</th>\n",
       "      <td>92</td>\n",
       "      <td>103</td>\n",
       "      <td>79</td>\n",
       "      <td>119</td>\n",
       "      <td>84</td>\n",
       "      <td>114</td>\n",
       "    </tr>\n",
       "    <tr>\n",
       "      <th>2020</th>\n",
       "      <td>93</td>\n",
       "      <td>119</td>\n",
       "      <td>88</td>\n",
       "      <td>128</td>\n",
       "      <td>96</td>\n",
       "      <td>83</td>\n",
       "    </tr>\n",
       "  </tbody>\n",
       "</table>\n",
       "</div>"
      ],
      "text/plain": [
       "Kişi    Faruk          Cemil          Tarık         \n",
       "Ölçülen  Kilo Tansiyon  Kilo Tansiyon  Kilo Tansiyon\n",
       "Yıl                                                 \n",
       "2015       92      103    79      119    84      114\n",
       "2020       93      119    88      128    96       83"
      ]
     },
     "execution_count": 34,
     "metadata": {},
     "output_type": "execute_result"
    }
   ],
   "source": [
    "olcumler.max(level='Yıl')"
   ]
  },
  {
   "cell_type": "markdown",
   "metadata": {},
   "source": [
    "`axis` parametresi 0:index, 1:sütun üzerinde işlem yapar."
   ]
  },
  {
   "cell_type": "code",
   "execution_count": 35,
   "metadata": {},
   "outputs": [
    {
     "data": {
      "text/html": [
       "<div>\n",
       "<style scoped>\n",
       "    .dataframe tbody tr th:only-of-type {\n",
       "        vertical-align: middle;\n",
       "    }\n",
       "\n",
       "    .dataframe tbody tr th {\n",
       "        vertical-align: top;\n",
       "    }\n",
       "\n",
       "    .dataframe thead th {\n",
       "        text-align: right;\n",
       "    }\n",
       "</style>\n",
       "<table border=\"1\" class=\"dataframe\">\n",
       "  <thead>\n",
       "    <tr style=\"text-align: right;\">\n",
       "      <th></th>\n",
       "      <th>Ölçülen</th>\n",
       "      <th>Kilo</th>\n",
       "      <th>Tansiyon</th>\n",
       "    </tr>\n",
       "    <tr>\n",
       "      <th>Yıl</th>\n",
       "      <th>Dönem</th>\n",
       "      <th></th>\n",
       "      <th></th>\n",
       "    </tr>\n",
       "  </thead>\n",
       "  <tbody>\n",
       "    <tr>\n",
       "      <th rowspan=\"2\" valign=\"top\">2015</th>\n",
       "      <th>Şubat</th>\n",
       "      <td>77</td>\n",
       "      <td>119</td>\n",
       "    </tr>\n",
       "    <tr>\n",
       "      <th>Eylül</th>\n",
       "      <td>92</td>\n",
       "      <td>106</td>\n",
       "    </tr>\n",
       "    <tr>\n",
       "      <th rowspan=\"2\" valign=\"top\">2020</th>\n",
       "      <th>Şubat</th>\n",
       "      <td>96</td>\n",
       "      <td>107</td>\n",
       "    </tr>\n",
       "    <tr>\n",
       "      <th>Eylül</th>\n",
       "      <td>93</td>\n",
       "      <td>128</td>\n",
       "    </tr>\n",
       "  </tbody>\n",
       "</table>\n",
       "</div>"
      ],
      "text/plain": [
       "Ölçülen     Kilo  Tansiyon\n",
       "Yıl  Dönem                \n",
       "2015 Şubat    77       119\n",
       "     Eylül    92       106\n",
       "2020 Şubat    96       107\n",
       "     Eylül    93       128"
      ]
     },
     "execution_count": 35,
     "metadata": {},
     "output_type": "execute_result"
    }
   ],
   "source": [
    "olcumler.max(axis=1, level='Ölçülen')"
   ]
  },
  {
   "cell_type": "markdown",
   "metadata": {},
   "source": [
    "## Panel Veri Türü\n",
    "\n",
    "Pandas'ta henüz bahsetmediğimiz iki veri yapısı daha var. Bunlar, üç ve dört boyutlu diziye de benzetebileceğimiz `pd.Panel` ve `pd.Panel4D` yapılarıdır. Bu yapılarda da veri seçimi, bölümlemesi ve diğer işlemler benzer şekilde yapılır.\n",
    "\n",
    "MultiIndex yapısı, çok boyutlu dizileri daha kolay ve kullanışlı ifade eder. Ayrıca dizi boyutu çoğaldıkça gerçek hayattaki verilerden de uzaklaşır. Elbette Panel ve Panel4D yapılarının gerekli olduğu durumlar olabilir. Ama MultiIndex kadar çok kullanılmaz."
   ]
  }
 ],
 "metadata": {
  "kernelspec": {
   "display_name": "Python 3",
   "language": "python",
   "name": "python3"
  },
  "language_info": {
   "codemirror_mode": {
    "name": "ipython",
    "version": 3
   },
   "file_extension": ".py",
   "mimetype": "text/x-python",
   "name": "python",
   "nbconvert_exporter": "python",
   "pygments_lexer": "ipython3",
   "version": "3.8.8"
  }
 },
 "nbformat": 4,
 "nbformat_minor": 4
}

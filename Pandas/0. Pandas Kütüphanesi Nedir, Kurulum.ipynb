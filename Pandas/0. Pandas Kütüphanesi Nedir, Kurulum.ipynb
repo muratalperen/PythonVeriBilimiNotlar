{
 "cells": [
  {
   "cell_type": "markdown",
   "metadata": {},
   "source": [
    "Pandas; Numpy üzerinden geliştirilmiş, Dataframe çalışmalarına olanak sağlayan bir kütüphanedir.\n",
    "\n",
    "DataFrame'ler satır ve sütunları olan, farklı veri tiplerini bir arada bulundurabilen, çok boyutlu dizilerdir. Pandas ile DataFrameler üzerinde çok çeşitli işlemler yapılabilir.\n",
    "\n",
    "## Pandas Kurma\n",
    "\n",
    "Pandas'ı kurmak için Numpy'ın yüklü olması gerekir. Pandas kurmak diğer kütüphanelere benzer şekilde, kaynak kodundan derleyebilir veya **pip** kullanabilirsiniz.\n",
    "\n",
    "    pip3 install pandas\n",
    "\n",
    "Numpy'da kısaltma olarak np kullanıldığı gibi Pandas'ta da pd kullanılır."
   ]
  },
  {
   "cell_type": "code",
   "execution_count": 1,
   "metadata": {
    "scrolled": true
   },
   "outputs": [
    {
     "name": "stdout",
     "output_type": "stream",
     "text": [
      "1.2.4\n"
     ]
    }
   ],
   "source": [
    "import pandas as pd\n",
    "print(pd.__version__)"
   ]
  }
 ],
 "metadata": {
  "kernelspec": {
   "display_name": "Python 3",
   "language": "python",
   "name": "python3"
  },
  "language_info": {
   "codemirror_mode": {
    "name": "ipython",
    "version": 3
   },
   "file_extension": ".py",
   "mimetype": "text/x-python",
   "name": "python",
   "nbconvert_exporter": "python",
   "pygments_lexer": "ipython3",
   "version": "3.8.8"
  }
 },
 "nbformat": 4,
 "nbformat_minor": 4
}

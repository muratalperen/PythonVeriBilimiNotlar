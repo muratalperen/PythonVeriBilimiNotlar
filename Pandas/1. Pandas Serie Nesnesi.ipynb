{
 "cells": [
  {
   "cell_type": "markdown",
   "metadata": {},
   "source": [
    "Serie nesnesi, indexlenmiş tek boyutlu dizidir. `pd.Series` ile Iterable veri türlerinden (dizi, liste vb.) üretilebilir:"
   ]
  },
  {
   "cell_type": "code",
   "execution_count": 1,
   "metadata": {},
   "outputs": [],
   "source": [
    "import pandas as pd"
   ]
  },
  {
   "cell_type": "code",
   "execution_count": 2,
   "metadata": {},
   "outputs": [
    {
     "name": "stdout",
     "output_type": "stream",
     "text": [
      "Serie:\n",
      "0    10\n",
      "1    20\n",
      "2    30\n",
      "3    40\n",
      "dtype: int64\n",
      "Değerler: [10 20 30 40]\n",
      "Index: RangeIndex(start=0, stop=4, step=1)\n"
     ]
    }
   ],
   "source": [
    "seri = pd.Series([10, 20, 30, 40])\n",
    "print(\"Serie:\\n\", seri, sep=\"\")\n",
    "print(\"Değerler:\", seri.values)\n",
    "print(\"Index:\", seri.index)"
   ]
  },
  {
   "cell_type": "markdown",
   "metadata": {},
   "source": [
    "Serie'lerin ilk satırlarına `head`, son satırlarına `tail` ile ulaşabilirsiniz. Varsayılan olarak 5 tane gösterirler. Parametre olarak vereceğiniz sayı ile kaç tane gösterileceğini ayarlayabilirsiniz."
   ]
  },
  {
   "cell_type": "code",
   "execution_count": 3,
   "metadata": {},
   "outputs": [
    {
     "data": {
      "text/plain": [
       "0    10\n",
       "1    20\n",
       "dtype: int64"
      ]
     },
     "execution_count": 3,
     "metadata": {},
     "output_type": "execute_result"
    }
   ],
   "source": [
    "seri.head(2)"
   ]
  },
  {
   "cell_type": "markdown",
   "metadata": {},
   "source": [
    "Numpy ile benzer yöntemlerle verilere erişebilirsiniz:"
   ]
  },
  {
   "cell_type": "code",
   "execution_count": 4,
   "metadata": {},
   "outputs": [
    {
     "name": "stdout",
     "output_type": "stream",
     "text": [
      "30\n",
      "2    30\n",
      "dtype: int64\n"
     ]
    }
   ],
   "source": [
    "print(seri[2])\n",
    "print(seri[2:3])"
   ]
  },
  {
   "cell_type": "markdown",
   "metadata": {},
   "source": [
    "##  Serie ve Numpy Dizileri\n",
    "\n",
    "Serie'lerin Numpy dizilerinden başlıca farkları; Numpy'da indisler sayı iken, serie'lerde indisler tanımlanabilir."
   ]
  },
  {
   "cell_type": "code",
   "execution_count": 5,
   "metadata": {},
   "outputs": [
    {
     "name": "stdout",
     "output_type": "stream",
     "text": [
      "20\n",
      "20\n"
     ]
    }
   ],
   "source": [
    "sri = pd.Series([10, 20, 30, 40], index=['a', 'b', 'c', 'd'])\n",
    "print(sri['b'])\n",
    "print(sri[1])"
   ]
  },
  {
   "cell_type": "markdown",
   "metadata": {},
   "source": [
    "Ardışık veya bir kurala uygun index koymak zorunda da değilsiniz."
   ]
  },
  {
   "cell_type": "code",
   "execution_count": 6,
   "metadata": {},
   "outputs": [
    {
     "data": {
      "text/plain": [
       "14      1\n",
       "ind     2\n",
       "11      3\n",
       "True    4\n",
       "dtype: int64"
      ]
     },
     "execution_count": 6,
     "metadata": {},
     "output_type": "execute_result"
    }
   ],
   "source": [
    "pd.Series([1, 2, 3, 4], index=[14, 'ind', 11, True])"
   ]
  },
  {
   "cell_type": "markdown",
   "metadata": {},
   "source": [
    "Bir elemana yeri veya indexi ile ulaşabilirsiniz. Elemana `[1]` gibi yeri ile ulaşmaya örtülü (**implicit**) index, `[\"b\"]` gibi belirttiğimiz index ile ulaşmaya da açık (**explicit**) index denir.\n",
    "\n",
    "## Serie ve Sözlükler (Dictionary)\n",
    "\n",
    "İndis tanımlanabilmesi yönüyle Serie'ler sözlük'lere (dictionary) benzer. Ancak Numpy dizilerinin Python dizilerinden daha performanslı olması gibi, Serie'ler de sözlüklerden daha performanslıdır ve kullanışlıdır. Sözlükler kolaylıkla Serie'lere çevrilebilir."
   ]
  },
  {
   "cell_type": "code",
   "execution_count": 7,
   "metadata": {},
   "outputs": [
    {
     "name": "stdout",
     "output_type": "stream",
     "text": [
      "Plakalar: İstanbul    34\n",
      "İzmir       35\n",
      "Ankara       6\n",
      "Adana        1\n",
      "Düzce       81\n",
      "dtype: int64\n",
      "\n",
      "İzmir plaka: 35\n"
     ]
    }
   ],
   "source": [
    "plaka_sozluk = {\n",
    "    'İstanbul': 34,\n",
    "    'İzmir': 35,\n",
    "    'Ankara': 6,\n",
    "    'Adana': 1,\n",
    "    'Düzce': 81\n",
    "}\n",
    "plaka = pd.Series(plaka_sozluk)\n",
    "print(\"Plakalar:\", plaka)\n",
    "print(\"\\nİzmir plaka:\", plaka['İzmir'])"
   ]
  },
  {
   "cell_type": "markdown",
   "metadata": {},
   "source": [
    "Sözlük özelliklerine ek olarak Serie'lerde, bölümleme (slicing) gibi dizilerde kullanılan işlemler uygulanabilir:"
   ]
  },
  {
   "cell_type": "code",
   "execution_count": 8,
   "metadata": {},
   "outputs": [
    {
     "data": {
      "text/plain": [
       "İzmir     35\n",
       "Ankara     6\n",
       "Adana      1\n",
       "dtype: int64"
      ]
     },
     "execution_count": 8,
     "metadata": {},
     "output_type": "execute_result"
    }
   ],
   "source": [
    "plaka['İzmir':'Adana']"
   ]
  },
  {
   "cell_type": "markdown",
   "metadata": {},
   "source": [
    "Bu gibi özelliklere ayrıntılı olarak [Pandas Veri Indexleme ve Seçme](#) bölümünde değineceğiz.\n",
    "\n",
    "## Serie Oluşturma ve Index\n",
    "\n",
    "    pd.Series(veri, index=indexVar)\n",
    "\n",
    "Serie kısaca yukarıdaki şekilde oluşturulur. `index` isteğe bağlı ancak önemli bir parametredir. Indexler Serie'yi şekillendirebilir.\n",
    "\n",
    "Veriyi skaler (sıfır boyutlu) verirsek, Serie indexe göre şekillenir:"
   ]
  },
  {
   "cell_type": "code",
   "execution_count": 9,
   "metadata": {},
   "outputs": [
    {
     "data": {
      "text/plain": [
       "100    5\n",
       "200    5\n",
       "300    5\n",
       "dtype: int64"
      ]
     },
     "execution_count": 9,
     "metadata": {},
     "output_type": "execute_result"
    }
   ],
   "source": [
    "pd.Series(5, index=[100, 200, 300])"
   ]
  },
  {
   "cell_type": "markdown",
   "metadata": {},
   "source": [
    "Sözlüğü veri olarak verirken Index ile diziyi şekillendirebilirsiniz:"
   ]
  },
  {
   "cell_type": "code",
   "execution_count": 10,
   "metadata": {},
   "outputs": [
    {
     "data": {
      "text/plain": [
       "3    c\n",
       "2    a\n",
       "2    a\n",
       "1    b\n",
       "dtype: object"
      ]
     },
     "execution_count": 10,
     "metadata": {},
     "output_type": "execute_result"
    }
   ],
   "source": [
    "pd.Series({2:'a', 1:'b', 3:'c'}, index=[3, 2, 2, 1])"
   ]
  }
 ],
 "metadata": {
  "kernelspec": {
   "display_name": "Python 3",
   "language": "python",
   "name": "python3"
  },
  "language_info": {
   "codemirror_mode": {
    "name": "ipython",
    "version": 3
   },
   "file_extension": ".py",
   "mimetype": "text/x-python",
   "name": "python",
   "nbconvert_exporter": "python",
   "pygments_lexer": "ipython3",
   "version": "3.8.8"
  }
 },
 "nbformat": 4,
 "nbformat_minor": 4
}
